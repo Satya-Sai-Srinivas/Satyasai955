{
 "cells": [
  {
   "cell_type": "code",
   "execution_count": null,
   "id": "b28efb0b",
   "metadata": {},
   "outputs": [],
   "source": []
  },
  {
   "cell_type": "code",
   "execution_count": 5,
   "id": "61a0fad2",
   "metadata": {},
   "outputs": [
    {
     "name": "stdout",
     "output_type": "stream",
     "text": [
      "Enter a number : 4\n",
      "Not Weird\n"
     ]
    }
   ],
   "source": [
    "n = int(input(\"Enter a number : \"))\n",
    "\n",
    "if n in range(2,101,2):\n",
    "    if 2<= n <=5:\n",
    "        print(\"Not Weird\")\n",
    "    elif 6<= n <=20:\n",
    "        print(\"Weird\")\n",
    "    else:\n",
    "        print(\"Not Weird\")\n",
    "else:\n",
    "    print(\"Weird\")"
   ]
  },
  {
   "cell_type": "code",
   "execution_count": null,
   "id": "7625e90b",
   "metadata": {},
   "outputs": [],
   "source": []
  },
  {
   "cell_type": "code",
   "execution_count": 16,
   "id": "2cfee5d0",
   "metadata": {},
   "outputs": [],
   "source": [
    "def is_leap(year):\n",
    "    #leap = False\n",
    "    # Write your logic here\n",
    "    if year%4 == 0:\n",
    "        print(True)\n",
    "    else:\n",
    "        print(False)\n",
    "\n"
   ]
  },
  {
   "cell_type": "code",
   "execution_count": 17,
   "id": "26766bda",
   "metadata": {},
   "outputs": [
    {
     "name": "stdout",
     "output_type": "stream",
     "text": [
      "2002\n",
      "False\n"
     ]
    }
   ],
   "source": [
    "year = int(input())\n",
    "is_leap(year)"
   ]
  },
  {
   "cell_type": "code",
   "execution_count": null,
   "id": "d4487d54",
   "metadata": {},
   "outputs": [],
   "source": []
  },
  {
   "cell_type": "code",
   "execution_count": 194,
   "id": "e271862b",
   "metadata": {},
   "outputs": [
    {
     "name": "stdout",
     "output_type": "stream",
     "text": [
      "12345"
     ]
    }
   ],
   "source": [
    "for value in range(1,6):\n",
    "    print(value,end = \"\")"
   ]
  },
  {
   "cell_type": "code",
   "execution_count": null,
   "id": "c1c7f576",
   "metadata": {},
   "outputs": [],
   "source": []
  },
  {
   "cell_type": "code",
   "execution_count": 28,
   "id": "d78fb914",
   "metadata": {},
   "outputs": [],
   "source": [
    "string = \"satya\""
   ]
  },
  {
   "cell_type": "code",
   "execution_count": 42,
   "id": "a2552ada",
   "metadata": {},
   "outputs": [
    {
     "data": {
      "text/plain": [
       "True"
      ]
     },
     "execution_count": 42,
     "metadata": {},
     "output_type": "execute_result"
    }
   ],
   "source": [
    "\"SAF\".isupper()"
   ]
  },
  {
   "cell_type": "markdown",
   "id": "31218357",
   "metadata": {},
   "source": [
    "### 3) You are given a string .\n",
    "Your task is to find out if the string  contains: alphanumeric characters, alphabetical characters, digits, lowercase and uppercase characters."
   ]
  },
  {
   "cell_type": "code",
   "execution_count": 134,
   "id": "87dd8c0f",
   "metadata": {},
   "outputs": [
    {
     "name": "stdout",
     "output_type": "stream",
     "text": [
      "True\n",
      "True\n",
      "True\n",
      "True\n",
      "True\n"
     ]
    }
   ],
   "source": [
    "s= \"qA2\"\n",
    "list1 = []\n",
    "list2 = []\n",
    "list3 = []\n",
    "list4 = []\n",
    "list5 = []\n",
    "\n",
    "\n",
    "for char in s:\n",
    "    list1.append(char.isalnum())\n",
    "    list2.append(char.isalpha())\n",
    "    list3.append(char.isdigit())\n",
    "    list4.append(char.islower())\n",
    "    list5.append(char.isupper())\n",
    "    \n",
    "if list1.count(True) >= 1:\n",
    "    print(True)\n",
    "else:\n",
    "    print(False)\n",
    "    \n",
    "if list2.count(True) >= 1:\n",
    "    print(True)\n",
    "else:\n",
    "    print(False)\n",
    "    \n",
    "if list3.count(True) >= 1:\n",
    "    print(True)\n",
    "else:\n",
    "    print(False)\n",
    "    \n",
    "if list4.count(True) >= 1:\n",
    "    print(True)\n",
    "else:\n",
    "    print(False)\n",
    "    \n",
    "if list5.count(True) >= 1:\n",
    "    print(True)\n",
    "else:\n",
    "    print(False)\n",
    "    "
   ]
  },
  {
   "cell_type": "markdown",
   "id": "2ad96220",
   "metadata": {},
   "source": [
    "### 4) HACKER RANK logo design"
   ]
  },
  {
   "cell_type": "code",
   "execution_count": 192,
   "id": "208ca8e8",
   "metadata": {},
   "outputs": [
    {
     "name": "stdout",
     "output_type": "stream",
     "text": [
      "5\n",
      "    H    \n",
      "   HHH   \n",
      "  HHHHH  \n",
      " HHHHHHH \n",
      "HHHHHHHHH\n",
      "  HHHHH               HHHHH             \n",
      "  HHHHH               HHHHH             \n",
      "  HHHHH               HHHHH             \n",
      "  HHHHH               HHHHH             \n",
      "  HHHHH               HHHHH             \n",
      "  HHHHH               HHHHH             \n",
      "  HHHHHHHHHHHHHHHHHHHHHHHHH   \n",
      "  HHHHHHHHHHHHHHHHHHHHHHHHH   \n",
      "  HHHHHHHHHHHHHHHHHHHHHHHHH   \n",
      "  HHHHH               HHHHH             \n",
      "  HHHHH               HHHHH             \n",
      "  HHHHH               HHHHH             \n",
      "  HHHHH               HHHHH             \n",
      "  HHHHH               HHHHH             \n",
      "  HHHHH               HHHHH             \n",
      "                    HHHHHHHHH \n",
      "                     HHHHHHH  \n",
      "                      HHHHH   \n",
      "                       HHH    \n",
      "                        H     \n"
     ]
    }
   ],
   "source": [
    "#Replace all ______ with rjust, ljust or center. \n",
    "\n",
    "thickness = int(input()) #This must be an odd number\n",
    "c = 'H'\n",
    "\n",
    "#Top Cone\n",
    "for i in range(thickness):\n",
    "    print((c*i).rjust(thickness-1)+c+(c*i).ljust(thickness-1))\n",
    "\n",
    "#Top Pillars\n",
    "for i in range(thickness+1):\n",
    "    print((c*thickness).center(thickness*2)+(c*thickness).center(thickness*6))\n",
    "\n",
    "#Middle Belt\n",
    "for i in range((thickness+1)//2):\n",
    "    print((c*thickness*5).center(thickness*6))    \n",
    "\n",
    "#Bottom Pillars\n",
    "for i in range(thickness+1):\n",
    "    print((c*thickness).center(thickness*2)+(c*thickness).center(thickness*6))    \n",
    "\n",
    "#Bottom Cone\n",
    "for i in range(thickness):\n",
    "    print(((c*(thickness-i-1)).rjust(thickness)+c+(c*(thickness-i-1)).ljust(thickness)).rjust(thickness*6))"
   ]
  },
  {
   "cell_type": "code",
   "execution_count": null,
   "id": "0d655547",
   "metadata": {},
   "outputs": [],
   "source": []
  },
  {
   "cell_type": "code",
   "execution_count": 215,
   "id": "ac463ff9",
   "metadata": {},
   "outputs": [
    {
     "ename": "NameError",
     "evalue": "name 'ABCDEFGHIJKLIMNOQRSTUVWXYZ' is not defined",
     "output_type": "error",
     "traceback": [
      "\u001b[1;31m---------------------------------------------------------------------------\u001b[0m",
      "\u001b[1;31mNameError\u001b[0m                                 Traceback (most recent call last)",
      "\u001b[1;32m~\\AppData\\Local\\Temp/ipykernel_5444/3694660826.py\u001b[0m in \u001b[0;36m<module>\u001b[1;34m\u001b[0m\n\u001b[1;32m----> 1\u001b[1;33m \u001b[0mstring\u001b[0m \u001b[1;33m=\u001b[0m \u001b[0mABCDEFGHIJKLIMNOQRSTUVWXYZ\u001b[0m\u001b[1;33m\u001b[0m\u001b[1;33m\u001b[0m\u001b[0m\n\u001b[0m\u001b[0;32m      2\u001b[0m \u001b[0mwidth\u001b[0m \u001b[1;33m=\u001b[0m \u001b[1;36m4\u001b[0m\u001b[1;33m\u001b[0m\u001b[1;33m\u001b[0m\u001b[0m\n\u001b[0;32m      3\u001b[0m \u001b[0mcount\u001b[0m \u001b[1;33m=\u001b[0m \u001b[1;36m0\u001b[0m\u001b[1;33m\u001b[0m\u001b[1;33m\u001b[0m\u001b[0m\n\u001b[0;32m      4\u001b[0m \u001b[1;33m\u001b[0m\u001b[0m\n\u001b[0;32m      5\u001b[0m \u001b[1;32mfor\u001b[0m \u001b[0mchar\u001b[0m \u001b[1;32min\u001b[0m \u001b[0mstring\u001b[0m\u001b[1;33m:\u001b[0m\u001b[1;33m\u001b[0m\u001b[1;33m\u001b[0m\u001b[0m\n",
      "\u001b[1;31mNameError\u001b[0m: name 'ABCDEFGHIJKLIMNOQRSTUVWXYZ' is not defined"
     ]
    }
   ],
   "source": [
    "string = \"ABCDEFGHIJKLIMNOQRSTUVWXYZ\"\n",
    "width = 4\n",
    "count = 0\n",
    "\n",
    "for char in string:\n",
    "    print(char,end=\"\")\n",
    "    count = count + 1\n",
    "    if count%width == 0:\n",
    "        print()"
   ]
  },
  {
   "cell_type": "code",
   "execution_count": 244,
   "id": "36bc4633",
   "metadata": {},
   "outputs": [
    {
     "name": "stdout",
     "output_type": "stream",
     "text": [
      "|..|..|\n",
      "|..|..|\n",
      "|..|..|\n",
      "|..|..|\n",
      "|..|..|\n",
      "|..|..|\n",
      "|..|..|\n"
     ]
    }
   ],
   "source": [
    "N = 7\n",
    "M = 21\n",
    "c = \"|\"\n",
    "d = \".\"\n",
    "for i in range(N):\n",
    "    print(c++c+d+d+c)"
   ]
  },
  {
   "cell_type": "code",
   "execution_count": null,
   "id": "9ed7b547",
   "metadata": {},
   "outputs": [],
   "source": []
  },
  {
   "cell_type": "code",
   "execution_count": null,
   "id": "2af1b4d8",
   "metadata": {},
   "outputs": [],
   "source": []
  }
 ],
 "metadata": {
  "kernelspec": {
   "display_name": "Python 3 (ipykernel)",
   "language": "python",
   "name": "python3"
  },
  "language_info": {
   "codemirror_mode": {
    "name": "ipython",
    "version": 3
   },
   "file_extension": ".py",
   "mimetype": "text/x-python",
   "name": "python",
   "nbconvert_exporter": "python",
   "pygments_lexer": "ipython3",
   "version": "3.10.0"
  }
 },
 "nbformat": 4,
 "nbformat_minor": 5
}
