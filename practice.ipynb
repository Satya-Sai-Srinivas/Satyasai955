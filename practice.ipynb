{
 "cells": [
  {
   "cell_type": "code",
   "execution_count": 1,
   "id": "60fb2ac8",
   "metadata": {},
   "outputs": [],
   "source": [
    "mylist = [1,2,3,4,5]"
   ]
  },
  {
   "cell_type": "code",
   "execution_count": 2,
   "id": "2a6820c7",
   "metadata": {},
   "outputs": [
    {
     "data": {
      "text/plain": [
       "[1, 2, 3, 4, 5]"
      ]
     },
     "execution_count": 2,
     "metadata": {},
     "output_type": "execute_result"
    }
   ],
   "source": [
    "mylist"
   ]
  },
  {
   "cell_type": "code",
   "execution_count": 2,
   "id": "b5872c6a",
   "metadata": {},
   "outputs": [],
   "source": [
    "mylist.reverse()"
   ]
  },
  {
   "cell_type": "code",
   "execution_count": 3,
   "id": "1b75dd77",
   "metadata": {},
   "outputs": [
    {
     "data": {
      "text/plain": [
       "[5, 4, 3, 2, 1]"
      ]
     },
     "execution_count": 3,
     "metadata": {},
     "output_type": "execute_result"
    }
   ],
   "source": [
    "mylist"
   ]
  },
  {
   "cell_type": "code",
   "execution_count": null,
   "id": "e99c9206",
   "metadata": {},
   "outputs": [],
   "source": []
  },
  {
   "cell_type": "code",
   "execution_count": 3,
   "id": "84e6a4b2",
   "metadata": {},
   "outputs": [],
   "source": [
    "mylist.clear()"
   ]
  },
  {
   "cell_type": "code",
   "execution_count": 4,
   "id": "5ac30025",
   "metadata": {},
   "outputs": [
    {
     "data": {
      "text/plain": [
       "[]"
      ]
     },
     "execution_count": 4,
     "metadata": {},
     "output_type": "execute_result"
    }
   ],
   "source": [
    "mylist"
   ]
  },
  {
   "cell_type": "code",
   "execution_count": 1,
   "id": "cadaceea",
   "metadata": {},
   "outputs": [],
   "source": [
    "mylist = [1,2,3,4,5]"
   ]
  },
  {
   "cell_type": "code",
   "execution_count": 6,
   "id": "4adcc971",
   "metadata": {},
   "outputs": [
    {
     "data": {
      "text/plain": [
       "[1, 2, 3, 4, 5]"
      ]
     },
     "execution_count": 6,
     "metadata": {},
     "output_type": "execute_result"
    }
   ],
   "source": [
    "mylist.copy()"
   ]
  },
  {
   "cell_type": "code",
   "execution_count": 7,
   "id": "dc61d1a4",
   "metadata": {},
   "outputs": [],
   "source": [
    "newlist = mylist.copy()"
   ]
  },
  {
   "cell_type": "code",
   "execution_count": 8,
   "id": "f2d40eaa",
   "metadata": {},
   "outputs": [
    {
     "data": {
      "text/plain": [
       "[1, 2, 3, 4, 5]"
      ]
     },
     "execution_count": 8,
     "metadata": {},
     "output_type": "execute_result"
    }
   ],
   "source": [
    "newlist"
   ]
  },
  {
   "cell_type": "code",
   "execution_count": 9,
   "id": "49da8619",
   "metadata": {},
   "outputs": [],
   "source": [
    "newlist.insert(-2,6)"
   ]
  },
  {
   "cell_type": "code",
   "execution_count": 10,
   "id": "f6c337a3",
   "metadata": {},
   "outputs": [
    {
     "data": {
      "text/plain": [
       "[1, 2, 3, 6, 4, 5]"
      ]
     },
     "execution_count": 10,
     "metadata": {},
     "output_type": "execute_result"
    }
   ],
   "source": [
    "newlist"
   ]
  },
  {
   "cell_type": "code",
   "execution_count": 11,
   "id": "7c8d0be8",
   "metadata": {},
   "outputs": [],
   "source": [
    "last_number = newlist.pop() #it is taking out the value and storing the value in the variable that we have assigned"
   ]
  },
  {
   "cell_type": "code",
   "execution_count": 12,
   "id": "28b211b4",
   "metadata": {},
   "outputs": [
    {
     "data": {
      "text/plain": [
       "5"
      ]
     },
     "execution_count": 12,
     "metadata": {},
     "output_type": "execute_result"
    }
   ],
   "source": [
    "last_number"
   ]
  },
  {
   "cell_type": "code",
   "execution_count": 13,
   "id": "d89ceb38",
   "metadata": {},
   "outputs": [
    {
     "data": {
      "text/plain": [
       "[1, 2, 3, 6, 4]"
      ]
     },
     "execution_count": 13,
     "metadata": {},
     "output_type": "execute_result"
    }
   ],
   "source": [
    "newlist"
   ]
  },
  {
   "cell_type": "code",
   "execution_count": 14,
   "id": "d72e73c9",
   "metadata": {},
   "outputs": [],
   "source": [
    "newlist.remove(6)    #just only remove the value. we can say that it is the subset of pop()"
   ]
  },
  {
   "cell_type": "code",
   "execution_count": 1,
   "id": "99733189",
   "metadata": {},
   "outputs": [
    {
     "ename": "NameError",
     "evalue": "name 'newlist' is not defined",
     "output_type": "error",
     "traceback": [
      "\u001b[1;31m---------------------------------------------------------------------------\u001b[0m",
      "\u001b[1;31mNameError\u001b[0m                                 Traceback (most recent call last)",
      "\u001b[1;32m~\\AppData\\Local\\Temp/ipykernel_15072/1704463296.py\u001b[0m in \u001b[0;36m<module>\u001b[1;34m\u001b[0m\n\u001b[1;32m----> 1\u001b[1;33m \u001b[0mnewlist\u001b[0m\u001b[1;33m\u001b[0m\u001b[1;33m\u001b[0m\u001b[0m\n\u001b[0m",
      "\u001b[1;31mNameError\u001b[0m: name 'newlist' is not defined"
     ]
    }
   ],
   "source": [
    "newlist"
   ]
  },
  {
   "cell_type": "code",
   "execution_count": 16,
   "id": "06e39fd6",
   "metadata": {},
   "outputs": [
    {
     "data": {
      "text/plain": [
       "1"
      ]
     },
     "execution_count": 16,
     "metadata": {},
     "output_type": "execute_result"
    }
   ],
   "source": [
    "newlist.count(2)"
   ]
  },
  {
   "cell_type": "code",
   "execution_count": null,
   "id": "220da97d",
   "metadata": {},
   "outputs": [],
   "source": [
    "newlist.insert"
   ]
  },
  {
   "cell_type": "code",
   "execution_count": null,
   "id": "880c6597",
   "metadata": {},
   "outputs": [],
   "source": [
    "newlist.append"
   ]
  },
  {
   "cell_type": "code",
   "execution_count": 25,
   "id": "89e77559",
   "metadata": {},
   "outputs": [],
   "source": [
    "list1 = [2,4,3]\n",
    "list2 = [5,6,4]\n",
    "\n",
    "#list1.index[0]"
   ]
  },
  {
   "cell_type": "code",
   "execution_count": 9,
   "id": "4a57fee6",
   "metadata": {},
   "outputs": [
    {
     "data": {
      "text/plain": [
       "8"
      ]
     },
     "execution_count": 9,
     "metadata": {},
     "output_type": "execute_result"
    }
   ],
   "source": [
    "list1[1] + list2[2]"
   ]
  },
  {
   "cell_type": "code",
   "execution_count": 11,
   "id": "61f2d519",
   "metadata": {},
   "outputs": [],
   "source": [
    "list3 = []"
   ]
  },
  {
   "cell_type": "code",
   "execution_count": 30,
   "id": "6f26f655",
   "metadata": {},
   "outputs": [],
   "source": [
    "for index in range(len(list1)):\n",
    "    list3.append(list1[index] + list2[index])\n",
    "    "
   ]
  },
  {
   "cell_type": "code",
   "execution_count": 31,
   "id": "0214dcac",
   "metadata": {},
   "outputs": [
    {
     "data": {
      "text/plain": [
       "[7, 10, 7]"
      ]
     },
     "execution_count": 31,
     "metadata": {},
     "output_type": "execute_result"
    }
   ],
   "source": [
    "list3"
   ]
  },
  {
   "cell_type": "code",
   "execution_count": 31,
   "id": "35b6d11c",
   "metadata": {},
   "outputs": [],
   "source": [
    "list1 = [20,1,20,2,20,20,4,6,20,20,20,3,20]"
   ]
  },
  {
   "cell_type": "code",
   "execution_count": 5,
   "id": "5e28e76a",
   "metadata": {},
   "outputs": [
    {
     "name": "stdout",
     "output_type": "stream",
     "text": [
      "[1, 2, 4, 6, 3]\n"
     ]
    }
   ],
   "source": [
    "for value in range(list1.count(20)):\n",
    "    list1.remove(20)\n",
    "print(list1)"
   ]
  },
  {
   "cell_type": "code",
   "execution_count": 2,
   "id": "a3c112f1",
   "metadata": {},
   "outputs": [
    {
     "data": {
      "text/plain": [
       "8"
      ]
     },
     "execution_count": 2,
     "metadata": {},
     "output_type": "execute_result"
    }
   ],
   "source": [
    "list1.count(20)"
   ]
  },
  {
   "cell_type": "code",
   "execution_count": 14,
   "id": "f6b72c95",
   "metadata": {},
   "outputs": [
    {
     "name": "stdout",
     "output_type": "stream",
     "text": [
      "[20, 23, 1, 20, 2, 20, 20, 4, 6, 20, 20, 20, 3, 20]\n"
     ]
    }
   ],
   "source": [
    "list1.insert(1,23)\n",
    "print(list1)"
   ]
  },
  {
   "cell_type": "code",
   "execution_count": 32,
   "id": "efe77555",
   "metadata": {},
   "outputs": [
    {
     "ename": "IndexError",
     "evalue": "list index out of range",
     "output_type": "error",
     "traceback": [
      "\u001b[1;31m---------------------------------------------------------------------------\u001b[0m",
      "\u001b[1;31mIndexError\u001b[0m                                Traceback (most recent call last)",
      "\u001b[1;32m~\\AppData\\Local\\Temp/ipykernel_7032/2885688872.py\u001b[0m in \u001b[0;36m<module>\u001b[1;34m\u001b[0m\n\u001b[1;32m----> 1\u001b[1;33m \u001b[0mlist1\u001b[0m \u001b[1;33m=\u001b[0m \u001b[0mlist1\u001b[0m\u001b[1;33m[\u001b[0m\u001b[1;36m20\u001b[0m\u001b[1;33m]\u001b[0m\u001b[1;33m\u001b[0m\u001b[1;33m\u001b[0m\u001b[0m\n\u001b[0m",
      "\u001b[1;31mIndexError\u001b[0m: list index out of range"
     ]
    }
   ],
   "source": [
    "list1 = list1[]"
   ]
  },
  {
   "cell_type": "code",
   "execution_count": 20,
   "id": "0be846cc",
   "metadata": {},
   "outputs": [
    {
     "name": "stdout",
     "output_type": "stream",
     "text": [
      "0\n"
     ]
    }
   ],
   "source": [
    "index = list1.index(20)\n",
    "print(index)\n",
    "\n",
    "list1.remove(20)\n",
    "print(list1)\n",
    "\n",
    "list1.insert(index,20)\n",
    "print(list1)"
   ]
  },
  {
   "cell_type": "code",
   "execution_count": 21,
   "id": "31e617c7",
   "metadata": {},
   "outputs": [
    {
     "name": "stdout",
     "output_type": "stream",
     "text": [
      "[23, 1, 20, 2, 20, 20, 4, 6, 20, 20, 20, 3, 20]\n"
     ]
    }
   ],
   "source": [
    "list1.remove(20)\n",
    "print(list1)"
   ]
  },
  {
   "cell_type": "code",
   "execution_count": 22,
   "id": "fe9ea05a",
   "metadata": {},
   "outputs": [
    {
     "name": "stdout",
     "output_type": "stream",
     "text": [
      "[20, 23, 1, 20, 2, 20, 20, 4, 6, 20, 20, 20, 3, 20]\n"
     ]
    }
   ],
   "source": [
    "list1.remove(20)\n",
    "print(list1)\n",
    "\n",
    "list1.insert(index,20)\n",
    "print(list1)"
   ]
  },
  {
   "cell_type": "code",
   "execution_count": 26,
   "id": "7fd69896",
   "metadata": {},
   "outputs": [
    {
     "name": "stdout",
     "output_type": "stream",
     "text": [
      "[200, 23, 1, 20, 2, 20, 20, 4, 6, 20, 20, 20, 3, 20]\n"
     ]
    }
   ],
   "source": [
    "list1[0] = 200\n",
    "print(list1)"
   ]
  },
  {
   "cell_type": "code",
   "execution_count": 35,
   "id": "50587080",
   "metadata": {},
   "outputs": [
    {
     "ename": "TypeError",
     "evalue": "can only concatenate tuple (not \"int\") to tuple",
     "output_type": "error",
     "traceback": [
      "\u001b[1;31m---------------------------------------------------------------------------\u001b[0m",
      "\u001b[1;31mTypeError\u001b[0m                                 Traceback (most recent call last)",
      "\u001b[1;32m~\\AppData\\Local\\Temp/ipykernel_7032/1904917279.py\u001b[0m in \u001b[0;36m<module>\u001b[1;34m\u001b[0m\n\u001b[1;32m----> 1\u001b[1;33m \u001b[0mlist\u001b[0m\u001b[1;33m(\u001b[0m\u001b[1;33m(\u001b[0m\u001b[0mtuple_list\u001b[0m \u001b[1;33m+\u001b[0m \u001b[1;36m6\u001b[0m\u001b[1;33m)\u001b[0m\u001b[1;33m)\u001b[0m\u001b[1;33m\u001b[0m\u001b[1;33m\u001b[0m\u001b[0m\n\u001b[0m",
      "\u001b[1;31mTypeError\u001b[0m: can only concatenate tuple (not \"int\") to tuple"
     ]
    }
   ],
   "source": [
    "list((tuple_list + 6))"
   ]
  },
  {
   "cell_type": "code",
   "execution_count": 33,
   "id": "3ecfa86f",
   "metadata": {},
   "outputs": [],
   "source": [
    "tuple_list = tuple(mylist)"
   ]
  },
  {
   "cell_type": "code",
   "execution_count": 38,
   "id": "49cb79a5",
   "metadata": {},
   "outputs": [],
   "source": [
    "tuple_list = [6]"
   ]
  },
  {
   "cell_type": "code",
   "execution_count": 39,
   "id": "0b26f4c0",
   "metadata": {},
   "outputs": [
    {
     "data": {
      "text/plain": [
       "[1, 2, 3, 4, 5, 6]"
      ]
     },
     "execution_count": 39,
     "metadata": {},
     "output_type": "execute_result"
    }
   ],
   "source": [
    "mylist + tuple_list"
   ]
  },
  {
   "cell_type": "code",
   "execution_count": null,
   "id": "7cafd886",
   "metadata": {},
   "outputs": [],
   "source": []
  },
  {
   "cell_type": "code",
   "execution_count": null,
   "id": "d0345be4",
   "metadata": {},
   "outputs": [],
   "source": []
  },
  {
   "cell_type": "code",
   "execution_count": null,
   "id": "4e95586c",
   "metadata": {},
   "outputs": [],
   "source": []
  },
  {
   "cell_type": "code",
   "execution_count": null,
   "id": "e8d6038d",
   "metadata": {},
   "outputs": [],
   "source": []
  },
  {
   "cell_type": "markdown",
   "id": "4f0a3f75",
   "metadata": {},
   "source": [
    "# <centre> Tuple </centre>"
   ]
  },
  {
   "cell_type": "code",
   "execution_count": 4,
   "id": "ea7b04dc",
   "metadata": {},
   "outputs": [],
   "source": [
    "mytuple = (1,2,3,4,5,6,34,45,12) #index values = (0,1,2,3,4,5,6,7,8)"
   ]
  },
  {
   "cell_type": "markdown",
   "id": "37ce8b5a",
   "metadata": {},
   "source": [
    "supports indexing , both positive and negative"
   ]
  },
  {
   "cell_type": "code",
   "execution_count": 6,
   "id": "82fa0262",
   "metadata": {},
   "outputs": [
    {
     "data": {
      "text/plain": [
       "(4, 5, 6)"
      ]
     },
     "execution_count": 6,
     "metadata": {},
     "output_type": "execute_result"
    }
   ],
   "source": [
    "mytuple[3:6]   #slicing"
   ]
  },
  {
   "cell_type": "code",
   "execution_count": 7,
   "id": "8f6a083b",
   "metadata": {},
   "outputs": [
    {
     "data": {
      "text/plain": [
       "(4, 5, 6)"
      ]
     },
     "execution_count": 7,
     "metadata": {},
     "output_type": "execute_result"
    }
   ],
   "source": [
    "mytuple[-6:-3]"
   ]
  },
  {
   "cell_type": "code",
   "execution_count": 8,
   "id": "72f03a70",
   "metadata": {},
   "outputs": [
    {
     "data": {
      "text/plain": [
       "(2, 4, 6, 45)"
      ]
     },
     "execution_count": 8,
     "metadata": {},
     "output_type": "execute_result"
    }
   ],
   "source": [
    "mytuple[1::2] #lower boundary,upper boundary,step size"
   ]
  },
  {
   "cell_type": "markdown",
   "id": "4ec045cb",
   "metadata": {},
   "source": [
    "assigning or changing a number cant be done . No CHANGABILITY"
   ]
  },
  {
   "cell_type": "markdown",
   "id": "a6de2107",
   "metadata": {},
   "source": [
    "enumerate used in for loop"
   ]
  },
  {
   "cell_type": "code",
   "execution_count": 14,
   "id": "c648ca84",
   "metadata": {},
   "outputs": [
    {
     "name": "stdout",
     "output_type": "stream",
     "text": [
      "3\n"
     ]
    }
   ],
   "source": [
    "myvalue = 4\n",
    "for index,value in enumerate(mytuple):\n",
    "    if value == myvalue:\n",
    "        print(index)"
   ]
  },
  {
   "cell_type": "code",
   "execution_count": 15,
   "id": "614181aa",
   "metadata": {},
   "outputs": [
    {
     "data": {
      "text/plain": [
       "3"
      ]
     },
     "execution_count": 15,
     "metadata": {},
     "output_type": "execute_result"
    }
   ],
   "source": [
    "mytuple.index(4)"
   ]
  },
  {
   "cell_type": "code",
   "execution_count": 16,
   "id": "034d9f81",
   "metadata": {},
   "outputs": [],
   "source": [
    "a,b,c,d,e,f,g,h,i = mytuple #unpacking"
   ]
  },
  {
   "cell_type": "code",
   "execution_count": 17,
   "id": "1734b51f",
   "metadata": {},
   "outputs": [
    {
     "data": {
      "text/plain": [
       "1"
      ]
     },
     "execution_count": 17,
     "metadata": {},
     "output_type": "execute_result"
    }
   ],
   "source": [
    "a"
   ]
  },
  {
   "cell_type": "code",
   "execution_count": 18,
   "id": "b5470f8b",
   "metadata": {},
   "outputs": [
    {
     "data": {
      "text/plain": [
       "2"
      ]
     },
     "execution_count": 18,
     "metadata": {},
     "output_type": "execute_result"
    }
   ],
   "source": [
    "b"
   ]
  },
  {
   "cell_type": "code",
   "execution_count": 19,
   "id": "5c2696a0",
   "metadata": {},
   "outputs": [
    {
     "data": {
      "text/plain": [
       "3"
      ]
     },
     "execution_count": 19,
     "metadata": {},
     "output_type": "execute_result"
    }
   ],
   "source": [
    "c"
   ]
  },
  {
   "cell_type": "code",
   "execution_count": 20,
   "id": "f859e16b",
   "metadata": {},
   "outputs": [
    {
     "data": {
      "text/plain": [
       "4"
      ]
     },
     "execution_count": 20,
     "metadata": {},
     "output_type": "execute_result"
    }
   ],
   "source": [
    "d"
   ]
  },
  {
   "cell_type": "code",
   "execution_count": 21,
   "id": "e8f4c66b",
   "metadata": {},
   "outputs": [
    {
     "data": {
      "text/plain": [
       "5"
      ]
     },
     "execution_count": 21,
     "metadata": {},
     "output_type": "execute_result"
    }
   ],
   "source": [
    "e"
   ]
  },
  {
   "cell_type": "code",
   "execution_count": 22,
   "id": "af1b5823",
   "metadata": {},
   "outputs": [
    {
     "data": {
      "text/plain": [
       "12"
      ]
     },
     "execution_count": 22,
     "metadata": {},
     "output_type": "execute_result"
    }
   ],
   "source": [
    "i "
   ]
  },
  {
   "cell_type": "markdown",
   "id": "a7e9def5",
   "metadata": {},
   "source": [
    "#### in the same way packing also can be done in tuple"
   ]
  },
  {
   "cell_type": "code",
   "execution_count": 27,
   "id": "ca74e90d",
   "metadata": {},
   "outputs": [],
   "source": [
    "tuple1 = (1,2,3,4)"
   ]
  },
  {
   "cell_type": "code",
   "execution_count": 30,
   "id": "bd631c3a",
   "metadata": {},
   "outputs": [],
   "source": [
    "newtuple = tuple1[1:3]"
   ]
  },
  {
   "cell_type": "code",
   "execution_count": 31,
   "id": "c13889c4",
   "metadata": {},
   "outputs": [
    {
     "data": {
      "text/plain": [
       "(2, 3)"
      ]
     },
     "execution_count": 31,
     "metadata": {},
     "output_type": "execute_result"
    }
   ],
   "source": [
    "newtuple"
   ]
  },
  {
   "cell_type": "code",
   "execution_count": 33,
   "id": "25efe63b",
   "metadata": {},
   "outputs": [],
   "source": [
    "tuple2 = (1,[2,3],4)"
   ]
  },
  {
   "cell_type": "code",
   "execution_count": 34,
   "id": "a65a6dc4",
   "metadata": {},
   "outputs": [
    {
     "data": {
      "text/plain": [
       "[2, 3]"
      ]
     },
     "execution_count": 34,
     "metadata": {},
     "output_type": "execute_result"
    }
   ],
   "source": [
    "tuple2[1]"
   ]
  },
  {
   "cell_type": "code",
   "execution_count": 35,
   "id": "3cdc657b",
   "metadata": {},
   "outputs": [
    {
     "data": {
      "text/plain": [
       "list"
      ]
     },
     "execution_count": 35,
     "metadata": {},
     "output_type": "execute_result"
    }
   ],
   "source": [
    "type(tuple2[1]) #to know the type we use this"
   ]
  },
  {
   "cell_type": "code",
   "execution_count": 36,
   "id": "0f4abde7",
   "metadata": {},
   "outputs": [],
   "source": [
    "tuple2[1][1] = 222"
   ]
  },
  {
   "cell_type": "code",
   "execution_count": 37,
   "id": "665f26cb",
   "metadata": {},
   "outputs": [
    {
     "data": {
      "text/plain": [
       "(1, [2, 222], 4)"
      ]
     },
     "execution_count": 37,
     "metadata": {},
     "output_type": "execute_result"
    }
   ],
   "source": [
    "tuple2"
   ]
  },
  {
   "cell_type": "markdown",
   "id": "43a76e6f",
   "metadata": {},
   "source": [
    "some functions"
   ]
  },
  {
   "cell_type": "code",
   "execution_count": null,
   "id": "230501d5",
   "metadata": {},
   "outputs": [],
   "source": [
    "#min() \n",
    "#max()\n",
    "#len()"
   ]
  },
  {
   "cell_type": "markdown",
   "id": "75bef2a2",
   "metadata": {},
   "source": [
    "# <centre> set </centre>"
   ]
  },
  {
   "cell_type": "code",
   "execution_count": 40,
   "id": "364ce504",
   "metadata": {},
   "outputs": [],
   "source": [
    "set1 = {1,2,3,4}"
   ]
  },
  {
   "cell_type": "code",
   "execution_count": null,
   "id": "6fdc0ecd",
   "metadata": {},
   "outputs": [],
   "source": [
    "set1."
   ]
  },
  {
   "cell_type": "markdown",
   "id": "c4472da8",
   "metadata": {},
   "source": [
    "# dictionary"
   ]
  },
  {
   "cell_type": "code",
   "execution_count": 1,
   "id": "f8df9293",
   "metadata": {},
   "outputs": [],
   "source": [
    "#dict1 = {\"key1\": valu1 , \"key2\":value2}    #no slicing"
   ]
  },
  {
   "cell_type": "code",
   "execution_count": 15,
   "id": "f7e7e070",
   "metadata": {},
   "outputs": [],
   "source": [
    "dict1 = {\"a\":1 , \"b\":2 , \"c\":3}"
   ]
  },
  {
   "cell_type": "code",
   "execution_count": 2,
   "id": "4022f8c0",
   "metadata": {},
   "outputs": [
    {
     "data": {
      "text/plain": [
       "{'a': 1, 'b': 2, 'c': 3}"
      ]
     },
     "execution_count": 2,
     "metadata": {},
     "output_type": "execute_result"
    }
   ],
   "source": [
    "dict1"
   ]
  },
  {
   "cell_type": "code",
   "execution_count": 3,
   "id": "4acc8d0f",
   "metadata": {},
   "outputs": [
    {
     "data": {
      "text/plain": [
       "2"
      ]
     },
     "execution_count": 3,
     "metadata": {},
     "output_type": "execute_result"
    }
   ],
   "source": [
    "dict1.pop(\"b\")"
   ]
  },
  {
   "cell_type": "code",
   "execution_count": 4,
   "id": "dd4b4673",
   "metadata": {},
   "outputs": [
    {
     "data": {
      "text/plain": [
       "{'a': 1, 'c': 3}"
      ]
     },
     "execution_count": 4,
     "metadata": {},
     "output_type": "execute_result"
    }
   ],
   "source": [
    "dict1"
   ]
  },
  {
   "cell_type": "code",
   "execution_count": 5,
   "id": "f3ee1fcb",
   "metadata": {},
   "outputs": [],
   "source": [
    "keys = ['Ten', 'Twenty', 'Thirty']\n",
    "values = [10, 20, 30]\n"
   ]
  },
  {
   "cell_type": "code",
   "execution_count": 16,
   "id": "1c2915b7",
   "metadata": {},
   "outputs": [],
   "source": [
    "dict1[keys[0]] = values[0]"
   ]
  },
  {
   "cell_type": "code",
   "execution_count": 17,
   "id": "ebe65e77",
   "metadata": {},
   "outputs": [
    {
     "data": {
      "text/plain": [
       "{'a': 1, 'b': 2, 'c': 3, 'Ten': 10}"
      ]
     },
     "execution_count": 17,
     "metadata": {},
     "output_type": "execute_result"
    }
   ],
   "source": [
    "dict1"
   ]
  },
  {
   "cell_type": "code",
   "execution_count": 21,
   "id": "8b328eab",
   "metadata": {},
   "outputs": [],
   "source": [
    "#**F           -->remember ....sir will be telling in functions part"
   ]
  },
  {
   "cell_type": "code",
   "execution_count": 23,
   "id": "cd3ab9fe",
   "metadata": {},
   "outputs": [
    {
     "data": {
      "text/plain": [
       "1"
      ]
     },
     "execution_count": 23,
     "metadata": {},
     "output_type": "execute_result"
    }
   ],
   "source": [
    "dict1[\"a\"]"
   ]
  },
  {
   "cell_type": "code",
   "execution_count": null,
   "id": "6a72de6e",
   "metadata": {},
   "outputs": [],
   "source": []
  },
  {
   "cell_type": "code",
   "execution_count": 25,
   "id": "d3bcd2b8",
   "metadata": {},
   "outputs": [],
   "source": [
    "sampleDict = {   \"class\":{  \"student\":{  \"name\":\"Mike\",\"marks\":{ \"physics\":70,\"history\":80  }}  }  }\n",
    "               "
   ]
  },
  {
   "cell_type": "code",
   "execution_count": 30,
   "id": "40f1188d",
   "metadata": {},
   "outputs": [
    {
     "data": {
      "text/plain": [
       "80"
      ]
     },
     "execution_count": 30,
     "metadata": {},
     "output_type": "execute_result"
    }
   ],
   "source": [
    "sampleDict[\"class\"][\"student\"][\"marks\"][\"history\"]"
   ]
  },
  {
   "cell_type": "code",
   "execution_count": 11,
   "id": "8dc48c50",
   "metadata": {},
   "outputs": [],
   "source": [
    "dict1[\"Ten\",10] = 3 "
   ]
  },
  {
   "cell_type": "code",
   "execution_count": 38,
   "id": "69d5ae3e",
   "metadata": {},
   "outputs": [
    {
     "data": {
      "text/plain": [
       "'a'"
      ]
     },
     "execution_count": 38,
     "metadata": {},
     "output_type": "execute_result"
    }
   ],
   "source": [
    "min(dict1)"
   ]
  },
  {
   "cell_type": "code",
   "execution_count": 12,
   "id": "101c026b",
   "metadata": {},
   "outputs": [
    {
     "data": {
      "text/plain": [
       "{'a': 1, 'b': 2, 'c': 3, 'Ten': 10, ('Ten', 10): 3}"
      ]
     },
     "execution_count": 12,
     "metadata": {},
     "output_type": "execute_result"
    }
   ],
   "source": [
    "dict1"
   ]
  },
  {
   "cell_type": "code",
   "execution_count": 5,
   "id": "4b475841",
   "metadata": {},
   "outputs": [],
   "source": [
    "string = \"satya sai\""
   ]
  },
  {
   "cell_type": "code",
   "execution_count": 2,
   "id": "53d00921",
   "metadata": {},
   "outputs": [
    {
     "data": {
      "text/plain": [
       "'Satya'"
      ]
     },
     "execution_count": 2,
     "metadata": {},
     "output_type": "execute_result"
    }
   ],
   "source": [
    "string.capitalize()"
   ]
  },
  {
   "cell_type": "code",
   "execution_count": 6,
   "id": "1cce2a77",
   "metadata": {},
   "outputs": [
    {
     "data": {
      "text/plain": [
       "'satya sai'"
      ]
     },
     "execution_count": 6,
     "metadata": {},
     "output_type": "execute_result"
    }
   ],
   "source": [
    "string.casefold()"
   ]
  },
  {
   "cell_type": "code",
   "execution_count": 18,
   "id": "2e649637",
   "metadata": {},
   "outputs": [
    {
     "data": {
      "text/plain": [
       "dict_keys(['a', 'b', 'c', 'Ten'])"
      ]
     },
     "execution_count": 18,
     "metadata": {},
     "output_type": "execute_result"
    }
   ],
   "source": [
    "dict1.keys()"
   ]
  },
  {
   "cell_type": "code",
   "execution_count": 19,
   "id": "6fa68ed5",
   "metadata": {},
   "outputs": [
    {
     "data": {
      "text/plain": [
       "dict_values([1, 2, 3, 10])"
      ]
     },
     "execution_count": 19,
     "metadata": {},
     "output_type": "execute_result"
    }
   ],
   "source": [
    "dict1.values()"
   ]
  },
  {
   "cell_type": "code",
   "execution_count": 21,
   "id": "b57382b6",
   "metadata": {},
   "outputs": [
    {
     "data": {
      "text/plain": [
       "False"
      ]
     },
     "execution_count": 21,
     "metadata": {},
     "output_type": "execute_result"
    }
   ],
   "source": [
    "dict1.keys() == dict1.values()"
   ]
  },
  {
   "cell_type": "code",
   "execution_count": null,
   "id": "6b0c89ac",
   "metadata": {},
   "outputs": [],
   "source": []
  },
  {
   "cell_type": "code",
   "execution_count": 23,
   "id": "a37d7665",
   "metadata": {},
   "outputs": [],
   "source": [
    "D = {'Ten': 10, 'Twenty': 20, 'Thirty': 30}\n",
    "E = {'Thirty': 60, 'Fourty': 40, 'Fifty': 50}"
   ]
  },
  {
   "cell_type": "code",
   "execution_count": 24,
   "id": "fd8a6fd5",
   "metadata": {},
   "outputs": [
    {
     "name": "stdout",
     "output_type": "stream",
     "text": [
      "Thirty\n",
      "Fourty\n",
      "Fifty\n"
     ]
    }
   ],
   "source": [
    "for k in E.keys():\n",
    "    print(k)"
   ]
  },
  {
   "cell_type": "code",
   "execution_count": null,
   "id": "d7869476",
   "metadata": {},
   "outputs": [],
   "source": []
  },
  {
   "cell_type": "code",
   "execution_count": null,
   "id": "fbdc1849",
   "metadata": {},
   "outputs": [],
   "source": []
  },
  {
   "cell_type": "code",
   "execution_count": 25,
   "id": "94a967b0",
   "metadata": {},
   "outputs": [],
   "source": [
    "sampleDict = {\"name\": \"Kelly\",\"age\":25,\"salary\": 8000,\"city\": \"New york\"}\n",
    "keys = [\"name\", \"salary\"]\n",
    "new_dict = {}\n"
   ]
  },
  {
   "cell_type": "code",
   "execution_count": 39,
   "id": "5c375260",
   "metadata": {},
   "outputs": [
    {
     "name": "stdout",
     "output_type": "stream",
     "text": [
      "{'name': 'Kelly'}\n",
      "{'salary': 8000}\n"
     ]
    }
   ],
   "source": [
    "for k in keys:\n",
    "    new_dict = {k: sampleDict[k] }\n",
    "    print(new_dict)\n",
    "    dict(new_dict)"
   ]
  },
  {
   "cell_type": "code",
   "execution_count": 40,
   "id": "8093af4b",
   "metadata": {},
   "outputs": [
    {
     "data": {
      "text/plain": [
       "{'salary': 8000}"
      ]
     },
     "execution_count": 40,
     "metadata": {},
     "output_type": "execute_result"
    }
   ],
   "source": [
    "dict(new_dict)"
   ]
  },
  {
   "cell_type": "markdown",
   "id": "8106d0c3",
   "metadata": {},
   "source": [
    "# sums"
   ]
  },
  {
   "cell_type": "code",
   "execution_count": null,
   "id": "e791f75a",
   "metadata": {},
   "outputs": [],
   "source": [
    "1,2,3,5,6,8,11,14,15,17,18,19,21,22"
   ]
  },
  {
   "cell_type": "code",
   "execution_count": 1,
   "id": "16b49e93",
   "metadata": {},
   "outputs": [],
   "source": [
    "a = [1,2,3,5,6,8,14,15,17,18,19,21,22]\n",
    "b = [1,2,3,5,6,8,11,15,17,18,22]\n",
    "c = [1,2,6,8,11,14,15,17,18,19,21,22]\n",
    "d = [1,2,3,5,6,11,14,15,17,18,19,21,22]\n",
    "e = [1,2,3,5,6,11,14,15,17,18,19,21,22]\n",
    "x1 = [1,2,3,5,6,8,11,14,15,17,18,22]\n",
    "x2 = [1,2,3,5,6,8,14,18,19,21,22]\n",
    "x3 = [1,2,3,5,6,8,11,14,15,17,18,22]\n",
    "x4 = [1,2,6,8,11,18,19,21,22]\n",
    "x5 = [1,2,3,5,6,8,11,15,17,18,19,21,22]\n",
    "x6 = [1,2,3,5,6,8,11,14,15,17,18,19,21,22]\n",
    "x7 = [1,2,14,15,17,18,19,21,22]\n",
    "x8 = [1,2,3,5,6,8,14,15,17,18,19,21,22]\n",
    "x9 = [1,2,3,5,6,11,15,17,18,19,21,22]\n",
    "\n",
    "\n",
    "a+x1+x2+x3+10+20 = 69\n",
    "c+x2+x3+x4+16+4 = 72\n",
    "b+c+x3+x5+20+13 = 93\n",
    "d+x4+x6+x7+7+4 = 56\n",
    "c+x7+x5+x8+12+4 = 73\n",
    "e+x5+x8+x9+13+9 = 66"
   ]
  },
  {
   "cell_type": "code",
   "execution_count": null,
   "id": "7af82790",
   "metadata": {},
   "outputs": [],
   "source": [
    "a_+x1_+x2_+x3_+10+20 = 69\n",
    "c_+x2_+x3_+x4_+16+4 = 72\n",
    "b_+c_+x3_+x5_+20+13 = 93\n",
    "d_+x4_+x6_+x7_+7+4 = 56\n",
    "c_+x7_+x5_+x8_+12+4 = 73\n",
    "e_+x5_+x8_+x9_+13+9 = 66"
   ]
  },
  {
   "cell_type": "code",
   "execution_count": 13,
   "id": "4b002c5c",
   "metadata": {},
   "outputs": [
    {
     "name": "stdout",
     "output_type": "stream",
     "text": [
      "1\n",
      "2\n",
      "3\n",
      "5\n",
      "6\n",
      "8\n",
      "11\n",
      "14\n",
      "15\n",
      "17\n",
      "18\n",
      "22\n"
     ]
    }
   ],
   "source": [
    "for index in range(len(x1)):\n",
    "    x1_ = x1[index]\n",
    "    print(x1_)"
   ]
  },
  {
   "cell_type": "code",
   "execution_count": 76,
   "id": "b404de34",
   "metadata": {},
   "outputs": [
    {
     "ename": "KeyboardInterrupt",
     "evalue": "",
     "output_type": "error",
     "traceback": [
      "\u001b[1;31m---------------------------------------------------------------------------\u001b[0m",
      "\u001b[1;31mKeyboardInterrupt\u001b[0m                         Traceback (most recent call last)",
      "\u001b[1;32m~\\AppData\\Local\\Temp/ipykernel_21088/2427752962.py\u001b[0m in \u001b[0;36m<module>\u001b[1;34m\u001b[0m\n\u001b[0;32m     26\u001b[0m                                                 \u001b[1;32mfor\u001b[0m \u001b[0mindex8\u001b[0m \u001b[1;32min\u001b[0m \u001b[0mrange\u001b[0m\u001b[1;33m(\u001b[0m\u001b[0mlen\u001b[0m\u001b[1;33m(\u001b[0m\u001b[0mx8\u001b[0m\u001b[1;33m)\u001b[0m\u001b[1;33m)\u001b[0m\u001b[1;33m:\u001b[0m\u001b[1;33m\u001b[0m\u001b[1;33m\u001b[0m\u001b[0m\n\u001b[0;32m     27\u001b[0m                                                     \u001b[0mx8_\u001b[0m \u001b[1;33m=\u001b[0m \u001b[0mx8\u001b[0m\u001b[1;33m[\u001b[0m\u001b[0mindex8\u001b[0m\u001b[1;33m]\u001b[0m\u001b[1;33m\u001b[0m\u001b[1;33m\u001b[0m\u001b[0m\n\u001b[1;32m---> 28\u001b[1;33m                                                     \u001b[1;32mfor\u001b[0m \u001b[0mindex9\u001b[0m \u001b[1;32min\u001b[0m \u001b[0mrange\u001b[0m\u001b[1;33m(\u001b[0m\u001b[0mlen\u001b[0m\u001b[1;33m(\u001b[0m\u001b[0mx9\u001b[0m\u001b[1;33m)\u001b[0m\u001b[1;33m)\u001b[0m\u001b[1;33m:\u001b[0m\u001b[1;33m\u001b[0m\u001b[1;33m\u001b[0m\u001b[0m\n\u001b[0m\u001b[0;32m     29\u001b[0m                                                         \u001b[0mx9_\u001b[0m \u001b[1;33m=\u001b[0m \u001b[0mx9\u001b[0m\u001b[1;33m[\u001b[0m\u001b[0mindex9\u001b[0m\u001b[1;33m]\u001b[0m\u001b[1;33m\u001b[0m\u001b[1;33m\u001b[0m\u001b[0m\n\u001b[0;32m     30\u001b[0m                                                         \u001b[0mcount\u001b[0m \u001b[1;33m=\u001b[0m \u001b[0mcount\u001b[0m \u001b[1;33m+\u001b[0m \u001b[1;36m1\u001b[0m\u001b[1;33m\u001b[0m\u001b[1;33m\u001b[0m\u001b[0m\n",
      "\u001b[1;31mKeyboardInterrupt\u001b[0m: "
     ]
    }
   ],
   "source": [
    "count = 0\n",
    "for indexa in range(len(a)):\n",
    "    a_ = a[indexa] \n",
    "    for indexb in range(len(b)):\n",
    "        b_ = b[indexb]\n",
    "        for indexc in range(len(c)):\n",
    "            c_ = c[indexc]\n",
    "            for indexd in range(len(d)):\n",
    "                d_ = d[indexd]\n",
    "                for indexe in range(len(e)):\n",
    "                    e_ = e[indexe]\n",
    "                    for index1 in range(len(x1)):\n",
    "                        x1_ = x1[index1]\n",
    "                        for index2 in range(len(x2)):\n",
    "                            x2_ = x2[index2]\n",
    "                            for index3 in range(len(x3)):\n",
    "                                x3_ = x3[index3]\n",
    "                                for index4 in range(len(x4)):\n",
    "                                    x4_ = x4[index4]\n",
    "                                    for index5 in range(len(x5)):\n",
    "                                        x5_ = x5[index5]\n",
    "                                        for index6 in range(len(x6)):\n",
    "                                            x6_ = x6[index6]\n",
    "                                            for index7 in range(len(x7)):\n",
    "                                                x7_ = x7[index7]\n",
    "                                                for index8 in range(len(x8)):\n",
    "                                                    x8_ = x8[index8]\n",
    "                                                    for index9 in range(len(x9)):\n",
    "                                                        x9_ = x9[index9]\n",
    "                                                        count = count + 1\n",
    "                                                        if a_+x1_+x2_+x3_+10+20 == 69:\n",
    "                                                            if c_+x2_+x3_+x4_+16+4 == 72:\n",
    "                                                                if b_+c_+x3_+x5_+20+13 == 93:\n",
    "                                                                    if d_+x4_+x6_+x7_+7+4 == 56:\n",
    "                                                                        if c_+x7_+x5_+x8_+12+4 == 73:\n",
    "                                                                            if e_+x5_+x8_+x9_+13+9 == 66:\n",
    "                                                                                print(a_,b_,c_,d_,e_,x1_,x2_,x3_,x4_,x5_,x6_,x7_,x8_,x9_)\n",
    "print(count)\n",
    "                                                                    \n",
    "                \n",
    "    "
   ]
  },
  {
   "cell_type": "code",
   "execution_count": null,
   "id": "314f00c7",
   "metadata": {},
   "outputs": [],
   "source": [
    "a_+x1_+x2_+x3_+10+20 = 69"
   ]
  },
  {
   "cell_type": "code",
   "execution_count": null,
   "id": "f4af4439",
   "metadata": {},
   "outputs": [],
   "source": [
    "if a_+x1_+x2_+x3_+10+20 == 69:\n",
    "                                    count = count + 1\n",
    "                                    print(a_,x1_,x2_,x3_"
   ]
  },
  {
   "cell_type": "code",
   "execution_count": 71,
   "id": "90502b6a",
   "metadata": {},
   "outputs": [
    {
     "name": "stdout",
     "output_type": "stream",
     "text": [
      "1 5 9\n",
      "1 6 8\n",
      "1 8 6\n",
      "1 9 5\n",
      "2 4 9\n",
      "2 5 8\n",
      "2 6 7\n",
      "2 7 6\n",
      "2 8 5\n",
      "2 9 4\n",
      "3 4 8\n",
      "3 5 7\n",
      "3 7 5\n",
      "3 8 4\n",
      "3 9 3\n",
      "4 2 9\n",
      "4 3 8\n",
      "4 5 6\n",
      "4 6 5\n",
      "4 7 4\n",
      "4 8 3\n",
      "4 9 2\n",
      "5 1 9\n",
      "5 2 8\n",
      "5 3 7\n",
      "5 4 6\n",
      "5 6 4\n",
      "5 7 3\n",
      "5 8 2\n",
      "5 9 1\n",
      "6 1 8\n",
      "6 2 7\n",
      "6 3 6\n",
      "6 4 5\n",
      "6 5 4\n",
      "6 7 2\n",
      "6 8 1\n",
      "7 1 7\n",
      "7 2 6\n",
      "7 3 5\n",
      "7 5 3\n",
      "7 6 2\n",
      "8 1 6\n",
      "8 2 5\n",
      "8 3 4\n",
      "8 4 3\n",
      "8 5 2\n",
      "8 6 1\n",
      "9 1 5\n",
      "9 2 4\n",
      "9 4 2\n",
      "9 5 1\n"
     ]
    }
   ],
   "source": [
    "g1 = [1,2,3,4,5,6,7,8,9]\n",
    "g2 = [1,2,3,4,5,6,7,8,9]\n",
    "g3 = [1,2,3,4,5,6,7,8,9]\n",
    "for index in range(len(g1)):\n",
    "    g1_ = g1[index]\n",
    "    for index1 in range(len(g2)):\n",
    "        g2_ = g2[index1]\n",
    "        for index2 in range(len(g3)):\n",
    "            g3_ = g3[index2]\n",
    "            if g1_ + g2_ + g3_ == 15:\n",
    "                if g1_ != g2_ != g3_ :\n",
    "                    print(g1_,g2_,g3_)\n",
    "            \n"
   ]
  },
  {
   "cell_type": "code",
   "execution_count": 59,
   "id": "f55ee76f",
   "metadata": {},
   "outputs": [
    {
     "name": "stdout",
     "output_type": "stream",
     "text": [
      "5 1 5\n",
      "1\n"
     ]
    }
   ],
   "source": [
    "g1 = [12,2,3,4,5,13,14,1]\n",
    "g2 = [2,3,4,5,13,14,1]\n",
    "g3 = [13,14,1,2,3,4,5]\n",
    "for index in range(len(g1)):\n",
    "    g1_ = g1[index]\n",
    "    for index1 in range(len(g2)):\n",
    "        g2_ = g2[index1]\n",
    "        for index2 in range(len(g3)):\n",
    "            g3_ = g3[index2]\n",
    "            if g1_ + g2_ == 6:\n",
    "                #print(g1_,g2_)\n",
    "                if g1_ + g3_ == 10:\n",
    "                    print(g1_,g2_,g3_)\n",
    "                    print(g2_)"
   ]
  },
  {
   "cell_type": "code",
   "execution_count": 1,
   "id": "9412cfcf",
   "metadata": {},
   "outputs": [
    {
     "ename": "SyntaxError",
     "evalue": "invalid syntax. Perhaps you forgot a comma? (Temp/ipykernel_25740/600933994.py, line 1)",
     "output_type": "error",
     "traceback": [
      "\u001b[1;36m  File \u001b[1;32m\"C:\\Users\\satya\\AppData\\Local\\Temp/ipykernel_25740/600933994.py\"\u001b[1;36m, line \u001b[1;32m1\u001b[0m\n\u001b[1;33m    restart pc\u001b[0m\n\u001b[1;37m    ^\u001b[0m\n\u001b[1;31mSyntaxError\u001b[0m\u001b[1;31m:\u001b[0m invalid syntax. Perhaps you forgot a comma?\n"
     ]
    }
   ],
   "source": [
    "restart pc\n",
    "import os\n",
    "os.system(\"shutdown/r/t1\")"
   ]
  },
  {
   "cell_type": "code",
   "execution_count": 4,
   "id": "8e901187",
   "metadata": {},
   "outputs": [
    {
     "name": "stdout",
     "output_type": "stream",
     "text": [
      "the sum of 1.5 and6.3 is 7.8\n"
     ]
    }
   ],
   "source": [
    "num1 = 1.5\n",
    "num2 = 6.3\n",
    "sum1 = num1 + num2\n",
    "print(f\"the sum of {num1} and{num2} is {sum1}\")"
   ]
  },
  {
   "cell_type": "code",
   "execution_count": 5,
   "id": "c7b31d02",
   "metadata": {},
   "outputs": [
    {
     "name": "stdout",
     "output_type": "stream",
     "text": [
      " the sub of 1.9 and3.9is -2.0\n"
     ]
    }
   ],
   "source": [
    "num1=input(\"en\")\n",
    "num2=3.9\n",
    "sub1 =num1-num2\n",
    "print(f\" the sub of {num1} and{num2}is {sub1}\")"
   ]
  },
  {
   "cell_type": "code",
   "execution_count": null,
   "id": "16cf39c3",
   "metadata": {},
   "outputs": [],
   "source": []
  },
  {
   "cell_type": "code",
   "execution_count": null,
   "id": "a7c979da",
   "metadata": {},
   "outputs": [],
   "source": []
  },
  {
   "cell_type": "code",
   "execution_count": null,
   "id": "2fa02ad0",
   "metadata": {},
   "outputs": [],
   "source": []
  },
  {
   "cell_type": "code",
   "execution_count": null,
   "id": "28b50e46",
   "metadata": {},
   "outputs": [],
   "source": []
  },
  {
   "cell_type": "code",
   "execution_count": null,
   "id": "26a5492f",
   "metadata": {},
   "outputs": [],
   "source": []
  },
  {
   "cell_type": "code",
   "execution_count": null,
   "id": "3930fd5f",
   "metadata": {},
   "outputs": [],
   "source": []
  }
 ],
 "metadata": {
  "kernelspec": {
   "display_name": "Python 3 (ipykernel)",
   "language": "python",
   "name": "python3"
  },
  "language_info": {
   "codemirror_mode": {
    "name": "ipython",
    "version": 3
   },
   "file_extension": ".py",
   "mimetype": "text/x-python",
   "name": "python",
   "nbconvert_exporter": "python",
   "pygments_lexer": "ipython3",
   "version": "3.10.0"
  }
 },
 "nbformat": 4,
 "nbformat_minor": 5
}
