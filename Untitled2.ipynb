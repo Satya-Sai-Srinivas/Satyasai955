{
 "cells": [
  {
   "cell_type": "code",
   "execution_count": 9,
   "id": "a0c416ba",
   "metadata": {},
   "outputs": [
    {
     "name": "stdout",
     "output_type": "stream",
     "text": [
      "Enter a string of brackets:{OEFJIOP{POWE}}\n",
      "Given string is balanced: True\n"
     ]
    }
   ],
   "source": [
    "def isbalanced(s):\n",
    "    c = 0\n",
    "    for i in s:\n",
    "        if i=='{':\n",
    "            c = c^1\n",
    "        if i == '}':\n",
    "            c = c^1\n",
    "    if(c==0):\n",
    "        return True\n",
    "    else:\n",
    "        return False\n",
    "s=input(\"Enter a string of brackets:\")\n",
    "print(\"Given string is balanced:\",isbalanced(s))"
   ]
  },
  {
   "cell_type": "code",
   "execution_count": null,
   "id": "7e3c22b9",
   "metadata": {},
   "outputs": [],
   "source": []
  },
  {
   "cell_type": "code",
   "execution_count": null,
   "id": "b85ffad8",
   "metadata": {},
   "outputs": [],
   "source": []
  }
 ],
 "metadata": {
  "kernelspec": {
   "display_name": "Python 3 (ipykernel)",
   "language": "python",
   "name": "python3"
  },
  "language_info": {
   "codemirror_mode": {
    "name": "ipython",
    "version": 3
   },
   "file_extension": ".py",
   "mimetype": "text/x-python",
   "name": "python",
   "nbconvert_exporter": "python",
   "pygments_lexer": "ipython3",
   "version": "3.10.0"
  }
 },
 "nbformat": 4,
 "nbformat_minor": 5
}
