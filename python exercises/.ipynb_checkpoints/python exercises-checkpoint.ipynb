{
 "cells": [
  {
   "cell_type": "markdown",
   "id": "5e2c57ba",
   "metadata": {},
   "source": [
    "## VARIABLES, DATA TYPES, OPERATIONS"
   ]
  },
  {
   "cell_type": "markdown",
   "id": "7bdb70ad",
   "metadata": {},
   "source": [
    "### 1)"
   ]
  },
  {
   "cell_type": "code",
   "execution_count": 47,
   "id": "137a5b13",
   "metadata": {},
   "outputs": [
    {
     "ename": "TypeError",
     "evalue": "metaclass conflict: the metaclass of a derived class must be a (non-strict) subclass of the metaclasses of all its bases",
     "output_type": "error",
     "traceback": [
      "\u001b[1;31m---------------------------------------------------------------------------\u001b[0m",
      "\u001b[1;31mTypeError\u001b[0m                                 Traceback (most recent call last)",
      "\u001b[1;32m~\\AppData\\Local\\Temp/ipykernel_8612/695513144.py\u001b[0m in \u001b[0;36m<module>\u001b[1;34m\u001b[0m\n\u001b[1;32m----> 1\u001b[1;33m \u001b[0mtype\u001b[0m\u001b[1;33m(\u001b[0m\u001b[1;34m'satya'\u001b[0m\u001b[1;33m,\u001b[0m\u001b[1;33m(\u001b[0m\u001b[1;36m1\u001b[0m\u001b[1;33m,\u001b[0m\u001b[1;36m2\u001b[0m\u001b[1;33m)\u001b[0m\u001b[1;33m,\u001b[0m\u001b[1;33m{\u001b[0m\u001b[1;36m1.01\u001b[0m\u001b[1;33m:\u001b[0m\u001b[1;34m''\u001b[0m\u001b[1;33m}\u001b[0m\u001b[1;33m)\u001b[0m\u001b[1;33m\u001b[0m\u001b[1;33m\u001b[0m\u001b[0m\n\u001b[0m",
      "\u001b[1;31mTypeError\u001b[0m: metaclass conflict: the metaclass of a derived class must be a (non-strict) subclass of the metaclasses of all its bases"
     ]
    }
   ],
   "source": [
    "type('satya',(1,2),{1.01:''})"
   ]
  },
  {
   "cell_type": "markdown",
   "id": "cee4dbbe",
   "metadata": {},
   "source": [
    "metaclass conflict"
   ]
  },
  {
   "cell_type": "code",
   "execution_count": 31,
   "id": "09d6a7c8",
   "metadata": {},
   "outputs": [
    {
     "data": {
      "text/plain": [
       "1820047343344"
      ]
     },
     "execution_count": 31,
     "metadata": {},
     "output_type": "execute_result"
    }
   ],
   "source": [
    "id('satya')"
   ]
  },
  {
   "cell_type": "code",
   "execution_count": 32,
   "id": "9edd7132",
   "metadata": {},
   "outputs": [
    {
     "data": {
      "text/plain": [
       "'0x1a7c3467ef0'"
      ]
     },
     "execution_count": 32,
     "metadata": {},
     "output_type": "execute_result"
    }
   ],
   "source": [
    "hex(id('satya'))"
   ]
  },
  {
   "cell_type": "markdown",
   "id": "c66a6e80",
   "metadata": {},
   "source": [
    "\\n --> newline\n",
    "\\t --> tabspace"
   ]
  },
  {
   "cell_type": "markdown",
   "id": "8e367e47",
   "metadata": {},
   "source": [
    "### bitwise operators"
   ]
  },
  {
   "cell_type": "raw",
   "id": "1a6e6ef5",
   "metadata": {},
   "source": [
    "bitwise or-->          |   Result bit 1,if both operand bits are 1;otherwise results bit 0(or table)\n",
    "bitwise and-->         &   Result bit 1,if any of the operand bit is 1; otherwise results bit 0(and table)\n",
    "bitwise not-->         ~   inverts individual bits(not table)\n",
    "bitwise xor-->         ^   Results bit 1,if any of the operand bit is 1 but not both, otherwise results bit 0(xor table)\n",
    "bitwise right shift--> >>  The left operand’s value is moved toward right by the number of bits specified by the right operand.\n",
    "bitwise left shift-->  <<  The left operand’s value is moved toward left by the number of bits specified by the right operand."
   ]
  },
  {
   "cell_type": "raw",
   "id": "5b7e430c",
   "metadata": {},
   "source": [
    "2. All work and no play makes Jack a dull boy\n",
    "   Store each word in a separate variable, then\n",
    "    a. print out the sentence on one line using print.\n",
    "    b. Print out each word in a separate line\n",
    "    c. Print out each word with a comma separating on one\n",
    "    line\n",
    "    d. Print out each word on a new line with incremental\n",
    "    spaces at the beginning of each word"
   ]
  },
  {
   "cell_type": "code",
   "execution_count": 13,
   "id": "a8b84efa",
   "metadata": {},
   "outputs": [
    {
     "name": "stdout",
     "output_type": "stream",
     "text": [
      "A) All work and no play makes Jack a dull boy\n",
      "B) All\n",
      "work\n",
      "and\n",
      "no\n",
      "play\n",
      "makes\n",
      "Jack\n",
      "a\n",
      "dull\n",
      "boy\n",
      "C) All,work,and,no,play,makes,Jack,a,dull,boy\n",
      "D) All\n",
      " work\n",
      "  and\n",
      "   no\n",
      "    play\n",
      "     makes\n",
      "      Jack\n",
      "       a\n",
      "        dull\n",
      "         boy\n"
     ]
    }
   ],
   "source": [
    "Da='All'\n",
    "b='work'\n",
    "c='and'\n",
    "d='no'\n",
    "e='play'\n",
    "f='makes'\n",
    "g='Jack'\n",
    "h='a'\n",
    "i='dull'\n",
    "j='boy'\n",
    "print('A) '+a+' '+b+' '+c+' '+d+' '+e+' '+f+' '+g+' '+h+' '+i+' '+j)\n",
    "print(f\"B) {a}\\n{b}\\n{c}\\n{d}\\n{e}\\n{f}\\n{g}\\n{h}\\n{i}\\n{j}\")\n",
    "print(f\"C) {a},{b},{c},{d},{e},{f},{g},{h},{i},{j}\")\n",
    "print(f\"D) {a}\\n {b}\\n  {c}\\n   {d}\\n    {e}\\n     {f}\\n      {g}\\n       {h}\\n        {i}\\n         {j}\")"
   ]
  },
  {
   "cell_type": "code",
   "execution_count": 83,
   "id": "c8d70503",
   "metadata": {},
   "outputs": [
    {
     "name": "stdout",
     "output_type": "stream",
     "text": [
      "abcd \n",
      " \"bc\"dv\n"
     ]
    }
   ],
   "source": [
    "print(\"abcd \\n \\\"bc\\\"dv\")"
   ]
  },
  {
   "cell_type": "code",
   "execution_count": 88,
   "id": "64c1a2b0",
   "metadata": {},
   "outputs": [
    {
     "name": "stdout",
     "output_type": "stream",
     "text": [
      "\n",
      "\n"
     ]
    }
   ],
   "source": [
    "print(\"\\n\")"
   ]
  },
  {
   "cell_type": "markdown",
   "id": "88f89dea",
   "metadata": {},
   "source": [
    "### 3)\n",
    "Write a Python program that assigns the principal\n",
    "amount of 10000 to variable P, assign to n the value 12, and\n",
    "assign to r the interest rate of 8% (0.08). Then have the\n",
    "program prompt the user for the number of years, t, that\n",
    "the money will be compounded for. Calculate and print the\n",
    "final amount after t years.\n"
   ]
  },
  {
   "cell_type": "code",
   "execution_count": 14,
   "id": "c9ecfe6e",
   "metadata": {},
   "outputs": [
    {
     "name": "stdout",
     "output_type": "stream",
     "text": [
      "t: 5\n",
      "the final amount after 5 years is 14898.45708301605\n"
     ]
    }
   ],
   "source": [
    "p = 10000\n",
    "n=12\n",
    "r=(0.08)\n",
    "t=int(input(\"t: \"))\n",
    "CI = p*(1+(r/n))**(n*t)\n",
    "print(f\"the final amount after {t} years is {CI}\")"
   ]
  },
  {
   "cell_type": "markdown",
   "id": "22cc0b7f",
   "metadata": {},
   "source": [
    "### 4)\n",
    "Accept the radius of the circle from the user and compute\n",
    "the perimeter and radius of the circle"
   ]
  },
  {
   "cell_type": "code",
   "execution_count": 18,
   "id": "cb726535",
   "metadata": {},
   "outputs": [
    {
     "name": "stdout",
     "output_type": "stream",
     "text": [
      "enter the radius: 3\n",
      "18.84\n"
     ]
    }
   ],
   "source": [
    "r=int(input(\"enter the radius: \"))\n",
    "p = 2*3.14*r\n",
    "print(p)"
   ]
  },
  {
   "cell_type": "markdown",
   "id": "0a95aaf7",
   "metadata": {},
   "source": [
    "### 5)\n",
    "Many people keep time using a 24 hour clock (11 is 11am\n",
    "and 23 is 11pm, 0 is midnight). If it is currently 13 and you set\n",
    "your alarm to go off in 50 hours, it will be 15 (3pm). Write a\n",
    "Python program to solve the general version of the above\n",
    "problem. Ask the user for the time now (in hours), and then\n",
    "ask for the number of hours to wait for the alarm. Your\n",
    "program should output what the time will be on the clock\n",
    "when the alarm goes off"
   ]
  },
  {
   "cell_type": "code",
   "execution_count": 58,
   "id": "5c66fcb1",
   "metadata": {},
   "outputs": [
    {
     "name": "stdout",
     "output_type": "stream",
     "text": [
      "time now: 13\n",
      "wait time: 50\n",
      "the alarm goes off at: 15\n"
     ]
    }
   ],
   "source": [
    "h=int(input(\"time now: \"))\n",
    "n=int(input(\"wait time: \"))\n",
    "g=h+n%24\n",
    "print(\"the alarm goes off at:\",g)"
   ]
  },
  {
   "cell_type": "markdown",
   "id": "e224b585",
   "metadata": {},
   "source": [
    "### 6)\n",
    "Write a program that will compute the area of a rectangle.\n",
    "Prompt the user to enter the width and height of the\n",
    "rectangle and store the values in variables called width and\n",
    "height. Print a nice message with the answer"
   ]
  },
  {
   "cell_type": "code",
   "execution_count": 56,
   "id": "8d460f92",
   "metadata": {},
   "outputs": [
    {
     "name": "stdout",
     "output_type": "stream",
     "text": [
      "width: 3\n",
      "height: 3\n",
      "area of the rectangle is 9\n"
     ]
    }
   ],
   "source": [
    "w =int(input(\"width: \"))\n",
    "h = int(input(\"height: \"))\n",
    "a = w*h\n",
    "print(f\"area of the rectangle is {a}\")"
   ]
  },
  {
   "cell_type": "markdown",
   "id": "5894b877",
   "metadata": {},
   "source": [
    "### 7)\n",
    "Write a program that will convert degrees celsius to\n",
    "degrees fahrenheit"
   ]
  },
  {
   "cell_type": "code",
   "execution_count": 47,
   "id": "33eb97a0",
   "metadata": {},
   "outputs": [
    {
     "name": "stdout",
     "output_type": "stream",
     "text": [
      "celsius: 37\n",
      "98.60\n"
     ]
    }
   ],
   "source": [
    "c=int(input(\"celsius: \"))\n",
    "f= (c*9/5)+32\n",
    "print(f\"{f:.2f}\")"
   ]
  },
  {
   "cell_type": "markdown",
   "id": "4a45d82b",
   "metadata": {},
   "source": [
    "### 8)\n",
    "Write a program that will convert degrees fahrenheit to\n",
    "degrees celsius"
   ]
  },
  {
   "cell_type": "code",
   "execution_count": 53,
   "id": "b5804657",
   "metadata": {},
   "outputs": [
    {
     "name": "stdout",
     "output_type": "stream",
     "text": [
      "farenheit: 98\n",
      "36.666666666666664\n"
     ]
    }
   ],
   "source": [
    "f=float(input(\"farenheit: \"))\n",
    "c= (f-32)*5/9\n",
    "print(c)"
   ]
  },
  {
   "cell_type": "markdown",
   "id": "79996608",
   "metadata": {},
   "source": [
    "### 9)\n",
    "Write a program that asks the user to enter two integers.\n",
    "Have the program output the two integers and the result\n",
    "when the first number entered is raised to the power of\n",
    "the second number entered"
   ]
  },
  {
   "cell_type": "code",
   "execution_count": 61,
   "id": "90239313",
   "metadata": {},
   "outputs": [
    {
     "name": "stdout",
     "output_type": "stream",
     "text": [
      "enter a:3\n",
      "enter b:2\n",
      "2**3 = 8 \n"
     ]
    }
   ],
   "source": [
    "a=int(input(\"enter a:\"))\n",
    "b=int(input(\"enter b:\"))\n",
    "c=b**a\n",
    "print(f\"{b}**{a} = {c} \")"
   ]
  },
  {
   "cell_type": "markdown",
   "id": "03a4c64f",
   "metadata": {},
   "source": [
    "### 10)\n",
    "Using the modulus operator, assign the remainder of\n",
    "1000/400 to the variable"
   ]
  },
  {
   "cell_type": "code",
   "execution_count": 63,
   "id": "e7003085",
   "metadata": {},
   "outputs": [
    {
     "name": "stdout",
     "output_type": "stream",
     "text": [
      "200\n"
     ]
    }
   ],
   "source": [
    "a=1000%400\n",
    "print(a)"
   ]
  },
  {
   "cell_type": "markdown",
   "id": "5bbecfef",
   "metadata": {},
   "source": [
    "### 11)\n",
    "Using power operator **, assign the square of 11111 to the\n",
    "variable."
   ]
  },
  {
   "cell_type": "code",
   "execution_count": 64,
   "id": "1ab0d2fb",
   "metadata": {},
   "outputs": [
    {
     "name": "stdout",
     "output_type": "stream",
     "text": [
      "123454321\n"
     ]
    }
   ],
   "source": [
    "a=11111**2\n",
    "print(a)"
   ]
  },
  {
   "cell_type": "markdown",
   "id": "a3ffd150",
   "metadata": {},
   "source": [
    "### 12)\n",
    "What is the output of print(2 ** 3 ** 2)\n"
   ]
  },
  {
   "cell_type": "code",
   "execution_count": 65,
   "id": "f5be18ec",
   "metadata": {},
   "outputs": [
    {
     "name": "stdout",
     "output_type": "stream",
     "text": [
      "512\n"
     ]
    }
   ],
   "source": [
    "print(2**9)"
   ]
  },
  {
   "cell_type": "code",
   "execution_count": 66,
   "id": "6ab2b185",
   "metadata": {},
   "outputs": [
    {
     "name": "stdout",
     "output_type": "stream",
     "text": [
      "512\n"
     ]
    }
   ],
   "source": [
    "print(2**3**2)"
   ]
  },
  {
   "cell_type": "markdown",
   "id": "7f8bfd32",
   "metadata": {},
   "source": [
    "## LOOPS AND STATEMENTS"
   ]
  },
  {
   "cell_type": "raw",
   "id": "7fc82436",
   "metadata": {},
   "source": [
    "1. Write a program to print the following number pattern using a loop.\n",
    "    1\n",
    "    1 2\n",
    "    1 2 3\n",
    "    1 2 3 4\n",
    "    1 2 3 4 5"
   ]
  },
  {
   "cell_type": "code",
   "execution_count": 21,
   "id": "897d259a",
   "metadata": {},
   "outputs": [
    {
     "name": "stdout",
     "output_type": "stream",
     "text": [
      "1 \n",
      "1 2 \n",
      "1 2 3 \n",
      "1 2 3 4 \n",
      "1 2 3 4 5 \n"
     ]
    }
   ],
   "source": [
    "for i in range(1,6):\n",
    "    for j in range(1,i+1):\n",
    "        print(j,end=\" \")\n",
    "    print()"
   ]
  },
  {
   "cell_type": "markdown",
   "id": "fd073dae",
   "metadata": {},
   "source": [
    "2. Write a program to accept a number from a user and calculate the\n",
    "sum of all numbers from 1 to a given number"
   ]
  },
  {
   "cell_type": "code",
   "execution_count": 24,
   "id": "a105d14b",
   "metadata": {},
   "outputs": [
    {
     "name": "stdout",
     "output_type": "stream",
     "text": [
      "123344555\n",
      "7606939685746290\n"
     ]
    }
   ],
   "source": [
    "a = int(input())\n",
    "b=0\n",
    "while(a>0):\n",
    "    b=b+a\n",
    "    a=a-1\n",
    "print(b)"
   ]
  },
  {
   "cell_type": "markdown",
   "id": "0a1f26c2",
   "metadata": {},
   "source": [
    "3. Write a program to print multiplication table of a given number"
   ]
  },
  {
   "cell_type": "code",
   "execution_count": 35,
   "id": "023a0cd1",
   "metadata": {},
   "outputs": [
    {
     "name": "stdout",
     "output_type": "stream",
     "text": [
      "enter the number: 7\n",
      "enter limit number: 13\n",
      "7*1=7\n",
      "7*2=14\n",
      "7*3=21\n",
      "7*4=28\n",
      "7*5=35\n",
      "7*6=42\n",
      "7*7=49\n",
      "7*8=56\n",
      "7*9=63\n",
      "7*10=70\n",
      "7*11=77\n",
      "7*12=84\n",
      "7*13=91\n"
     ]
    }
   ],
   "source": [
    "a = int(input(\"enter the number: \"))\n",
    "b= int(input(\"enter limit number: \"))\n",
    "for i in range(1,b+1):\n",
    "    print(f\"{a}*{i}={i*a}\")"
   ]
  },
  {
   "cell_type": "markdown",
   "id": "f03385a4",
   "metadata": {},
   "source": [
    "4. Write a program to count the total number of digits in a number\n",
    "using a while loop.\n",
    "For example, the number is 75869, so the output should be 5."
   ]
  },
  {
   "cell_type": "code",
   "execution_count": 53,
   "id": "650ff7c3",
   "metadata": {},
   "outputs": [
    {
     "name": "stdout",
     "output_type": "stream",
     "text": [
      "enter the number: 1234567\n",
      "7\n"
     ]
    }
   ],
   "source": [
    "a=int(input(\"enter the number: \"))\n",
    "count=0\n",
    "while(a>0):\n",
    "    count=count+1\n",
    "    a=a//10\n",
    "print(count)"
   ]
  },
  {
   "cell_type": "code",
   "execution_count": 63,
   "id": "f485d338",
   "metadata": {},
   "outputs": [
    {
     "name": "stdout",
     "output_type": "stream",
     "text": [
      "3\n"
     ]
    }
   ],
   "source": [
    "a=123\n",
    "print(a%10)  #returns last digit"
   ]
  },
  {
   "cell_type": "code",
   "execution_count": 62,
   "id": "c48c9be5",
   "metadata": {},
   "outputs": [
    {
     "name": "stdout",
     "output_type": "stream",
     "text": [
      "12\n"
     ]
    }
   ],
   "source": [
    "a=123\n",
    "print(a//10)   #removes last digit"
   ]
  },
  {
   "cell_type": "markdown",
   "id": "5902fd9a",
   "metadata": {},
   "source": [
    "5. Write a program to use the loop to find the factorial of a given\n",
    "number."
   ]
  },
  {
   "cell_type": "code",
   "execution_count": 69,
   "id": "8db820e2",
   "metadata": {},
   "outputs": [
    {
     "name": "stdout",
     "output_type": "stream",
     "text": [
      "enter a number: 7\n",
      "5040\n"
     ]
    }
   ],
   "source": [
    "a= int(input(\"enter a number: \"))\n",
    "b=1\n",
    "while(a>0):\n",
    "    b=b*a\n",
    "    a=a-1\n",
    "print(b)"
   ]
  },
  {
   "cell_type": "markdown",
   "id": "fb4f3471",
   "metadata": {},
   "source": [
    "6. Write a python program to find the sum of all even numbers from 0\n",
    "to 10"
   ]
  },
  {
   "cell_type": "code",
   "execution_count": 74,
   "id": "47d9b22d",
   "metadata": {},
   "outputs": [
    {
     "name": "stdout",
     "output_type": "stream",
     "text": [
      "30\n"
     ]
    }
   ],
   "source": [
    "a=0\n",
    "for i in range(0,11):\n",
    "    if i%2==0:\n",
    "        a=a+i\n",
    "print(a)"
   ]
  },
  {
   "cell_type": "markdown",
   "id": "521f43d7",
   "metadata": {},
   "source": [
    "7. Write a python program to read three numbers (a,b,c) and check\n",
    "how many numbers between ‘a’ and ‘b’ are divisible by ‘c"
   ]
  },
  {
   "cell_type": "code",
   "execution_count": 80,
   "id": "621eaa01",
   "metadata": {},
   "outputs": [
    {
     "name": "stdout",
     "output_type": "stream",
     "text": [
      "enter a: 0\n",
      "enter b: 10\n",
      "enter c: 2\n",
      "6\n"
     ]
    }
   ],
   "source": [
    "a=int(input(\"enter a: \"))\n",
    "b=int(input(\"enter b: \"))\n",
    "c=int(input(\"enter c: \"))\n",
    "count=0\n",
    "for i in range(a,b+1):\n",
    "    if(i%c==0):\n",
    "        count+=1\n",
    "print(count)"
   ]
  },
  {
   "cell_type": "markdown",
   "id": "374683e4",
   "metadata": {},
   "source": [
    "8. Write a python program to read radius of a circle and print the area"
   ]
  },
  {
   "cell_type": "code",
   "execution_count": 83,
   "id": "31a823ab",
   "metadata": {},
   "outputs": [
    {
     "name": "stdout",
     "output_type": "stream",
     "text": [
      "enter the radius: 5\n",
      "78.53981633974483\n"
     ]
    }
   ],
   "source": [
    "import math\n",
    "r=int(input(\"enter the radius: \"))\n",
    "area = math.pi*(r)**2\n",
    "print(area)"
   ]
  },
  {
   "cell_type": "markdown",
   "id": "37bae73b",
   "metadata": {},
   "source": [
    "9. Write a python program to read a number ,if it is an even number ,\n",
    "print the square of that number and if it is an odd number print a\n",
    "cube of that number."
   ]
  },
  {
   "cell_type": "code",
   "execution_count": 86,
   "id": "2de9f9b9",
   "metadata": {},
   "outputs": [
    {
     "name": "stdout",
     "output_type": "stream",
     "text": [
      "enter the number: 7\n",
      "343\n"
     ]
    }
   ],
   "source": [
    "n = int(input(\"enter the number: \"))\n",
    "if(n%2==0):\n",
    "    print(n**2)\n",
    "else:\n",
    "    print(n**3)"
   ]
  },
  {
   "cell_type": "markdown",
   "id": "6da56180",
   "metadata": {},
   "source": [
    "10. Write a python program to read two numbers and find the sum of\n",
    "their cubes"
   ]
  },
  {
   "cell_type": "code",
   "execution_count": 90,
   "id": "bb58f99f",
   "metadata": {},
   "outputs": [
    {
     "name": "stdout",
     "output_type": "stream",
     "text": [
      "enter a: 2\n",
      "enter b: 3\n",
      "sum of their cubes is: 35\n"
     ]
    }
   ],
   "source": [
    "a=int(input(\"enter a: \"))\n",
    "b=int(input(\"enter b: \"))\n",
    "c=a**3+b**3\n",
    "print(f\"sum of their cubes is: {c}\")"
   ]
  },
  {
   "cell_type": "markdown",
   "id": "9781f188",
   "metadata": {},
   "source": [
    "11. Given two integer numbers return their product only if the product is\n",
    "greater than 1000, else return their sum."
   ]
  },
  {
   "cell_type": "code",
   "execution_count": 93,
   "id": "d9b527e2",
   "metadata": {},
   "outputs": [
    {
     "name": "stdout",
     "output_type": "stream",
     "text": [
      "enter a: 3456\n",
      "enter b: 345\n",
      "1192320\n"
     ]
    }
   ],
   "source": [
    "a=int(input(\"enter a: \"))\n",
    "b=int(input(\"enter b: \"))\n",
    "if(a*b>1000):\n",
    "    print(a*b)\n",
    "else:\n",
    "    print(a+b)"
   ]
  },
  {
   "cell_type": "markdown",
   "id": "3ee72aca",
   "metadata": {},
   "source": [
    "12. Write a program to iterate the first 10 numbers and in each iteration,\n",
    "print the sum of the current and previous number."
   ]
  },
  {
   "cell_type": "code",
   "execution_count": 9,
   "id": "cf0c4b4a",
   "metadata": {},
   "outputs": [
    {
     "name": "stdout",
     "output_type": "stream",
     "text": [
      "Sum of Current Number(0) and Previous Number(0) is 0\n",
      "Sum of Current Number(1) and Previous Number(0) is 1\n",
      "Sum of Current Number(2) and Previous Number(1) is 3\n",
      "Sum of Current Number(3) and Previous Number(2) is 5\n",
      "Sum of Current Number(4) and Previous Number(3) is 7\n",
      "Sum of Current Number(5) and Previous Number(4) is 9\n",
      "Sum of Current Number(6) and Previous Number(5) is 11\n",
      "Sum of Current Number(7) and Previous Number(6) is 13\n",
      "Sum of Current Number(8) and Previous Number(7) is 15\n",
      "Sum of Current Number(9) and Previous Number(8) is 17\n"
     ]
    }
   ],
   "source": [
    "previousNum = 0\n",
    "for i in num:\n",
    "    Sum = previousNum + i\n",
    "    print(f\"Sum of Current Number({str(i)}) and Previous Number({str(previousNum)}) is {str(Sum)}\") # <- This is the issue.\n",
    "    previousNum=i"
   ]
  },
  {
   "cell_type": "markdown",
   "id": "bf62579b",
   "metadata": {},
   "source": [
    "13. Write a program to check if the given number is a palindrome\n",
    "number. A palindrome number is a number that is the same after\n",
    "reverse. For example 545, is the palindrome numbers"
   ]
  },
  {
   "cell_type": "code",
   "execution_count": 11,
   "id": "239e0aa1",
   "metadata": {},
   "outputs": [
    {
     "name": "stdout",
     "output_type": "stream",
     "text": [
      "enter the number: 454\n",
      "yes it is a palindrome number\n"
     ]
    }
   ],
   "source": [
    "#method1 -->by considering as it string\n",
    "a=input(\"enter the number: \")\n",
    "if a==a[::-1]:\n",
    "    print(\"yes it is a palindrome number\")\n",
    "else:\n",
    "    print(\"no it is not a palindrome number\")"
   ]
  },
  {
   "cell_type": "markdown",
   "id": "59a71d5e",
   "metadata": {},
   "source": [
    "14. Given a two list of numbers, write a program to create a new list such\n",
    "that the new list should contain odd numbers from the first list and\n",
    "even numbers from the second list."
   ]
  },
  {
   "cell_type": "code",
   "execution_count": 5,
   "id": "1b4d6053",
   "metadata": {},
   "outputs": [
    {
     "name": "stdout",
     "output_type": "stream",
     "text": [
      "[1, 3, 5, 8, 0]\n"
     ]
    }
   ],
   "source": [
    "list1 = [1,2,3,4,5,6]\n",
    "list2 = [7,8,9,0]\n",
    "list3 =[]\n",
    "for i in list1:\n",
    "    if i%2!=0:\n",
    "        list3.append(i)\n",
    "for i in list2:\n",
    "    if i%2==0:\n",
    "        list3.append(i)\n",
    "print(list3)"
   ]
  },
  {
   "cell_type": "markdown",
   "id": "8651bf84",
   "metadata": {},
   "source": [
    "15.Write a Program to extract each digit from an integer in the reverse\n",
    "order. For example, If the given int is 7536, the output shall be “6 3 5\n",
    "7“, with a space separating the digits."
   ]
  },
  {
   "cell_type": "code",
   "execution_count": 11,
   "id": "d74c0a32",
   "metadata": {},
   "outputs": [
    {
     "name": "stdout",
     "output_type": "stream",
     "text": [
      "enter the number: 7536\n",
      "6 3 5 7 "
     ]
    }
   ],
   "source": [
    "a=input(\"enter the number: \")\n",
    "a=a[::-1]\n",
    "for i in a:\n",
    "    print(i,end=\" \")"
   ]
  },
  {
   "cell_type": "markdown",
   "id": "eb0cc64a",
   "metadata": {},
   "source": [
    "16. Display numbers from -10 to -1 using for loop"
   ]
  },
  {
   "cell_type": "code",
   "execution_count": 15,
   "id": "fa18864d",
   "metadata": {},
   "outputs": [
    {
     "name": "stdout",
     "output_type": "stream",
     "text": [
      "-10\n",
      "-9\n",
      "-8\n",
      "-7\n",
      "-6\n",
      "-5\n",
      "-4\n",
      "-3\n",
      "-2\n"
     ]
    }
   ],
   "source": [
    "for i in range(-10,-1):\n",
    "    print(i)"
   ]
  },
  {
   "cell_type": "markdown",
   "id": "9a213345",
   "metadata": {},
   "source": [
    "17. Write a program to accept a string from the user and display\n",
    "characters that are present at an even index number.(Try to create\n",
    "one solution with for loop and another solution using list)"
   ]
  },
  {
   "cell_type": "code",
   "execution_count": 14,
   "id": "12cdb48f",
   "metadata": {},
   "outputs": [
    {
     "name": "stdout",
     "output_type": "stream",
     "text": [
      "enter the string: satyasaisrinivas\n",
      "s t a a s i i a "
     ]
    }
   ],
   "source": [
    "strng = input(\"enter the string: \")\n",
    "for i in range(len(strng)):\n",
    "    if(i%2==0):\n",
    "        print(strng[i],end=\" \")"
   ]
  },
  {
   "cell_type": "code",
   "execution_count": 12,
   "id": "976e10d7",
   "metadata": {},
   "outputs": [
    {
     "name": "stdout",
     "output_type": "stream",
     "text": [
      "t\n"
     ]
    }
   ],
   "source": [
    "sttr = \"satya\"\n",
    "print(sttr[2])"
   ]
  },
  {
   "cell_type": "markdown",
   "id": "0bb026a8",
   "metadata": {},
   "source": [
    "18. Write a program to remove characters from a string starting from\n",
    "zero up to n and return a new string."
   ]
  },
  {
   "cell_type": "code",
   "execution_count": 25,
   "id": "a74404da",
   "metadata": {},
   "outputs": [
    {
     "name": "stdout",
     "output_type": "stream",
     "text": [
      "enter n value: 10\n",
      "ufdsasdfghjkklkcxzxcvbnm\n"
     ]
    }
   ],
   "source": [
    "string1=\"ertyuiopoiufdsasdfghjkklkcxzxcvbnm\"\n",
    "string2=\" \"\n",
    "length = len(string1)\n",
    "n=int(input(\"enter n value: \"))\n",
    "string2 = string1[n:length]\n",
    "print(string2)    "
   ]
  },
  {
   "cell_type": "markdown",
   "id": "e04df9e8",
   "metadata": {},
   "source": [
    "19. Write a function to return True if the first and last number of a given\n",
    "list is the same. If numbers are different then return False."
   ]
  },
  {
   "cell_type": "code",
   "execution_count": 34,
   "id": "ef209680",
   "metadata": {},
   "outputs": [
    {
     "name": "stdout",
     "output_type": "stream",
     "text": [
      "True\n",
      "False\n"
     ]
    }
   ],
   "source": [
    "def truefalse(list1):\n",
    "    if(list1[0]==list1[len(list1)-1]):\n",
    "        return True\n",
    "    else:\n",
    "        return False\n",
    "print(truefalse([1,2,1]))\n",
    "print(truefalse([1,2,3]))"
   ]
  },
  {
   "cell_type": "markdown",
   "id": "30fe1398",
   "metadata": {},
   "source": [
    "20.Iterate the given list of numbers and print only those numbers which\n",
    "are divisible by 5"
   ]
  },
  {
   "cell_type": "code",
   "execution_count": 14,
   "id": "2b378003",
   "metadata": {},
   "outputs": [
    {
     "name": "stdout",
     "output_type": "stream",
     "text": [
      "enter the range: 20\n",
      "0\n",
      "5\n",
      "10\n",
      "15\n",
      "20\n"
     ]
    }
   ],
   "source": [
    "for i in range(int(input(\"enter the range: \"))+1):\n",
    "    if i%5==0:\n",
    "        print(i)"
   ]
  },
  {
   "cell_type": "markdown",
   "id": "b484ac56",
   "metadata": {},
   "source": [
    "## Data Structures  --->list,tuple,set,dict,string"
   ]
  },
  {
   "cell_type": "markdown",
   "id": "d224dba3",
   "metadata": {},
   "source": [
    "## List"
   ]
  },
  {
   "cell_type": "markdown",
   "id": "d73d2097",
   "metadata": {},
   "source": [
    "#### 1. Consider a list of x values and reverse the list"
   ]
  },
  {
   "cell_type": "code",
   "execution_count": 61,
   "id": "77092dbc",
   "metadata": {},
   "outputs": [
    {
     "name": "stdout",
     "output_type": "stream",
     "text": [
      "enter range: 23\n",
      "[22, 21, 20, 19, 18, 17, 16, 15, 14, 13, 12, 11, 10, 9, 8, 7, 6, 5, 4, 3, 2, 1, 0]\n"
     ]
    }
   ],
   "source": [
    "x=int(input(\"enter range: \"))\n",
    "list1 = []\n",
    "for i in range(x):\n",
    "    list1.append(i)\n",
    "print(list1[::-1])"
   ]
  },
  {
   "cell_type": "markdown",
   "id": "4133e3ec",
   "metadata": {},
   "source": [
    "#### 2. Consider two list with a collection of string in each list and concatenate two lists index-wise and create a new list (hint : use zipfunction)\n"
   ]
  },
  {
   "cell_type": "code",
   "execution_count": 10,
   "id": "5e615e6b",
   "metadata": {},
   "outputs": [
    {
     "name": "stdout",
     "output_type": "stream",
     "text": [
      "['satyasai', 'saisatya', 'srinivasyendru']\n"
     ]
    }
   ],
   "source": [
    "list1= [\"satya\",\"sai\",\"srinivas\"]\n",
    "list2= [\"sai\",\"satya\",\"yendru\"]\n",
    "list3=[]\n",
    "for i in range(len(list1)): \n",
    "    list3.append(list1[i]+list2[i])\n",
    "print(list3)"
   ]
  },
  {
   "cell_type": "code",
   "execution_count": 12,
   "id": "b5c0e685",
   "metadata": {},
   "outputs": [
    {
     "name": "stdout",
     "output_type": "stream",
     "text": [
      "['satyasai', 'saisatya', 'srinivasyendru']\n"
     ]
    }
   ],
   "source": [
    "list3 =[]\n",
    "for index1,index2 in zip(list1,list2):  #using zip function\n",
    "    list3.append(index1+index2)\n",
    "print(list3)"
   ]
  },
  {
   "cell_type": "markdown",
   "id": "96b809d2",
   "metadata": {},
   "source": [
    "#### 3. Given a Python list of numbers. Turn every item of a list into its square"
   ]
  },
  {
   "cell_type": "code",
   "execution_count": 13,
   "id": "247ff1f2",
   "metadata": {},
   "outputs": [
    {
     "name": "stdout",
     "output_type": "stream",
     "text": [
      "[4, 9, 16, 25, 36, 49, 49, 64]\n"
     ]
    }
   ],
   "source": [
    "lst = [2,3,4,5,6,7,7,8]\n",
    "for i in range(len(lst)):\n",
    "    lst[i] = (lst[i])**2\n",
    "print(lst)"
   ]
  },
  {
   "cell_type": "raw",
   "id": "11135425",
   "metadata": {},
   "source": [
    "4. Concatenate two lists in the following order\n",
    "list1 = [\"Hello \", \"take \"]\n",
    "list2 = [\"Dear\", \"Sir\"]\n",
    "OUTPUT:\n",
    "['Hello Dear', 'Hello Sir', 'take Dear', 'take Sir']\n"
   ]
  },
  {
   "cell_type": "code",
   "execution_count": 15,
   "id": "edf33a7b",
   "metadata": {},
   "outputs": [
    {
     "name": "stdout",
     "output_type": "stream",
     "text": [
      "['Hello Dear', 'Hello Sir', 'take Dear', 'take Sir']\n"
     ]
    }
   ],
   "source": [
    "list1 = [\"Hello \", \"take \"]\n",
    "list2 = [\"Dear\", \"Sir\"]\n",
    "list3 = []\n",
    "for i in list1:\n",
    "    for j in list2:\n",
    "        list3.append(i+j)\n",
    "print(list3)"
   ]
  },
  {
   "cell_type": "markdown",
   "id": "aa532235",
   "metadata": {},
   "source": [
    "#### 5. Given a Python list, remove all occurrence of 20 from the list"
   ]
  },
  {
   "cell_type": "code",
   "execution_count": 31,
   "id": "80ebc06e",
   "metadata": {},
   "outputs": [
    {
     "name": "stdout",
     "output_type": "stream",
     "text": [
      "[2, 21, 30, 12, 123]\n"
     ]
    }
   ],
   "source": [
    "list1 = [20,2,21,20,30,20,12,20,123,20]\n",
    "for i in list1:\n",
    "    if i==20:\n",
    "        list1.remove(i)  #using remove funtion --> remove function directly removes the value\n",
    "print(list1)"
   ]
  },
  {
   "cell_type": "code",
   "execution_count": 39,
   "id": "e4703977",
   "metadata": {},
   "outputs": [
    {
     "name": "stdout",
     "output_type": "stream",
     "text": [
      "[2, 21, 30, 12, 123]\n"
     ]
    }
   ],
   "source": [
    "list1 = [20,2,21,20,30,20,12,20,123,20]\n",
    "for i in range(list1.count(20)):\n",
    "    list1.remove(20)  #using remove funtion and count function\n",
    "print(list1)"
   ]
  },
  {
   "cell_type": "code",
   "execution_count": 77,
   "id": "d719409d",
   "metadata": {},
   "outputs": [
    {
     "name": "stdout",
     "output_type": "stream",
     "text": [
      "The updated list is: [2, 21, 30, 12, 12, 1, 2, 3]\n"
     ]
    }
   ],
   "source": [
    "lst1 = [20,2,21,20,30,20,12,20,12,1,2,3]\n",
    "while(True):\n",
    "    if 20 in lst1:\n",
    "        index = lst1.index(20)\n",
    "        lst1.pop(index)  #using pop funtion and while loop --> pop function removes the value by using the index\n",
    "    else:                #too many iterations\n",
    "        print(\"The updated list is: \",end=\"\")\n",
    "        break\n",
    "print(lst1)"
   ]
  },
  {
   "cell_type": "code",
   "execution_count": 78,
   "id": "3d00dcea",
   "metadata": {},
   "outputs": [
    {
     "name": "stdout",
     "output_type": "stream",
     "text": [
      "[2, 21, 30, 12, 12, 1, 2, 3]\n"
     ]
    }
   ],
   "source": [
    "lst1 = [20,2,21,20,30,20,12,20,12,1,2,3]\n",
    "while(20 in lst1):\n",
    "    index = lst1.index(20)\n",
    "    lst1.pop(index)  #using pop funtion and while loop --> pop function removes the value by using the index --> efficient\n",
    "print(lst1)"
   ]
  },
  {
   "cell_type": "code",
   "execution_count": 74,
   "id": "043a6f35",
   "metadata": {},
   "outputs": [
    {
     "name": "stdout",
     "output_type": "stream",
     "text": [
      "The updated list is: [2, 21, 20, 30, 20, 12, 20, 12, 1, 2, 3]\n"
     ]
    }
   ],
   "source": [
    "lst1 = [20,2,21,20,30,20,12,20,12,1,2,3]\n",
    "for i in range(len(lst1)):\n",
    "    if lst1[i]==20:\n",
    "        lst1.pop(i)  #using pop funtion and for loop --> pop function removes the value by using the index\n",
    "    else:\n",
    "        print(\"The updated list is: \",end=\"\")\n",
    "        break\n",
    "print(lst1)"
   ]
  },
  {
   "cell_type": "markdown",
   "id": "819eed09",
   "metadata": {},
   "source": [
    "#### 6. Given a Python list, find value 20 in the list, and if it is present,replace it with 200. Only update the first occurrence of a value"
   ]
  },
  {
   "cell_type": "code",
   "execution_count": 57,
   "id": "9846d510",
   "metadata": {},
   "outputs": [
    {
     "name": "stdout",
     "output_type": "stream",
     "text": [
      "[12, 23, 200, 24, 64, 77, 8, 9, 20, 235, 20]\n"
     ]
    }
   ],
   "source": [
    "list6 = [12,23,20,24,64,77,8,9,20,235,20]\n",
    "count = list6.count(20)\n",
    "if count==0:\n",
    "    print(\"20 is not present in the list\")\n",
    "else:\n",
    "    index1 = list6.index(20)\n",
    "    list6.remove(20)\n",
    "    list6.insert(index1,200)   #using insert function which takes index and char to be inserted at a specific index \n",
    "print(list6)"
   ]
  },
  {
   "cell_type": "code",
   "execution_count": 56,
   "id": "6257e429",
   "metadata": {},
   "outputs": [
    {
     "name": "stdout",
     "output_type": "stream",
     "text": [
      "[12, 23, 200, 24, 64, 77, 8, 9, 20, 235, 20]\n"
     ]
    }
   ],
   "source": [
    "list6 = [12,23,20,24,64,77,8,9,20,235,20]\n",
    "index1 = list6.index(20)\n",
    "list6[index1] = 200        #using indexing\n",
    "print(list6)  "
   ]
  },
  {
   "cell_type": "raw",
   "id": "8dc9cb9c",
   "metadata": {},
   "source": [
    "7. Given a nested list extend it by adding the sub list [\"h\", \"i\", \"j\"] in such a way that it will look like the following list\n",
    "list1 = [\"a\", \"b\", [\"c\", [\"d\", \"e\", [\"f\", \"g\"], \"k\"], \"l\"], \"m\", \"n\"]\n",
    "Sub List to be added = [\"h\", \"i\", \"j\"]\n",
    "Expected output: ['a', 'b', ['c', ['d', 'e', ['f', 'g', 'h', 'i', 'j'], 'k'], 'l'], 'm', 'n']\n"
   ]
  },
  {
   "cell_type": "code",
   "execution_count": 59,
   "id": "39f8bd0d",
   "metadata": {},
   "outputs": [
    {
     "name": "stdout",
     "output_type": "stream",
     "text": [
      "['a', 'b', ['c', ['d', 'e', ['f', 'g', 'h', 'i', 'j'], 'k'], 'l'], 'm', 'n']\n"
     ]
    }
   ],
   "source": [
    "list1 = [\"a\", \"b\", [\"c\", [\"d\", \"e\", [\"f\", \"g\"], \"k\"], \"l\"], \"m\", \"n\"]\n",
    "Sublst = [\"h\", \"i\", \"j\"]\n",
    "list1[2][1][2].extend(Sublst)\n",
    "print(list1)"
   ]
  },
  {
   "cell_type": "raw",
   "id": "cab54825",
   "metadata": {},
   "source": [
    "8. Add item 7000 after 6000 in the following Python List\n",
    "list1 = [10, 20, [300, 400, [5000, 6000], 500], 30, 40]\n",
    "OUTPUT:\n",
    "[10, 20, [300, 400, [5000, 6000, 7000], 500], 30, 40]\n"
   ]
  },
  {
   "cell_type": "code",
   "execution_count": 49,
   "id": "acdda1b2",
   "metadata": {},
   "outputs": [
    {
     "name": "stdout",
     "output_type": "stream",
     "text": [
      "[10, 20, [300, 400, [5000, 6000, 7000], 500], 30, 40]\n"
     ]
    }
   ],
   "source": [
    "list1 = [10, 20, [300, 400, [5000, 6000], 500], 30, 40]\n",
    "list1[2][2].append(7000)\n",
    "print(list1)"
   ]
  },
  {
   "cell_type": "raw",
   "id": "1326d7ca",
   "metadata": {},
   "source": [
    "9. Remove empty strings from the list of strings\n",
    "list1 = [\"Mike\", \"\", \"Emma\", \"Kelly\", \"\", \"Brad\"]\n",
    "OUTPUT:\n",
    "[\"Mike\", \"Emma\", \"Kelly\", \"Brad\"]\n"
   ]
  },
  {
   "cell_type": "code",
   "execution_count": 47,
   "id": "a5113ce8",
   "metadata": {},
   "outputs": [
    {
     "name": "stdout",
     "output_type": "stream",
     "text": [
      "['Mike', 'Emma', 'Kelly', 'Brad']\n"
     ]
    }
   ],
   "source": [
    "list1 = [\"Mike\", \"\", \"Emma\", \"Kelly\", \"\", \"Brad\"]\n",
    "for i in range(list1.count(\"\")):\n",
    "    list1.remove(\"\")\n",
    "print(list1)"
   ]
  },
  {
   "cell_type": "markdown",
   "id": "49ade18d",
   "metadata": {},
   "source": [
    "### Dictionary"
   ]
  },
  {
   "cell_type": "raw",
   "id": "fce00694",
   "metadata": {},
   "source": [
    "1. Below are the two lists convert it into the dictionary\n",
    "keys = ['Ten', 'Twenty', 'Thirty']\n",
    "values = [10, 20, 30]\n",
    "OUTPUT:\n",
    "{'Ten': 10, 'Twenty': 20, 'Thirty': 30}\n"
   ]
  },
  {
   "cell_type": "code",
   "execution_count": null,
   "id": "4a89751a",
   "metadata": {},
   "outputs": [],
   "source": []
  },
  {
   "cell_type": "code",
   "execution_count": null,
   "id": "32ffc47c",
   "metadata": {},
   "outputs": [],
   "source": []
  },
  {
   "cell_type": "raw",
   "id": "7e70134e",
   "metadata": {},
   "source": [
    "2. Merge following two Python dictionaries into one\n",
    "dict1 = {'Ten': 10, 'Twenty': 20, 'Thirty': 30}\n",
    "dict2 = {'Thirty': 30, 'Fourty': 40, 'Fifty': 50}\n",
    "OUTPUT:\n",
    "{'Ten': 10, 'Twenty': 20, 'Thirty': 30, 'Fourty': 40, 'Fifty': 50}"
   ]
  },
  {
   "cell_type": "code",
   "execution_count": null,
   "id": "05f9632c",
   "metadata": {},
   "outputs": [],
   "source": []
  },
  {
   "cell_type": "code",
   "execution_count": null,
   "id": "d7e785b8",
   "metadata": {},
   "outputs": [],
   "source": []
  },
  {
   "cell_type": "raw",
   "id": "90853918",
   "metadata": {},
   "source": [
    "3. Access the value of key ‘history’ from the below dict\n",
    "sampleDict = {\n",
    "\"class\":{\n",
    "\"student\":{\n",
    "\"name\":\"Mike\",\n",
    "\"marks\":{\n",
    "\"physics\":70,\n",
    "\"history\":80\n",
    "}\n",
    "}\n",
    "}\n",
    "}\n",
    "OUTPUT:\n",
    "80"
   ]
  },
  {
   "cell_type": "code",
   "execution_count": null,
   "id": "b502bd90",
   "metadata": {},
   "outputs": [],
   "source": []
  },
  {
   "cell_type": "code",
   "execution_count": null,
   "id": "e8a38e42",
   "metadata": {},
   "outputs": [],
   "source": []
  },
  {
   "cell_type": "raw",
   "id": "f9aee9c2",
   "metadata": {},
   "source": [
    "4. Create a new dictionary by extracting the following keys from a\n",
    "below dictionary\n",
    "sampleDict = {\n",
    "\"name\": \"Kelly\",\n",
    "\"age\":25,\n",
    "\"salary\": 8000,\n",
    "\"city\": \"New york\"\n",
    "}\n",
    "keys = [\"name\", \"salary\"]\n",
    "OUTPUT:\n",
    "{'name': 'Kelly', 'salary': 8000}"
   ]
  },
  {
   "cell_type": "code",
   "execution_count": null,
   "id": "6af30af3",
   "metadata": {},
   "outputs": [],
   "source": []
  },
  {
   "cell_type": "code",
   "execution_count": null,
   "id": "5cffe459",
   "metadata": {},
   "outputs": [],
   "source": []
  },
  {
   "cell_type": "raw",
   "id": "92824cd2",
   "metadata": {},
   "source": [
    "5. Delete set of keys from a dictionary\n",
    "sampleDict = {\n",
    "\"name\": \"Kelly\",\n",
    "\"age\":25,\n",
    "\"salary\": 8000,\n",
    "\"city\": \"New york\"\n",
    "}\n",
    "keysToRemove = [\"name\", \"salary\"]\n",
    "OUTPUT:\n",
    "{'city': 'New york', 'age': 25}"
   ]
  },
  {
   "cell_type": "code",
   "execution_count": null,
   "id": "3e22db79",
   "metadata": {},
   "outputs": [],
   "source": []
  },
  {
   "cell_type": "code",
   "execution_count": null,
   "id": "7f1e3bfa",
   "metadata": {},
   "outputs": [],
   "source": []
  },
  {
   "cell_type": "raw",
   "id": "3bfb64ae",
   "metadata": {},
   "source": [
    "6. Rename key city to location in the following dictionary\n",
    "sampleDict = {\n",
    "\"name\": \"Kelly\",\n",
    "\"age\":25,\n",
    "\"salary\": 8000,\n",
    "\"city\": \"New york\"\n",
    "}\n",
    "Expected output:\n",
    "{\n",
    "\"name\": \"Kelly\",\n",
    "\"age\":25,\n",
    "\"salary\": 8000,\n",
    "\"location\": \"New york\"\n",
    "}"
   ]
  },
  {
   "cell_type": "code",
   "execution_count": null,
   "id": "a423e04e",
   "metadata": {},
   "outputs": [],
   "source": []
  },
  {
   "cell_type": "code",
   "execution_count": null,
   "id": "c97cbde6",
   "metadata": {},
   "outputs": [],
   "source": []
  },
  {
   "cell_type": "raw",
   "id": "0c6752a5",
   "metadata": {},
   "source": [
    "7. Get the key of a minimum value from the following dictionary\n",
    "sampleDict = {\n",
    "'Physics': 82,\n",
    "'Math': 65,\n",
    "'history': 75\n",
    "}\n",
    "Expected output:\n",
    "Math"
   ]
  },
  {
   "cell_type": "code",
   "execution_count": null,
   "id": "b66c11e4",
   "metadata": {},
   "outputs": [],
   "source": []
  },
  {
   "cell_type": "code",
   "execution_count": null,
   "id": "77669e85",
   "metadata": {},
   "outputs": [],
   "source": []
  },
  {
   "cell_type": "raw",
   "id": "de8d899d",
   "metadata": {},
   "source": [
    "8. Change Brad’s salary to 8500 from a given Python dictionary\n",
    "sampleDict = {\n",
    "'emp1': {'name': 'Jhon', 'salary': 7500},\n",
    "'emp2': {'name': 'Emma', 'salary': 8000},\n",
    "'emp3': {'name': 'Brad', 'salary': 6500}\n",
    "}\n",
    "Expected output:\n",
    "sampleDict = {\n",
    "'emp1': {'name': 'Jhon', 'salary': 7500},\n",
    "'emp2': {'name': 'Emma', 'salary': 8000},\n",
    "'emp3': {'name': 'Brad', 'salary': 8500}\n",
    "}"
   ]
  },
  {
   "cell_type": "code",
   "execution_count": null,
   "id": "99f199e6",
   "metadata": {},
   "outputs": [],
   "source": []
  },
  {
   "cell_type": "code",
   "execution_count": null,
   "id": "2b891137",
   "metadata": {},
   "outputs": [],
   "source": []
  },
  {
   "cell_type": "markdown",
   "id": "544cd7ee",
   "metadata": {},
   "source": [
    "### Tuple"
   ]
  },
  {
   "cell_type": "raw",
   "id": "12bbae03",
   "metadata": {},
   "source": [
    "1. Access value 20 from the following tuple\n",
    "aTuple = (\"Orange\", [10, 20, 30], (5, 15, 25))\n",
    "Expected output:\n",
    "20"
   ]
  },
  {
   "cell_type": "code",
   "execution_count": null,
   "id": "5b3d42f8",
   "metadata": {},
   "outputs": [],
   "source": []
  },
  {
   "cell_type": "code",
   "execution_count": null,
   "id": "6071f85c",
   "metadata": {},
   "outputs": [],
   "source": []
  },
  {
   "cell_type": "raw",
   "id": "7a50f4d1",
   "metadata": {},
   "source": [
    "2. Unpack the following tuple into 4 variables\n",
    "aTuple = (10, 20, 30, 40)\n",
    "Expected output:\n",
    "aTuple = (10, 20, 30, 40)\n",
    "print(a) # should print 10\n",
    "print(b) # should print 20\n",
    "print(c) # should print 30\n",
    "print(d) # should print 40"
   ]
  },
  {
   "cell_type": "code",
   "execution_count": null,
   "id": "5b2181e7",
   "metadata": {},
   "outputs": [],
   "source": []
  },
  {
   "cell_type": "code",
   "execution_count": null,
   "id": "368b56f2",
   "metadata": {},
   "outputs": [],
   "source": []
  },
  {
   "cell_type": "raw",
   "id": "4cf9aa0a",
   "metadata": {},
   "source": [
    "3. Swap the following two tuples\n",
    "tuple1 = (11, 22)\n",
    "tuple2 = (99, 88)\n",
    "Expected output:\n",
    "tuple1 = (99, 88)\n",
    "tuple2 = (11, 22)"
   ]
  },
  {
   "cell_type": "code",
   "execution_count": null,
   "id": "529f34e3",
   "metadata": {},
   "outputs": [],
   "source": []
  },
  {
   "cell_type": "code",
   "execution_count": null,
   "id": "aa4b6ed3",
   "metadata": {},
   "outputs": [],
   "source": []
  },
  {
   "cell_type": "raw",
   "id": "5e3702f2",
   "metadata": {},
   "source": [
    "4. Copy element 44 and 55 from the following tuple into a new tuple\n",
    "tuple1 = (11, 22, 33, 44, 55, 66)\n",
    "Expected output:\n",
    "tuple2: (44, 55)"
   ]
  },
  {
   "cell_type": "code",
   "execution_count": null,
   "id": "f99dc934",
   "metadata": {},
   "outputs": [],
   "source": []
  },
  {
   "cell_type": "code",
   "execution_count": null,
   "id": "73c59ed5",
   "metadata": {},
   "outputs": [],
   "source": []
  },
  {
   "cell_type": "raw",
   "id": "461f58b8",
   "metadata": {},
   "source": [
    "5. Modify the first item (22) of a list inside a following tuple to 222\n",
    "tuple1 = (11, [22, 33], 44, 55)\n",
    "Expected output:\n",
    "tuple1: (11, [222, 33], 44, 55)"
   ]
  },
  {
   "cell_type": "code",
   "execution_count": null,
   "id": "68e3f5c2",
   "metadata": {},
   "outputs": [],
   "source": []
  },
  {
   "cell_type": "code",
   "execution_count": null,
   "id": "30afb2ba",
   "metadata": {},
   "outputs": [],
   "source": []
  },
  {
   "cell_type": "raw",
   "id": "b7f4ffd2",
   "metadata": {},
   "source": [
    "6. What's the index of 2? In the given tuple\n",
    "Tuple_sample =(55, 777, 54, 6, 76, 101, 1, 2, 8679, 123, 99)"
   ]
  },
  {
   "cell_type": "code",
   "execution_count": null,
   "id": "2d7ba15c",
   "metadata": {},
   "outputs": [],
   "source": []
  },
  {
   "cell_type": "code",
   "execution_count": null,
   "id": "ba03ab4f",
   "metadata": {},
   "outputs": [],
   "source": []
  },
  {
   "cell_type": "raw",
   "id": "b86a15d9",
   "metadata": {},
   "source": [
    "7. What is the sum, min and max of all the numbers in the tuple?\n",
    "Tuple_sample =(42, 1092, 11, 88, 65, 2, 6)"
   ]
  },
  {
   "cell_type": "code",
   "execution_count": null,
   "id": "c8afda84",
   "metadata": {},
   "outputs": [],
   "source": []
  },
  {
   "cell_type": "code",
   "execution_count": null,
   "id": "6f0e4dcc",
   "metadata": {},
   "outputs": [],
   "source": []
  },
  {
   "cell_type": "markdown",
   "id": "c3326d92",
   "metadata": {},
   "source": [
    "### Set"
   ]
  },
  {
   "cell_type": "raw",
   "id": "d2965b6d",
   "metadata": {},
   "source": [
    "1. Add a list of elements to a given set\n",
    "sampleSet = {\"Yellow\", \"Orange\", \"Black\"}\n",
    "sampleList = [\"Blue\", \"Green\", \"Red\"]\n",
    "Expected output:\n",
    "{'Green', 'Yellow', 'Black', 'Orange', 'Red', 'Blue'}"
   ]
  },
  {
   "cell_type": "code",
   "execution_count": null,
   "id": "a93f8e04",
   "metadata": {},
   "outputs": [],
   "source": []
  },
  {
   "cell_type": "code",
   "execution_count": null,
   "id": "4d0af9bc",
   "metadata": {},
   "outputs": [],
   "source": []
  },
  {
   "cell_type": "raw",
   "id": "7eeab9be",
   "metadata": {},
   "source": [
    "2. Return a new set of identical items from a given two set\n",
    "set1 = {10, 20, 30, 40, 50}\n",
    "set2 = {30, 40, 50, 60, 70}\n",
    "Expected output:\n",
    "{40, 50, 30}"
   ]
  },
  {
   "cell_type": "code",
   "execution_count": null,
   "id": "b17d2526",
   "metadata": {},
   "outputs": [],
   "source": []
  },
  {
   "cell_type": "code",
   "execution_count": null,
   "id": "42b73214",
   "metadata": {},
   "outputs": [],
   "source": []
  },
  {
   "cell_type": "raw",
   "id": "54220227",
   "metadata": {},
   "source": [
    "3. Returns a new set with all items from both sets by removing\n",
    "duplicates\n",
    "set1 = {10, 20, 30, 40, 50}\n",
    "set2 = {30, 40, 50, 60, 70}\n",
    "Expected output:\n",
    "{70, 40, 10, 50, 20, 60, 30}"
   ]
  },
  {
   "cell_type": "code",
   "execution_count": null,
   "id": "90f32195",
   "metadata": {},
   "outputs": [],
   "source": []
  },
  {
   "cell_type": "code",
   "execution_count": null,
   "id": "c00b1691",
   "metadata": {},
   "outputs": [],
   "source": []
  },
  {
   "cell_type": "raw",
   "id": "a7e88ed8",
   "metadata": {},
   "source": [
    "4. Given two Python sets, update the first set with items that exist only\n",
    "in the first set and not in the second set.\n",
    "set1 = {10, 20, 30}\n",
    "set2 = {20, 40, 50}\n",
    "Expected output:\n",
    "set1 {10, 30}"
   ]
  },
  {
   "cell_type": "code",
   "execution_count": null,
   "id": "a217b0a4",
   "metadata": {},
   "outputs": [],
   "source": []
  },
  {
   "cell_type": "code",
   "execution_count": null,
   "id": "928172b0",
   "metadata": {},
   "outputs": [],
   "source": []
  },
  {
   "cell_type": "raw",
   "id": "dd52d6eb",
   "metadata": {},
   "source": [
    "5. Remove items 10, 20, 30 from the following set at once\n",
    "set1 = {10, 20, 30, 40, 50}\n",
    "Expected output:\n",
    "{40, 50}"
   ]
  },
  {
   "cell_type": "code",
   "execution_count": null,
   "id": "d374ba3a",
   "metadata": {},
   "outputs": [],
   "source": []
  },
  {
   "cell_type": "code",
   "execution_count": null,
   "id": "f0ea79a6",
   "metadata": {},
   "outputs": [],
   "source": []
  },
  {
   "cell_type": "markdown",
   "id": "b2162803",
   "metadata": {},
   "source": [
    "### String"
   ]
  },
  {
   "cell_type": "markdown",
   "id": "45f712b5",
   "metadata": {},
   "source": [
    "#### 1. Check if “is” present in the given string. String = “this is a sample Data”"
   ]
  },
  {
   "cell_type": "code",
   "execution_count": 98,
   "id": "f1987f2c",
   "metadata": {},
   "outputs": [
    {
     "name": "stdout",
     "output_type": "stream",
     "text": [
      "['this', 'is', 'a', 'sample', 'Data']\n",
      "present\n"
     ]
    }
   ],
   "source": [
    "String = \"this is a sample Data\"\n",
    "list1 = String.split(\" \")         #by converting string into list using split function\n",
    "print(list1)\n",
    "if \"is\" in list1:\n",
    "    print(\"present\")\n",
    "else:\n",
    "    print(\"not present\")"
   ]
  },
  {
   "cell_type": "markdown",
   "id": "f3f7af89",
   "metadata": {},
   "source": [
    "#### 2. Create a new string from the above string by removing“Data”."
   ]
  },
  {
   "cell_type": "code",
   "execution_count": 114,
   "id": "7b438296",
   "metadata": {},
   "outputs": [
    {
     "data": {
      "text/plain": [
       "'this is a sample'"
      ]
     },
     "execution_count": 114,
     "metadata": {},
     "output_type": "execute_result"
    }
   ],
   "source": [
    "String = \"this is a sample Data\"\n",
    "list1 = String.split(\" \")\n",
    "list1.remove(\"Data\")\n",
    "string2.join(list1)    #using remove and join function"
   ]
  },
  {
   "cell_type": "markdown",
   "id": "a0ebfb8d",
   "metadata": {},
   "source": [
    "#### 3. Display date, month and year from “15-Nov-2021”"
   ]
  },
  {
   "cell_type": "code",
   "execution_count": 115,
   "id": "3b59354b",
   "metadata": {},
   "outputs": [
    {
     "name": "stdout",
     "output_type": "stream",
     "text": [
      "Date:15\n",
      "Month:Nov\n",
      "Year:2021\n"
     ]
    }
   ],
   "source": [
    "string = \"15-Nov-2021\"\n",
    "list1 = string.split(\"-\")\n",
    "print(f\"Date:{list1[0]}\\nMonth:{list1[1]}\\nYear:{list1[2]}\")"
   ]
  },
  {
   "cell_type": "markdown",
   "id": "1c12585e",
   "metadata": {},
   "source": [
    "#### 4. Display ‘sample’ word from ‘ this is another sample string ‘"
   ]
  },
  {
   "cell_type": "code",
   "execution_count": 144,
   "id": "10c3efcf",
   "metadata": {},
   "outputs": [
    {
     "data": {
      "text/plain": [
       "'sample'"
      ]
     },
     "execution_count": 144,
     "metadata": {},
     "output_type": "execute_result"
    }
   ],
   "source": [
    "samplestrng = \"this is another sample string\"\n",
    "substrng = \"sample\"\n",
    "start = samplestrng.index(substrng)\n",
    "stop = start + len(substrng)\n",
    "samplestrng[start:stop]       #slicing  -->most efficient method"
   ]
  },
  {
   "cell_type": "code",
   "execution_count": 152,
   "id": "a9ab6191",
   "metadata": {},
   "outputs": [
    {
     "name": "stdout",
     "output_type": "stream",
     "text": [
      "sample\n"
     ]
    }
   ],
   "source": [
    "sample = \"this is another sample string\"\n",
    "lst = sample.split(\" \")     #using split to convert string into list\n",
    "for i in lst:\n",
    "    if i==\"sample\":\n",
    "        print(i)"
   ]
  },
  {
   "cell_type": "code",
   "execution_count": 118,
   "id": "475aa268",
   "metadata": {},
   "outputs": [
    {
     "name": "stdout",
     "output_type": "stream",
     "text": [
      "sample\n"
     ]
    }
   ],
   "source": [
    "if \"sample\" in sample:\n",
    "    print(\"sample\")       #simple way"
   ]
  },
  {
   "cell_type": "markdown",
   "id": "789361b1",
   "metadata": {},
   "source": [
    "#### 5. We have an array of values = “10,20,30,40,50,60,70”, get “50,60”"
   ]
  },
  {
   "cell_type": "code",
   "execution_count": 149,
   "id": "b07b4944",
   "metadata": {},
   "outputs": [
    {
     "data": {
      "text/plain": [
       "'50,60'"
      ]
     },
     "execution_count": 149,
     "metadata": {},
     "output_type": "execute_result"
    }
   ],
   "source": [
    "string = \"10,20,30,40,50,60,70\"\n",
    "subarray = \"50,60\"\n",
    "start = string.index(subarray)\n",
    "stop = start + len(subarray)\n",
    "string[start:stop]            #slicing"
   ]
  },
  {
   "cell_type": "code",
   "execution_count": 150,
   "id": "776a4e9f",
   "metadata": {},
   "outputs": [
    {
     "name": "stdout",
     "output_type": "stream",
     "text": [
      "50 60\n"
     ]
    }
   ],
   "source": [
    "array = [10,20,30,40,50,60,70]        #if considered as a list\n",
    "index1=array.index(50)\n",
    "index2=array.index(60)\n",
    "print(array[index1],array[index2])"
   ]
  },
  {
   "cell_type": "markdown",
   "id": "619f8305",
   "metadata": {},
   "source": [
    "#### 6. Find the sum of elements arr = “10,20,30,40,50,60,70”"
   ]
  },
  {
   "cell_type": "code",
   "execution_count": 159,
   "id": "21d5930e",
   "metadata": {},
   "outputs": [
    {
     "name": "stdout",
     "output_type": "stream",
     "text": [
      "280\n"
     ]
    }
   ],
   "source": [
    "arr = \"10,20,30,40,50,60,70\"\n",
    "lst = arr.split(\",\")\n",
    "sumof = 0\n",
    "for i in lst:\n",
    "    sumof = sumof + int(i)\n",
    "print(sumof)"
   ]
  },
  {
   "cell_type": "markdown",
   "id": "b698df08",
   "metadata": {},
   "source": [
    "#### 7. From the given string From credit_str =“1234-5678-9878-0434” print ‘0’"
   ]
  },
  {
   "cell_type": "code",
   "execution_count": 161,
   "id": "89c9f0b4",
   "metadata": {},
   "outputs": [
    {
     "data": {
      "text/plain": [
       "'0'"
      ]
     },
     "execution_count": 161,
     "metadata": {},
     "output_type": "execute_result"
    }
   ],
   "source": [
    "string =\"1234-5678-9878-0434\"\n",
    "sub=\"0\"\n",
    "start = string.index(sub)\n",
    "stop = start + len(sub)\n",
    "string[start:stop]"
   ]
  },
  {
   "cell_type": "markdown",
   "id": "c4b862c1",
   "metadata": {},
   "source": [
    "#### 8. From the given list calculate total scores.student_scores =[‘Alex|75 50 90 80 90 70’,‘Mary|76 72 71 68 85 69’,‘John|69 67 68 71 68 67’,‘Anne|80 69 59 82 71 81’,‘Mark|79 81 74 71 69 73’]"
   ]
  },
  {
   "cell_type": "code",
   "execution_count": 179,
   "id": "979e1821",
   "metadata": {},
   "outputs": [
    {
     "name": "stdout",
     "output_type": "stream",
     "text": [
      "The total score of Alex is 455\n",
      "The total score of Mary is 441\n",
      "The total score of John is 410\n",
      "The total score of Anne is 442\n",
      "The total score of Mark is 447\n"
     ]
    }
   ],
   "source": [
    "student_scores =[\"Alex|75 50 90 80 90 70\",\"Mary|76 72 71 68 85 69\",\"John|69 67 68 71 68 67\",\"Anne|80 69 59 82 71 81\",\n",
    "                 \"Mark|79 81 74 71 69 73\"]\n",
    "string = \" \"                             #efficient way\n",
    "sum_of_elements = 0\n",
    "for index in range(len(student_scores)):\n",
    "    string = student_scores[index]\n",
    "    split_string = string.split(\"|\")\n",
    "    name = split_string[0]\n",
    "    scores = split_string[1]\n",
    "    individual_scores = scores.split(\" \")\n",
    "    for value in individual_scores:\n",
    "        sum_of_elements = sum_of_elements + int(value)\n",
    "    print(f\"The total score of {name} is {sum_of_elements}\")\n",
    "    sum_of_elements = 0"
   ]
  },
  {
   "cell_type": "code",
   "execution_count": 180,
   "id": "38a3b656",
   "metadata": {},
   "outputs": [
    {
     "name": "stdout",
     "output_type": "stream",
     "text": [
      "the total score of Alex is 455\n",
      "the total score of Mary is 441\n",
      "the total score of John is 410\n",
      "the total score of Anne is 442\n",
      "the total score of Mark is 447\n"
     ]
    }
   ],
   "source": [
    "student_scores =[\"Alex|75 50 90 80 90 70\",\"Mary|76 72 71 68 85 69\",\"John|69 67 68 71 68 67\",\"Anne|80 69 59 82 71 81\",\n",
    "                 \"Mark|79 81 74 71 69 73\"]\n",
    "names = []\n",
    "list2=[]\n",
    "scores =[]\n",
    "for i in student_scores:\n",
    "    split1 = i.split(\"|\")\n",
    "    names.append(split1[0])\n",
    "    scores.append(split1[1])\n",
    "for i in scores:\n",
    "    split2 = i.split(\" \")\n",
    "    total =0\n",
    "    for j in split2:\n",
    "        total = total+int(j)\n",
    "    list2.append(total)\n",
    "for i in range(len(names)):\n",
    "    print(f\"the total score of {names[i]} is {list2[i]}\")"
   ]
  },
  {
   "cell_type": "markdown",
   "id": "0f42984c",
   "metadata": {},
   "source": [
    "#### 9. Calculate the sum and average of the digits present in a string (ex : “lasya253@21658922”)"
   ]
  },
  {
   "cell_type": "code",
   "execution_count": 187,
   "id": "4db34260",
   "metadata": {},
   "outputs": [
    {
     "name": "stdout",
     "output_type": "stream",
     "text": [
      "the sum is: 45\n",
      "the average is: 4.090909090909091\n"
     ]
    }
   ],
   "source": [
    "ex = \"lasya253@21658922\"\n",
    "digits = [\"0\",\"1\",\"2\",\"3\",\"4\",\"5\",\"6\",\"7\",\"8\",\"9\"]\n",
    "count =0\n",
    "total =0\n",
    "for i in ex:\n",
    "    if i in digits:\n",
    "        count+=1\n",
    "        total+= int(i)\n",
    "average = total/count\n",
    "print(f\"the sum is: {total}\")\n",
    "print(f\"the average is: {average}\")"
   ]
  },
  {
   "cell_type": "code",
   "execution_count": null,
   "id": "9bc98065",
   "metadata": {},
   "outputs": [],
   "source": []
  },
  {
   "cell_type": "markdown",
   "id": "ddfb8334",
   "metadata": {},
   "source": [
    "#### 10.Remove all characters from a string except integers( Ex :str1 = 'I am 25 years and 10 months old', output : 2510)"
   ]
  },
  {
   "cell_type": "code",
   "execution_count": 195,
   "id": "efc131db",
   "metadata": {},
   "outputs": [
    {
     "name": "stdout",
     "output_type": "stream",
     "text": [
      "2510"
     ]
    }
   ],
   "source": [
    "str1 = 'I am 25 years and 10 months old'\n",
    "digits = [\"0\",\"1\",\"2\",\"3\",\"4\",\"5\",\"6\",\"7\",\"8\",\"9\"]         #easy but not justifies the question\n",
    "lst = []\n",
    "for char in str1:\n",
    "    if char in digits:\n",
    "        print(char,end=\"\")"
   ]
  },
  {
   "cell_type": "code",
   "execution_count": 194,
   "id": "83ed14f7",
   "metadata": {},
   "outputs": [
    {
     "name": "stdout",
     "output_type": "stream",
     "text": [
      "2510\n"
     ]
    }
   ],
   "source": [
    "str1 = \"I am 25 years and 10 months old\"\n",
    "list2 = [\"0\",\"1\",\"2\",\"3\",\"4\",\"5\",\"6\",\"7\",\"8\",\"9\"]          #correct according to question\n",
    "\n",
    "for char in str1:\n",
    "    if char not in list2:\n",
    "        str1 = str1.replace(char,\"\")\n",
    "        \n",
    "print(str1)"
   ]
  },
  {
   "cell_type": "code",
   "execution_count": null,
   "id": "69325d20",
   "metadata": {},
   "outputs": [],
   "source": []
  }
 ],
 "metadata": {
  "kernelspec": {
   "display_name": "Python 3 (ipykernel)",
   "language": "python",
   "name": "python3"
  },
  "language_info": {
   "codemirror_mode": {
    "name": "ipython",
    "version": 3
   },
   "file_extension": ".py",
   "mimetype": "text/x-python",
   "name": "python",
   "nbconvert_exporter": "python",
   "pygments_lexer": "ipython3",
   "version": "3.10.0"
  }
 },
 "nbformat": 4,
 "nbformat_minor": 5
}
