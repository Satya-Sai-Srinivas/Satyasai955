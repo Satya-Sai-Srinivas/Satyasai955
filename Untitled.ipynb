{
 "cells": [
  {
   "cell_type": "code",
   "execution_count": null,
   "id": "c006a869",
   "metadata": {},
   "outputs": [],
   "source": []
  },
  {
   "cell_type": "code",
   "execution_count": 33,
   "id": "d493a67e",
   "metadata": {},
   "outputs": [],
   "source": [
    "\n",
    "def minimum_pluses(A):\n",
    "    list1 = A.split(\"=\")\n",
    "    list2 = []\n",
    "    x = list1[0]\n",
    "    y = list1[1]\n",
    "    Sum = 0\n",
    "    count = 0\n",
    "    \n",
    "    for char in x:\n",
    "        list2.append(int(char))\n",
    "        print(list2)\n",
    "    for index in range(len(list2)):\n",
    "        Sum = Sum + list2[index]\n",
    "        count = count + 1\n",
    "    print(Sum)\n",
    "    if Sum == int(y):\n",
    "        print(count-1)\n",
    "    else:\n",
    "        print(-1)\n",
    "\n",
    "        \n",
    "            "
   ]
  },
  {
   "cell_type": "code",
   "execution_count": null,
   "id": "32078b62",
   "metadata": {},
   "outputs": [],
   "source": []
  },
  {
   "cell_type": "code",
   "execution_count": 35,
   "id": "afdfd4af",
   "metadata": {},
   "outputs": [
    {
     "name": "stdout",
     "output_type": "stream",
     "text": [
      "[2]\n",
      "[2, 3]\n",
      "[2, 3, 5]\n",
      "10\n",
      "-1\n"
     ]
    }
   ],
   "source": [
    "minimum_pluses(\"235=7\")"
   ]
  },
  {
   "cell_type": "code",
   "execution_count": 19,
   "id": "0697b269",
   "metadata": {},
   "outputs": [
    {
     "name": "stdout",
     "output_type": "stream",
     "text": [
      "23=5\n",
      "['23', '5']\n"
     ]
    }
   ],
   "source": [
    "inpute = input()\n",
    "list1 = inpute.split(\"=\")\n",
    "print(list1)"
   ]
  },
  {
   "cell_type": "code",
   "execution_count": null,
   "id": "4f477e0b",
   "metadata": {},
   "outputs": [],
   "source": []
  },
  {
   "cell_type": "code",
   "execution_count": null,
   "id": "f08c6d4c",
   "metadata": {},
   "outputs": [],
   "source": []
  },
  {
   "cell_type": "code",
   "execution_count": 95,
   "id": "18056e52",
   "metadata": {},
   "outputs": [],
   "source": [
    "class logindata:\n",
    "  \n",
    "    def username(self):\n",
    "        print(\"Satya-Sai-Srinivas\")\n",
    "    def password(self):\n",
    "        print(\"Satya@2002\")"
   ]
  },
  {
   "cell_type": "code",
   "execution_count": 96,
   "id": "76e15703",
   "metadata": {},
   "outputs": [],
   "source": [
    "satya = logindata()"
   ]
  },
  {
   "cell_type": "code",
   "execution_count": 97,
   "id": "f6362f91",
   "metadata": {},
   "outputs": [
    {
     "name": "stdout",
     "output_type": "stream",
     "text": [
      "Satya@2002\n"
     ]
    }
   ],
   "source": [
    "satya.password()"
   ]
  },
  {
   "cell_type": "code",
   "execution_count": 52,
   "id": "18950d2c",
   "metadata": {},
   "outputs": [
    {
     "name": "stdout",
     "output_type": "stream",
     "text": [
      "Satya-Sai-Srinivas\n"
     ]
    }
   ],
   "source": [
    "satya.username()"
   ]
  },
  {
   "cell_type": "code",
   "execution_count": 62,
   "id": "a362f1d7",
   "metadata": {},
   "outputs": [],
   "source": [
    "def logindata():\n",
    "    def username():\n",
    "        print(\"Satya-Sai-Srinivas\")\n",
    "    def password():\n",
    "        print(\"Satya@2002\")\n",
    "        "
   ]
  },
  {
   "cell_type": "code",
   "execution_count": 69,
   "id": "93afc336",
   "metadata": {},
   "outputs": [
    {
     "ename": "NameError",
     "evalue": "name 'username' is not defined",
     "output_type": "error",
     "traceback": [
      "\u001b[1;31m---------------------------------------------------------------------------\u001b[0m",
      "\u001b[1;31mNameError\u001b[0m                                 Traceback (most recent call last)",
      "\u001b[1;32m~\\AppData\\Local\\Temp/ipykernel_1428/1158198120.py\u001b[0m in \u001b[0;36m<module>\u001b[1;34m\u001b[0m\n\u001b[1;32m----> 1\u001b[1;33m \u001b[0mprint\u001b[0m\u001b[1;33m(\u001b[0m\u001b[0mlogindata\u001b[0m\u001b[1;33m(\u001b[0m\u001b[0musername\u001b[0m\u001b[1;33m)\u001b[0m\u001b[1;33m)\u001b[0m\u001b[1;33m\u001b[0m\u001b[1;33m\u001b[0m\u001b[0m\n\u001b[0m",
      "\u001b[1;31mNameError\u001b[0m: name 'username' is not defined"
     ]
    }
   ],
   "source": [
    "print(logindata(username))"
   ]
  },
  {
   "cell_type": "code",
   "execution_count": 103,
   "id": "759dacfd",
   "metadata": {},
   "outputs": [],
   "source": [
    "class logindata:\n",
    "\n",
    "    def email(self):\n",
    "        print(\"satyasaisrinivas955@gmail.com\")\n",
    "\n",
    "    def password(self):\n",
    "        print(\"Satya@2002\")"
   ]
  },
  {
   "cell_type": "code",
   "execution_count": 109,
   "id": "8e5f8702",
   "metadata": {
    "scrolled": true
   },
   "outputs": [
    {
     "data": {
      "text/plain": [
       "'from selenium import webdriver\\nfrom logindata import logindata\\nimport time\\n\\nLogindata = logindata()\\nurl = \"https://github.com/\"\\nbrowser = webdriver.Chrome(\"D:\\\\driver\\\\chromedriver.exe\")\\ntime.sleep(1)\\nbrowser.get(url)\\ntime.sleep(1)\\n\\nsign_in_link = browser.find_element_by_link_text(\"Sign in\")\\nsign_in_link.click()\\ntime.sleep(1)\\n\\nprint(Logindata.email())\\n\\n\\n\\nusername_link = browser.find_element_by_name(\"login\")\\npassword_link = browser.find_element_by_name(\"password\")\\ntime.sleep(1)\\n\\n\\nusername_link.send_keys(Logindata.email())\\npassword_link.send_keys(Logindata.password())\\nprint(Logindata.email())\\n\\nbutton = browser.find_element_by_name(\"commit\")\\nbutton.click()\\n'"
      ]
     },
     "execution_count": 109,
     "metadata": {},
     "output_type": "execute_result"
    }
   ],
   "source": [
    "from selenium import webdriver\n",
    "from logindata import logindata\n",
    "import time\n",
    "\n",
    "Logindata = logindata()\n",
    "url = \"https://github.com/\"\n",
    "browser = webdriver.Chrome(\"D:\\driver\\chromedriver.exe\")\n",
    "time.sleep(1)\n",
    "browser.get(url)\n",
    "time.sleep(1)\n",
    "\n",
    "sign_in_link = browser.find_element_by_link_text(\"Sign in\")\n",
    "sign_in_link.click()\n",
    "time.sleep(1)\n",
    "\n",
    "print(Logindata.email())\n",
    "\n",
    "\n",
    "\n",
    "username_link = browser.find_element_by_name(\"login\")\n",
    "password_link = browser.find_element_by_name(\"password\")\n",
    "time.sleep(1)\n",
    "\n",
    "\n",
    "username_link.send_keys(Logindata.email())\n",
    "password_link.send_keys(Logindata.password())\n",
    "print(Logindata.email())\n",
    "\n",
    "button = browser.find_element_by_name(\"commit\")\n",
    "button.click()\n"
   ]
  },
  {
   "cell_type": "code",
   "execution_count": 101,
   "id": "ced58756",
   "metadata": {},
   "outputs": [],
   "source": [
    "Logindata = logindata()"
   ]
  },
  {
   "cell_type": "code",
   "execution_count": 102,
   "id": "a32ea0e1",
   "metadata": {},
   "outputs": [
    {
     "name": "stdout",
     "output_type": "stream",
     "text": [
      "satyasaisrinivas955@gmail.com\n"
     ]
    }
   ],
   "source": [
    "Logindata.email()"
   ]
  },
  {
   "cell_type": "code",
   "execution_count": null,
   "id": "180291d8",
   "metadata": {},
   "outputs": [],
   "source": []
  },
  {
   "cell_type": "code",
   "execution_count": null,
   "id": "8ebffe77",
   "metadata": {},
   "outputs": [],
   "source": []
  }
 ],
 "metadata": {
  "kernelspec": {
   "display_name": "Python 3 (ipykernel)",
   "language": "python",
   "name": "python3"
  },
  "language_info": {
   "codemirror_mode": {
    "name": "ipython",
    "version": 3
   },
   "file_extension": ".py",
   "mimetype": "text/x-python",
   "name": "python",
   "nbconvert_exporter": "python",
   "pygments_lexer": "ipython3",
   "version": "3.10.0"
  }
 },
 "nbformat": 4,
 "nbformat_minor": 5
}
