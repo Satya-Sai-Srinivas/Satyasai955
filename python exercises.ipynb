{
 "cells": [
  {
   "cell_type": "markdown",
   "id": "5e2c57ba",
   "metadata": {},
   "source": [
    "## VARIABLES, DATA TYPES, OPERATIONS"
   ]
  },
  {
   "cell_type": "markdown",
   "id": "7bdb70ad",
   "metadata": {},
   "source": [
    "### 1)"
   ]
  },
  {
   "cell_type": "code",
   "execution_count": 47,
   "id": "137a5b13",
   "metadata": {},
   "outputs": [
    {
     "ename": "TypeError",
     "evalue": "metaclass conflict: the metaclass of a derived class must be a (non-strict) subclass of the metaclasses of all its bases",
     "output_type": "error",
     "traceback": [
      "\u001b[1;31m---------------------------------------------------------------------------\u001b[0m",
      "\u001b[1;31mTypeError\u001b[0m                                 Traceback (most recent call last)",
      "\u001b[1;32m~\\AppData\\Local\\Temp/ipykernel_8612/695513144.py\u001b[0m in \u001b[0;36m<module>\u001b[1;34m\u001b[0m\n\u001b[1;32m----> 1\u001b[1;33m \u001b[0mtype\u001b[0m\u001b[1;33m(\u001b[0m\u001b[1;34m'satya'\u001b[0m\u001b[1;33m,\u001b[0m\u001b[1;33m(\u001b[0m\u001b[1;36m1\u001b[0m\u001b[1;33m,\u001b[0m\u001b[1;36m2\u001b[0m\u001b[1;33m)\u001b[0m\u001b[1;33m,\u001b[0m\u001b[1;33m{\u001b[0m\u001b[1;36m1.01\u001b[0m\u001b[1;33m:\u001b[0m\u001b[1;34m''\u001b[0m\u001b[1;33m}\u001b[0m\u001b[1;33m)\u001b[0m\u001b[1;33m\u001b[0m\u001b[1;33m\u001b[0m\u001b[0m\n\u001b[0m",
      "\u001b[1;31mTypeError\u001b[0m: metaclass conflict: the metaclass of a derived class must be a (non-strict) subclass of the metaclasses of all its bases"
     ]
    }
   ],
   "source": [
    "type('satya',(1,2),{1.01:''})"
   ]
  },
  {
   "cell_type": "markdown",
   "id": "cee4dbbe",
   "metadata": {},
   "source": [
    "metaclass conflict"
   ]
  },
  {
   "cell_type": "code",
   "execution_count": 31,
   "id": "09d6a7c8",
   "metadata": {},
   "outputs": [
    {
     "data": {
      "text/plain": [
       "1820047343344"
      ]
     },
     "execution_count": 31,
     "metadata": {},
     "output_type": "execute_result"
    }
   ],
   "source": [
    "id('satya')"
   ]
  },
  {
   "cell_type": "code",
   "execution_count": 32,
   "id": "9edd7132",
   "metadata": {},
   "outputs": [
    {
     "data": {
      "text/plain": [
       "'0x1a7c3467ef0'"
      ]
     },
     "execution_count": 32,
     "metadata": {},
     "output_type": "execute_result"
    }
   ],
   "source": [
    "hex(id('satya'))"
   ]
  },
  {
   "cell_type": "markdown",
   "id": "c66a6e80",
   "metadata": {},
   "source": [
    "\\n --> newline\n",
    "\\t --> tabspace"
   ]
  },
  {
   "cell_type": "markdown",
   "id": "8e367e47",
   "metadata": {},
   "source": [
    "### bitwise operators"
   ]
  },
  {
   "cell_type": "markdown",
   "id": "47ab4943",
   "metadata": {},
   "source": [
    "bitwise or-->          |   Result bit 1,if both operand bits are 1;otherwise results bit 0(or table)\n",
    "bitwise and-->         &   Result bit 1,if any of the operand bit is 1; otherwise results bit 0(and table)\n",
    "bitwise not-->         ~   inverts individual bits(not table)\n",
    "bitwise xor-->         ^   Results bit 1,if any of the operand bit is 1 but not both, otherwise results bit 0(xor table)\n",
    "bitwise right shift--> >>  The left operand’s value is moved toward right by the number of bits specified by the right operand.\n",
    "bitwise left shift-->  <<  The left operand’s value is moved toward left by the number of bits specified by the right operand."
   ]
  },
  {
   "cell_type": "markdown",
   "id": "5f95f9e9",
   "metadata": {},
   "source": [
    "### 2)\n",
    "All work and no play makes Jack a dull boy\n",
    "Store each word in a separate variable, then\n",
    "    a. print out the sentence on one line using print.\n",
    "    b. Print out each word in a separate line\n",
    "    c. Print out each word with a comma separating on one\n",
    "    line\n",
    "    d. Print out each word on a new line with incremental\n",
    "    spaces at the beginning of each word"
   ]
  },
  {
   "cell_type": "code",
   "execution_count": 13,
   "id": "a8b84efa",
   "metadata": {},
   "outputs": [
    {
     "name": "stdout",
     "output_type": "stream",
     "text": [
      "A) All work and no play makes Jack a dull boy\n",
      "B) All\n",
      "work\n",
      "and\n",
      "no\n",
      "play\n",
      "makes\n",
      "Jack\n",
      "a\n",
      "dull\n",
      "boy\n",
      "C) All,work,and,no,play,makes,Jack,a,dull,boy\n",
      "D) All\n",
      " work\n",
      "  and\n",
      "   no\n",
      "    play\n",
      "     makes\n",
      "      Jack\n",
      "       a\n",
      "        dull\n",
      "         boy\n"
     ]
    }
   ],
   "source": [
    "Da='All'\n",
    "b='work'\n",
    "c='and'\n",
    "d='no'\n",
    "e='play'\n",
    "f='makes'\n",
    "g='Jack'\n",
    "h='a'\n",
    "i='dull'\n",
    "j='boy'\n",
    "print('A) '+a+' '+b+' '+c+' '+d+' '+e+' '+f+' '+g+' '+h+' '+i+' '+j)\n",
    "print(f\"B) {a}\\n{b}\\n{c}\\n{d}\\n{e}\\n{f}\\n{g}\\n{h}\\n{i}\\n{j}\")\n",
    "print(f\"C) {a},{b},{c},{d},{e},{f},{g},{h},{i},{j}\")\n",
    "print(f\"D) {a}\\n {b}\\n  {c}\\n   {d}\\n    {e}\\n     {f}\\n      {g}\\n       {h}\\n        {i}\\n         {j}\")"
   ]
  },
  {
   "cell_type": "code",
   "execution_count": 83,
   "id": "c8d70503",
   "metadata": {},
   "outputs": [
    {
     "name": "stdout",
     "output_type": "stream",
     "text": [
      "abcd \n",
      " \"bc\"dv\n"
     ]
    }
   ],
   "source": [
    "print(\"abcd \\n \\\"bc\\\"dv\")"
   ]
  },
  {
   "cell_type": "code",
   "execution_count": 88,
   "id": "64c1a2b0",
   "metadata": {},
   "outputs": [
    {
     "name": "stdout",
     "output_type": "stream",
     "text": [
      "\n",
      "\n"
     ]
    }
   ],
   "source": [
    "print(\"\\n\")"
   ]
  },
  {
   "cell_type": "markdown",
   "id": "e36d9daa",
   "metadata": {},
   "source": [
    "### 3)\n",
    "Write a Python program that assigns the principal\n",
    "amount of 10000 to variable P, assign to n the value 12, and\n",
    "assign to r the interest rate of 8% (0.08). Then have the\n",
    "program prompt the user for the number of years, t, that\n",
    "the money will be compounded for. Calculate and print the\n",
    "final amount after t years.\n"
   ]
  },
  {
   "cell_type": "code",
   "execution_count": 14,
   "id": "c9ecfe6e",
   "metadata": {},
   "outputs": [
    {
     "name": "stdout",
     "output_type": "stream",
     "text": [
      "t: 5\n",
      "the final amount after 5 years is 14898.45708301605\n"
     ]
    }
   ],
   "source": [
    "p = 10000\n",
    "n=12\n",
    "r=(0.08)\n",
    "t=int(input(\"t: \"))\n",
    "CI = p*(1+(r/n))**(n*t)\n",
    "print(f\"the final amount after {t} years is {CI}\")"
   ]
  },
  {
   "cell_type": "markdown",
   "id": "22cc0b7f",
   "metadata": {},
   "source": [
    "### 4)\n",
    "Accept the radius of the circle from the user and compute\n",
    "the perimeter and radius of the circle"
   ]
  },
  {
   "cell_type": "code",
   "execution_count": 18,
   "id": "cb726535",
   "metadata": {},
   "outputs": [
    {
     "name": "stdout",
     "output_type": "stream",
     "text": [
      "enter the radius: 3\n",
      "18.84\n"
     ]
    }
   ],
   "source": [
    "r=int(input(\"enter the radius: \"))\n",
    "p = 2*3.14*r\n",
    "print(p)"
   ]
  },
  {
   "cell_type": "markdown",
   "id": "0a95aaf7",
   "metadata": {},
   "source": [
    "### 5)\n",
    "Many people keep time using a 24 hour clock (11 is 11am\n",
    "and 23 is 11pm, 0 is midnight). If it is currently 13 and you set\n",
    "your alarm to go off in 50 hours, it will be 15 (3pm). Write a\n",
    "Python program to solve the general version of the above\n",
    "problem. Ask the user for the time now (in hours), and then\n",
    "ask for the number of hours to wait for the alarm. Your\n",
    "program should output what the time will be on the clock\n",
    "when the alarm goes off"
   ]
  },
  {
   "cell_type": "code",
   "execution_count": 58,
   "id": "5c66fcb1",
   "metadata": {},
   "outputs": [
    {
     "name": "stdout",
     "output_type": "stream",
     "text": [
      "time now: 13\n",
      "wait time: 50\n",
      "the alarm goes off at: 15\n"
     ]
    }
   ],
   "source": [
    "h=int(input(\"time now: \"))\n",
    "n=int(input(\"wait time: \"))\n",
    "g=h+n%24\n",
    "print(\"the alarm goes off at:\",g)"
   ]
  },
  {
   "cell_type": "markdown",
   "id": "e224b585",
   "metadata": {},
   "source": [
    "### 6)\n",
    "Write a program that will compute the area of a rectangle.\n",
    "Prompt the user to enter the width and height of the\n",
    "rectangle and store the values in variables called width and\n",
    "height. Print a nice message with the answer"
   ]
  },
  {
   "cell_type": "code",
   "execution_count": 56,
   "id": "8d460f92",
   "metadata": {},
   "outputs": [
    {
     "name": "stdout",
     "output_type": "stream",
     "text": [
      "width: 3\n",
      "height: 3\n",
      "area of the rectangle is 9\n"
     ]
    }
   ],
   "source": [
    "w =int(input(\"width: \"))\n",
    "h = int(input(\"height: \"))\n",
    "a = w*h\n",
    "print(f\"area of the rectangle is {a}\")"
   ]
  },
  {
   "cell_type": "markdown",
   "id": "5894b877",
   "metadata": {},
   "source": [
    "### 7)\n",
    "Write a program that will convert degrees celsius to\n",
    "degrees fahrenheit"
   ]
  },
  {
   "cell_type": "code",
   "execution_count": 47,
   "id": "33eb97a0",
   "metadata": {},
   "outputs": [
    {
     "name": "stdout",
     "output_type": "stream",
     "text": [
      "celsius: 37\n",
      "98.60\n"
     ]
    }
   ],
   "source": [
    "c=int(input(\"celsius: \"))\n",
    "f= (c*9/5)+32\n",
    "print(f\"{f:.2f}\")"
   ]
  },
  {
   "cell_type": "markdown",
   "id": "4a45d82b",
   "metadata": {},
   "source": [
    "### 8)\n",
    "Write a program that will convert degrees fahrenheit to\n",
    "degrees celsius"
   ]
  },
  {
   "cell_type": "code",
   "execution_count": 53,
   "id": "b5804657",
   "metadata": {},
   "outputs": [
    {
     "name": "stdout",
     "output_type": "stream",
     "text": [
      "farenheit: 98\n",
      "36.666666666666664\n"
     ]
    }
   ],
   "source": [
    "f=float(input(\"farenheit: \"))\n",
    "c= (f-32)*5/9\n",
    "print(c)"
   ]
  },
  {
   "cell_type": "markdown",
   "id": "79996608",
   "metadata": {},
   "source": [
    "### 9)\n",
    "Write a program that asks the user to enter two integers.\n",
    "Have the program output the two integers and the result\n",
    "when the first number entered is raised to the power of\n",
    "the second number entered"
   ]
  },
  {
   "cell_type": "code",
   "execution_count": 61,
   "id": "90239313",
   "metadata": {},
   "outputs": [
    {
     "name": "stdout",
     "output_type": "stream",
     "text": [
      "enter a:3\n",
      "enter b:2\n",
      "2**3 = 8 \n"
     ]
    }
   ],
   "source": [
    "a=int(input(\"enter a:\"))\n",
    "b=int(input(\"enter b:\"))\n",
    "c=b**a\n",
    "print(f\"{b}**{a} = {c} \")"
   ]
  },
  {
   "cell_type": "markdown",
   "id": "03a4c64f",
   "metadata": {},
   "source": [
    "### 10)\n",
    "Using the modulus operator, assign the remainder of\n",
    "1000/400 to the variable"
   ]
  },
  {
   "cell_type": "code",
   "execution_count": 63,
   "id": "e7003085",
   "metadata": {},
   "outputs": [
    {
     "name": "stdout",
     "output_type": "stream",
     "text": [
      "200\n"
     ]
    }
   ],
   "source": [
    "a=1000%400\n",
    "print(a)"
   ]
  },
  {
   "cell_type": "markdown",
   "id": "5bbecfef",
   "metadata": {},
   "source": [
    "### 11)\n",
    "Using power operator **, assign the square of 11111 to the\n",
    "variable."
   ]
  },
  {
   "cell_type": "code",
   "execution_count": 64,
   "id": "1ab0d2fb",
   "metadata": {},
   "outputs": [
    {
     "name": "stdout",
     "output_type": "stream",
     "text": [
      "123454321\n"
     ]
    }
   ],
   "source": [
    "a=11111**2\n",
    "print(a)"
   ]
  },
  {
   "cell_type": "markdown",
   "id": "a3ffd150",
   "metadata": {},
   "source": [
    "### 12)\n",
    "What is the output of print(2 ** 3 ** 2)\n"
   ]
  },
  {
   "cell_type": "code",
   "execution_count": 65,
   "id": "f5be18ec",
   "metadata": {},
   "outputs": [
    {
     "name": "stdout",
     "output_type": "stream",
     "text": [
      "512\n"
     ]
    }
   ],
   "source": [
    "print(2**9)"
   ]
  },
  {
   "cell_type": "code",
   "execution_count": 66,
   "id": "6ab2b185",
   "metadata": {},
   "outputs": [
    {
     "name": "stdout",
     "output_type": "stream",
     "text": [
      "512\n"
     ]
    }
   ],
   "source": [
    "print(2**3**2)"
   ]
  },
  {
   "cell_type": "markdown",
   "id": "7f8bfd32",
   "metadata": {},
   "source": [
    "## LOOPS AND STATEMENTS"
   ]
  },
  {
   "cell_type": "markdown",
   "id": "373fd389",
   "metadata": {},
   "source": [
    "### 1) Write a program to print the following number pattern using a loop.\n",
    "    1\n",
    "    1 2\n",
    "    1 2 3\n",
    "    1 2 3 4\n",
    "    1 2 3 4 5"
   ]
  },
  {
   "cell_type": "code",
   "execution_count": null,
   "id": "897d259a",
   "metadata": {},
   "outputs": [],
   "source": []
  },
  {
   "cell_type": "markdown",
   "id": "da3f9ca9",
   "metadata": {},
   "source": [
    "2. Write a program to accept a number from a user and calculate the\n",
    "sum of all numbers from 1 to a given number"
   ]
  },
  {
   "cell_type": "code",
   "execution_count": null,
   "id": "a105d14b",
   "metadata": {},
   "outputs": [],
   "source": []
  },
  {
   "cell_type": "markdown",
   "id": "0a1f26c2",
   "metadata": {},
   "source": [
    "3. Write a program to print multiplication table of a given number"
   ]
  },
  {
   "cell_type": "code",
   "execution_count": null,
   "id": "023a0cd1",
   "metadata": {},
   "outputs": [],
   "source": []
  },
  {
   "cell_type": "markdown",
   "id": "f03385a4",
   "metadata": {},
   "source": [
    "4. Write a program to count the total number of digits in a number\n",
    "using a while loop.\n",
    "For example, the number is 75869, so the output should be 5."
   ]
  },
  {
   "cell_type": "code",
   "execution_count": null,
   "id": "650ff7c3",
   "metadata": {},
   "outputs": [],
   "source": []
  },
  {
   "cell_type": "markdown",
   "id": "5902fd9a",
   "metadata": {},
   "source": [
    "5. Write a program to use the loop to find the factorial of a given\n",
    "number."
   ]
  },
  {
   "cell_type": "code",
   "execution_count": null,
   "id": "8db820e2",
   "metadata": {},
   "outputs": [],
   "source": []
  },
  {
   "cell_type": "markdown",
   "id": "fb4f3471",
   "metadata": {},
   "source": [
    "6. Write a python program to find the sum of all even numbers from 0\n",
    "to 10"
   ]
  },
  {
   "cell_type": "code",
   "execution_count": null,
   "id": "47d9b22d",
   "metadata": {},
   "outputs": [],
   "source": []
  },
  {
   "cell_type": "markdown",
   "id": "521f43d7",
   "metadata": {},
   "source": [
    "7. Write a python program to read three numbers (a,b,c) and check\n",
    "how many numbers between ‘a’ and ‘b’ are divisible by ‘c"
   ]
  },
  {
   "cell_type": "code",
   "execution_count": null,
   "id": "621eaa01",
   "metadata": {},
   "outputs": [],
   "source": []
  },
  {
   "cell_type": "markdown",
   "id": "374683e4",
   "metadata": {},
   "source": [
    "8. Write a python program to read radius of a circle and print the area"
   ]
  },
  {
   "cell_type": "code",
   "execution_count": null,
   "id": "31a823ab",
   "metadata": {},
   "outputs": [],
   "source": []
  },
  {
   "cell_type": "markdown",
   "id": "37bae73b",
   "metadata": {},
   "source": [
    "9. Write a python program to read a number ,if it is an even number ,\n",
    "print the square of that number and if it is an odd number print a\n",
    "cube of that number."
   ]
  },
  {
   "cell_type": "code",
   "execution_count": null,
   "id": "2de9f9b9",
   "metadata": {},
   "outputs": [],
   "source": []
  },
  {
   "cell_type": "markdown",
   "id": "6da56180",
   "metadata": {},
   "source": [
    "10. Write a python program to read two numbers and find the sum of\n",
    "their cubes"
   ]
  },
  {
   "cell_type": "code",
   "execution_count": null,
   "id": "bb58f99f",
   "metadata": {},
   "outputs": [],
   "source": []
  },
  {
   "cell_type": "markdown",
   "id": "9781f188",
   "metadata": {},
   "source": [
    "11. Given two integer numbers return their product only if the product is\n",
    "greater than 1000, else return their sum."
   ]
  },
  {
   "cell_type": "code",
   "execution_count": null,
   "id": "d9b527e2",
   "metadata": {},
   "outputs": [],
   "source": []
  },
  {
   "cell_type": "markdown",
   "id": "3ee72aca",
   "metadata": {},
   "source": [
    "12. Write a program to iterate the first 10 numbers and in each iteration,\n",
    "print the sum of the current and previous number."
   ]
  },
  {
   "cell_type": "code",
   "execution_count": null,
   "id": "cf0c4b4a",
   "metadata": {},
   "outputs": [],
   "source": []
  },
  {
   "cell_type": "markdown",
   "id": "bf62579b",
   "metadata": {},
   "source": [
    "13. Write a program to check if the given number is a palindrome\n",
    "number. A palindrome number is a number that is the same after\n",
    "reverse. For example 545, is the palindrome numbers"
   ]
  },
  {
   "cell_type": "code",
   "execution_count": null,
   "id": "239e0aa1",
   "metadata": {},
   "outputs": [],
   "source": []
  },
  {
   "cell_type": "markdown",
   "id": "59a71d5e",
   "metadata": {},
   "source": [
    "14. Given a two list of numbers, write a program to create a new list such\n",
    "that the new list should contain odd numbers from the first list and\n",
    "even numbers from the second list."
   ]
  },
  {
   "cell_type": "code",
   "execution_count": null,
   "id": "1b4d6053",
   "metadata": {},
   "outputs": [],
   "source": []
  },
  {
   "cell_type": "markdown",
   "id": "8651bf84",
   "metadata": {},
   "source": [
    "15.Write a Program to extract each digit from an integer in the reverse\n",
    "order. For example, If the given int is 7536, the output shall be “6 3 5\n",
    "7“, with a space separating the digits."
   ]
  },
  {
   "cell_type": "code",
   "execution_count": null,
   "id": "d74c0a32",
   "metadata": {},
   "outputs": [],
   "source": []
  },
  {
   "cell_type": "markdown",
   "id": "eb0cc64a",
   "metadata": {},
   "source": [
    "16. Display numbers from -10 to -1 using for loop"
   ]
  },
  {
   "cell_type": "code",
   "execution_count": null,
   "id": "fa18864d",
   "metadata": {},
   "outputs": [],
   "source": []
  },
  {
   "cell_type": "markdown",
   "id": "9a213345",
   "metadata": {},
   "source": [
    "17. Write a program to accept a string from the user and display\n",
    "characters that are present at an even index number.(Try to create\n",
    "one solution with for loop and another solution using list)"
   ]
  },
  {
   "cell_type": "code",
   "execution_count": null,
   "id": "12cdb48f",
   "metadata": {},
   "outputs": [],
   "source": []
  },
  {
   "cell_type": "markdown",
   "id": "0bb026a8",
   "metadata": {},
   "source": [
    "18. Write a program to remove characters from a string starting from\n",
    "zero up to n and return a new string."
   ]
  },
  {
   "cell_type": "code",
   "execution_count": null,
   "id": "a74404da",
   "metadata": {},
   "outputs": [],
   "source": []
  },
  {
   "cell_type": "markdown",
   "id": "e04df9e8",
   "metadata": {},
   "source": [
    "19. Write a function to return True if the first and last number of a given\n",
    "list is the same. If numbers are different then return False."
   ]
  },
  {
   "cell_type": "code",
   "execution_count": null,
   "id": "ef209680",
   "metadata": {},
   "outputs": [],
   "source": []
  },
  {
   "cell_type": "markdown",
   "id": "30fe1398",
   "metadata": {},
   "source": [
    "20.Iterate the given list of numbers and print only those numbers which\n",
    "are divisible by 5"
   ]
  },
  {
   "cell_type": "code",
   "execution_count": null,
   "id": "2b378003",
   "metadata": {},
   "outputs": [],
   "source": []
  }
 ],
 "metadata": {
  "kernelspec": {
   "display_name": "Python 3 (ipykernel)",
   "language": "python",
   "name": "python3"
  },
  "language_info": {
   "codemirror_mode": {
    "name": "ipython",
    "version": 3
   },
   "file_extension": ".py",
   "mimetype": "text/x-python",
   "name": "python",
   "nbconvert_exporter": "python",
   "pygments_lexer": "ipython3",
   "version": "3.10.0"
  }
 },
 "nbformat": 4,
 "nbformat_minor": 5
}
