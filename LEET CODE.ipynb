{
 "cells": [
  {
   "cell_type": "markdown",
   "id": "9d37b621",
   "metadata": {},
   "source": [
    "## 1) FIBANOCCI SERIES:"
   ]
  },
  {
   "cell_type": "code",
   "execution_count": 16,
   "id": "883bd712",
   "metadata": {},
   "outputs": [
    {
     "name": "stdout",
     "output_type": "stream",
     "text": [
      "Enter a number : 5\n",
      "5\n"
     ]
    }
   ],
   "source": [
    "n = int(input(\"Enter a number : \"))\n",
    "n0 = 0\n",
    "n1 = 1\n",
    "\n",
    "\n",
    "if n == 0:\n",
    "    print(0)\n",
    "elif n == 1:\n",
    "    print(1)\n",
    "else:\n",
    "    for value in range(2,n+1):\n",
    "        nth = n0 + n1\n",
    "        n0 = n1\n",
    "        n1 = nth\n",
    "print(nth)\n"
   ]
  },
  {
   "cell_type": "markdown",
   "id": "84464b7a",
   "metadata": {},
   "source": [
    "## (OR)"
   ]
  },
  {
   "cell_type": "code",
   "execution_count": 3,
   "id": "390cf263",
   "metadata": {},
   "outputs": [
    {
     "name": "stdout",
     "output_type": "stream",
     "text": [
      "How many terms? 5\n",
      "Fibonacci sequence:\n",
      "1\n",
      "1\n",
      "2\n",
      "3\n",
      "5\n"
     ]
    }
   ],
   "source": [
    "# Program to display the Fibonacci sequence up to n-th term\n",
    "\n",
    "nterms = int(input(\"How many terms? \"))\n",
    "\n",
    "# first two terms\n",
    "n1, n2 = 0, 1\n",
    "count = 0\n",
    "\n",
    "# check if the number of terms is valid\n",
    "if nterms <= 0:\n",
    "    print(\"Please enter a positive integer\")\n",
    "# if there is only one term, return n1\n",
    "elif nterms == 1:\n",
    "    print(\"Fibonacci sequence upto\",nterms,\":\")\n",
    "    print(n1)\n",
    "# generate fibonacci sequence\n",
    "else:\n",
    "    print(\"Fibonacci sequence:\")\n",
    "    while count < nterms:\n",
    "        nth = n1 + n2\n",
    "        # update values\n",
    "        n1 = n2\n",
    "        n2 = nth\n",
    "        count += 1\n",
    "        print(n1)"
   ]
  },
  {
   "cell_type": "markdown",
   "id": "c7c41207",
   "metadata": {},
   "source": [
    "## (OR)"
   ]
  },
  {
   "cell_type": "code",
   "execution_count": 5,
   "id": "20ccbf92",
   "metadata": {},
   "outputs": [],
   "source": [
    "#LEET CODE compiler solution:\n",
    "\n",
    "\n",
    "class Solution:\n",
    "    def fib(self, n: int) -> int:\n",
    "        a=0\n",
    "        b=1\n",
    "        if n==0:\n",
    "            return 0\n",
    "        if n==1:\n",
    "            return b\n",
    "        for i in range(1,n):\n",
    "            c=a+b\n",
    "            a=b\n",
    "            b=c\n",
    "        return b"
   ]
  },
  {
   "cell_type": "markdown",
   "id": "6500730e",
   "metadata": {},
   "source": [
    "## 2) You are climbing a staircase. It takes n steps to reach the top.\n",
    "    Each time you can either climb 1 or 2 steps. In how many distinct ways can you climb to the top?\n",
    "\n",
    "\n",
    "\n",
    "    Example 1:\n",
    "\n",
    "    Input: n = 2\n",
    "    Output: 2\n",
    "    Explanation: There are two ways to climb to the top.\n",
    "    1. 1 step + 1 step\n",
    "    2. 2 steps\n",
    "    Example 2:\n",
    "\n",
    "    Input: n = 3\n",
    "    Output: 3\n",
    "    Explanation: There are three ways to climb to the top.\n",
    "    1. 1 step + 1 step + 1 step\n",
    "    2. 1 step + 2 steps\n",
    "    3. 2 steps + 1 step"
   ]
  },
  {
   "cell_type": "code",
   "execution_count": 51,
   "id": "8efa85c7",
   "metadata": {},
   "outputs": [
    {
     "name": "stdout",
     "output_type": "stream",
     "text": [
      "Enter a number : 5\n",
      "8\n"
     ]
    }
   ],
   "source": [
    "n = int(input(\"Enter a number : \"))\n",
    "n1 = 1\n",
    "n2 = 2\n",
    "\n",
    "if n == 0:\n",
    "    print(0)\n",
    "elif n == 1:\n",
    "    print(1)\n",
    "elif n == 2:\n",
    "    print(2)\n",
    "else:\n",
    "    for value in range(3,n+1):\n",
    "        nth = n1 + n2\n",
    "        n1 = n2\n",
    "        n2 = nth\n",
    "    print(nth)\n"
   ]
  },
  {
   "cell_type": "markdown",
   "id": "669fdcdf",
   "metadata": {},
   "source": [
    "## 3)"
   ]
  },
  {
   "cell_type": "markdown",
   "id": "e489f124",
   "metadata": {},
   "source": [
    "## You are given an integer array cost where cost[i] is the cost of ith step on a staircase. Once you pay the cost, you can either climb one or two steps.\n",
    "\n",
    "You can either start from the step with index 0, or the step with index 1.\n",
    "\n",
    "Return the minimum cost to reach the top of the floor.\n",
    "\n",
    " \n",
    "\n",
    "    Example 1:\n",
    "\n",
    "    Input: cost = [10,15,20]\n",
    "    Output: 15\n",
    "    Explanation: You will start at index 1.\n",
    "    - Pay 15 and climb two steps to reach the top.\n",
    "    The total cost is 15.\n",
    "    Example 2:\n",
    "\n",
    "    Input: cost = [1,100,1,1,1,100,1,1,100,1]\n",
    "    Output: 6\n",
    "    Explanation: You will start at index 0.\n",
    "    - Pay 1 and climb two steps to reach index 2.\n",
    "    - Pay 1 and climb two steps to reach index 4.\n",
    "    - Pay 1 and climb two steps to reach index 6.\n",
    "    - Pay 1 and climb one step to reach index 7.\n",
    "    - Pay 1 and climb two steps to reach index 9.\n",
    "    - Pay 1 and climb one step to reach the top.\n",
    "    The total cost is 6."
   ]
  },
  {
   "cell_type": "code",
   "execution_count": 33,
   "id": "40cd3b01",
   "metadata": {},
   "outputs": [
    {
     "name": "stdout",
     "output_type": "stream",
     "text": [
      "1\n",
      "204\n",
      "2\n",
      "2\n",
      "3\n",
      "717\n",
      "4\n",
      "4731\n",
      "104\n",
      "47397\n"
     ]
    }
   ],
   "source": [
    "cost = [1,100,1,1,1,100,1,1,100,1]\n",
    "length = len(cost)\n",
    "\n",
    "\n",
    "for index in range(0,length):\n",
    "    if index == 0:\n",
    "        ETotal = cost[index]\n",
    "    else:\n",
    "        ETotal = cost[index] + cost[index-2]\n",
    "        cost[index-2] = cost[index]\n",
    "        cost[index] = ETotal\n",
    "\n",
    "    for index in range(1,length,2):\n",
    "        if index == 1:\n",
    "            OTotal = cost[index]\n",
    "        else:\n",
    "            OTotal = cost[index] + cost[index-2]\n",
    "            cost[index-2] = cost[index]\n",
    "            cost[index] = OTotal\n",
    "\n",
    "\n",
    "    if ETotal >= OTotal:\n",
    "        print(OTotal)\n",
    "    else:\n",
    "        print(ETotal)\n"
   ]
  },
  {
   "cell_type": "code",
   "execution_count": 34,
   "id": "6024fbcc",
   "metadata": {},
   "outputs": [
    {
     "data": {
      "text/plain": [
       "47397"
      ]
     },
     "execution_count": 34,
     "metadata": {},
     "output_type": "execute_result"
    }
   ],
   "source": [
    "ETotal"
   ]
  },
  {
   "cell_type": "code",
   "execution_count": 81,
   "id": "f445f2fb",
   "metadata": {},
   "outputs": [
    {
     "data": {
      "text/plain": [
       "203"
      ]
     },
     "execution_count": 81,
     "metadata": {},
     "output_type": "execute_result"
    }
   ],
   "source": [
    "OTotal"
   ]
  },
  {
   "cell_type": "code",
   "execution_count": 35,
   "id": "9105dad0",
   "metadata": {},
   "outputs": [],
   "source": [
    "cost = [1,100,1,1,1,100,1,1,100,1]\n",
    "length = len(cost)\n",
    "\n",
    "\n",
    "for index in range(0,length):\n",
    "    if index == 0:\n",
    "        ETotal = cost[index]\n",
    "    else:\n",
    "        ETotal = cost[index] + cost[index-1]\n",
    "        cost[index-1] = cost[index]\n",
    "        cost[index] = ETotal"
   ]
  },
  {
   "cell_type": "code",
   "execution_count": 36,
   "id": "9cfbf042",
   "metadata": {},
   "outputs": [
    {
     "data": {
      "text/plain": [
       "307"
      ]
     },
     "execution_count": 36,
     "metadata": {},
     "output_type": "execute_result"
    }
   ],
   "source": [
    "ETotal"
   ]
  },
  {
   "cell_type": "code",
   "execution_count": 37,
   "id": "229dba47",
   "metadata": {},
   "outputs": [
    {
     "name": "stdout",
     "output_type": "stream",
     "text": [
      "1\n",
      "1\n",
      "1\n",
      "1\n"
     ]
    }
   ],
   "source": [
    "cost = [1,100,1,1,1,100,1,1,100,1]\n",
    "length = len(cost)\n",
    "Total = 0\n",
    "\n",
    "    \n",
    "for index in range(0,length):\n",
    "    if index == 0:\n",
    "        Total = Total + cost[index]\n",
    "        print(Total)\n",
    "    elif cost[index] > cost[index-1]:\n",
    "        Total = Total + cost[index-1]\n",
    "        print(cost[index-1])\n",
    "    else:\n",
    "        Total = Total + cost[index]\n",
    "        "
   ]
  },
  {
   "cell_type": "code",
   "execution_count": 38,
   "id": "401466d4",
   "metadata": {},
   "outputs": [
    {
     "data": {
      "text/plain": [
       "10"
      ]
     },
     "execution_count": 38,
     "metadata": {},
     "output_type": "execute_result"
    }
   ],
   "source": [
    "Total"
   ]
  },
  {
   "cell_type": "markdown",
   "id": "cdbfae12",
   "metadata": {},
   "source": [
    "### (ANS)"
   ]
  },
  {
   "cell_type": "code",
   "execution_count": 10,
   "id": "3e5b59f3",
   "metadata": {},
   "outputs": [
    {
     "name": "stdout",
     "output_type": "stream",
     "text": [
      "25\n"
     ]
    }
   ],
   "source": [
    "#cost = [0,1,1,1]\n",
    "#cost = [1,100,1,1,1,100,1,1,100,1]\n",
    "cost = [10,15,20]\n",
    "\n",
    "length = len(cost)\n",
    "eTotal = 0\n",
    "oTotal = 0\n",
    "\n",
    "index = 0\n",
    "\n",
    "while index  < length - 1:\n",
    "    if cost[index] > cost[index + 1]:\n",
    "        eTotal = eTotal + cost[index + 1]\n",
    "        index = index + 2\n",
    "    elif cost[index] == cost[index + 1]:\n",
    "        eTotal = eTotal + cost[index + 1]\n",
    "        index = index + 2    \n",
    "    elif cost[index] < cost[index + 1]:\n",
    "        eTotal = eTotal + cost[index]\n",
    "        index = index + 1\n",
    "        \n",
    "index = 1\n",
    "\n",
    "while index  < length - 1:\n",
    "    if index == 1:\n",
    "        oTotal = cost[1] \n",
    "    if cost[index] > cost[index + 1]:\n",
    "        oTotal = oTotal + cost[index + 1]\n",
    "        index = index + 2\n",
    "    elif cost[index] == cost[index + 1]:\n",
    "        oTotal = oTotal + cost[index + 1]\n",
    "        index = index + 2    \n",
    "    elif cost[index] < cost[index + 1]:\n",
    "        oTotal = oTotal + cost[index]\n",
    "        index = index + 1\n",
    "        \n",
    "\n",
    "if eTotal > oTotal:\n",
    "    print(oTotal)\n",
    "else:\n",
    "    print(eTotal)"
   ]
  },
  {
   "cell_type": "code",
   "execution_count": 11,
   "id": "2bca22c4",
   "metadata": {},
   "outputs": [
    {
     "data": {
      "text/plain": [
       "30"
      ]
     },
     "execution_count": 11,
     "metadata": {},
     "output_type": "execute_result"
    }
   ],
   "source": [
    "oTotal"
   ]
  },
  {
   "cell_type": "code",
   "execution_count": 12,
   "id": "fd08657c",
   "metadata": {},
   "outputs": [
    {
     "data": {
      "text/plain": [
       "25"
      ]
     },
     "execution_count": 12,
     "metadata": {},
     "output_type": "execute_result"
    }
   ],
   "source": [
    "eTotal"
   ]
  },
  {
   "cell_type": "code",
   "execution_count": null,
   "id": "b6f99fff",
   "metadata": {},
   "outputs": [],
   "source": []
  },
  {
   "cell_type": "code",
   "execution_count": null,
   "id": "e46d7aa1",
   "metadata": {},
   "outputs": [],
   "source": []
  },
  {
   "cell_type": "code",
   "execution_count": 42,
   "id": "5ef47b11",
   "metadata": {},
   "outputs": [
    {
     "name": "stdout",
     "output_type": "stream",
     "text": [
      "30\n"
     ]
    }
   ],
   "source": [
    "cost = [10,15,20]\n",
    "\n",
    "length = len(cost)\n",
    "eTotal = 0\n",
    "oTotal = 0\n",
    "\n",
    "index = 0\n",
    "\n",
    "while index  < length - 2:\n",
    "    if index == 0:\n",
    "        eTotal = cost[index]\n",
    "        cost[index + 1] >= cost[index + 2]\n",
    "        eTotal = eTotal + cost[index + 2]\n",
    "        index = index + 2\n",
    "    elif cost[index + 1] >= cost[index + 2]:\n",
    "        eTotal = eTotal + cost[index + 2]\n",
    "        index = index + 2\n",
    "\n",
    "    elif cost[index + 1] < cost[index + 2]:\n",
    "        eTotal = eTotal + cost[index]\n",
    "        index = index + 1\n",
    "        \n",
    "index = 1\n",
    "\n",
    "while index  < length - 1:\n",
    "    if index == 1:\n",
    "        oTotal = cost[index] \n",
    "        cost[index] >= cost[index + 1]\n",
    "        oTotal = oTotal + cost[index + 1]\n",
    "        index = index + 1\n",
    "    elif cost[index] >= cost[index + 1]:\n",
    "        oTotal = oTotal + cost[index + 1]\n",
    "        index = index + 1\n",
    "       \n",
    "    elif cost[index] < cost[index + 1]:\n",
    "        oTotal = oTotal + cost[index]\n",
    "        index = index + 1\n",
    "        \n",
    "\n",
    "if eTotal > oTotal:\n",
    "    print(oTotal)\n",
    "else:\n",
    "    print(eTotal)"
   ]
  },
  {
   "cell_type": "code",
   "execution_count": 43,
   "id": "9c703368",
   "metadata": {},
   "outputs": [
    {
     "data": {
      "text/plain": [
       "30"
      ]
     },
     "execution_count": 43,
     "metadata": {},
     "output_type": "execute_result"
    }
   ],
   "source": [
    "eTotal"
   ]
  },
  {
   "cell_type": "code",
   "execution_count": 44,
   "id": "ad402f5c",
   "metadata": {},
   "outputs": [
    {
     "data": {
      "text/plain": [
       "35"
      ]
     },
     "execution_count": 44,
     "metadata": {},
     "output_type": "execute_result"
    }
   ],
   "source": [
    "oTotal"
   ]
  },
  {
   "cell_type": "code",
   "execution_count": 194,
   "id": "b32eb4c9",
   "metadata": {},
   "outputs": [],
   "source": [
    "cost = [1,100,1,1,1,100,1,1,100,1]\n",
    "total = 0\n",
    "length = len(cost)\n",
    "\n",
    "for index in range(length-1):\n",
    "    total = total + min(cost[index],cost[index + 1])\n",
    "    "
   ]
  },
  {
   "cell_type": "code",
   "execution_count": 195,
   "id": "9276e72c",
   "metadata": {},
   "outputs": [
    {
     "data": {
      "text/plain": [
       "9"
      ]
     },
     "execution_count": 195,
     "metadata": {},
     "output_type": "execute_result"
    }
   ],
   "source": [
    "total"
   ]
  },
  {
   "cell_type": "markdown",
   "id": "bc4cfdea",
   "metadata": {},
   "source": [
    "### ANS)"
   ]
  },
  {
   "cell_type": "code",
   "execution_count": 56,
   "id": "1937c585",
   "metadata": {},
   "outputs": [
    {
     "name": "stdout",
     "output_type": "stream",
     "text": [
      "6\n"
     ]
    }
   ],
   "source": [
    "cost = [1,100,1,1,1,100,1,1,100,1]\n",
    "\n",
    "if len(cost)==2:\n",
    "    print(min(cost))\n",
    "\n",
    "new=[0]*len(cost)\n",
    "\n",
    "new[0]=cost[0]\n",
    "new[1]=cost[1]\n",
    "\n",
    "for i in range(2,len(cost)):\n",
    "    new[i]=min(new[i-1],new[i-2])+cost[i]\n",
    "\n",
    "print(min(new[-1],new[-2]))"
   ]
  },
  {
   "cell_type": "code",
   "execution_count": null,
   "id": "3537a681",
   "metadata": {},
   "outputs": [],
   "source": []
  },
  {
   "cell_type": "code",
   "execution_count": null,
   "id": "3cd75b1c",
   "metadata": {},
   "outputs": [],
   "source": []
  },
  {
   "cell_type": "code",
   "execution_count": null,
   "id": "1339d383",
   "metadata": {},
   "outputs": [],
   "source": []
  },
  {
   "cell_type": "markdown",
   "id": "deabf638",
   "metadata": {},
   "source": [
    "### 4) Given an array of integers nums and an integer target, return indices of the two numbers such that they add up to target.\n",
    "\n",
    "    You may assume that each input would have exactly one solution, and you may not use the same element twice.\n",
    "\n",
    "    You can return the answer in any order.\n",
    "\n",
    "\n",
    "\n",
    "    Example 1:\n",
    "\n",
    "    Input: nums = [2,7,11,15], target = 9\n",
    "    Output: [0,1]\n",
    "    Explanation: Because nums[0] + nums[1] == 9, we return [0, 1].\n",
    "    Example 2:\n",
    "\n",
    "    Input: nums = [3,2,4], target = 6\n",
    "    Output: [1,2]\n",
    "    Example 3:\n",
    "\n",
    "    Input: nums = [3,3], target = 6\n",
    "    Output: [0,1]"
   ]
  },
  {
   "cell_type": "code",
   "execution_count": null,
   "id": "19a6ccf1",
   "metadata": {},
   "outputs": [],
   "source": []
  },
  {
   "cell_type": "code",
   "execution_count": null,
   "id": "0eb2b8b8",
   "metadata": {},
   "outputs": [],
   "source": []
  },
  {
   "cell_type": "code",
   "execution_count": null,
   "id": "47fcb0cd",
   "metadata": {},
   "outputs": [],
   "source": []
  },
  {
   "cell_type": "markdown",
   "id": "1a9d77fa",
   "metadata": {},
   "source": [
    "### 5) You are a professional robber planning to rob houses along a street. Each house has a certain amount of money stashed, the only constraint stopping you from robbing each of them is that adjacent houses have security systems connected and it will automatically contact the police if two adjacent houses were broken into on the same night.\n",
    "\n",
    "    Given an integer array nums representing the amount of money of each house, return the maximum amount of money you can rob tonight without alerting the police.\n",
    "\n",
    " \n",
    "\n",
    "    Example 1:\n",
    "\n",
    "    Input: nums = [1,2,3,1]\n",
    "    Output: 4\n",
    "    Explanation: Rob house 1 (money = 1) and then rob house 3 (money = 3).\n",
    "    Total amount you can rob = 1 + 3 = 4.\n",
    "    Example 2:\n",
    "\n",
    "    Input: nums = [2,7,9,3,1]\n",
    "    Output: 12\n",
    "    Explanation: Rob house 1 (money = 2), rob house 3 (money = 9) and rob house 5 (money = 1).\n",
    "    Total amount you can rob = 2 + 9 + 1 = 12."
   ]
  },
  {
   "cell_type": "code",
   "execution_count": 94,
   "id": "df3d2dbf",
   "metadata": {},
   "outputs": [
    {
     "name": "stdout",
     "output_type": "stream",
     "text": [
      "13\n"
     ]
    }
   ],
   "source": [
    "nums = [2,7,9,3,1]            #NOt The answer\n",
    "length = len(nums)\n",
    "etotal = 0\n",
    "ototal = 0\n",
    "        \n",
    "\n",
    "if len(nums)==2:\n",
    "    print(min(nums))\n",
    "\n",
    "new=[0]*len(nums)\n",
    "\n",
    "new[0]=nums[0]\n",
    "new[1]=nums[1]\n",
    "new[2]=nums[2]\n",
    "\n",
    "for i in range(3,len(nums)):\n",
    "    new[i]=max(new[i-1],new[i-3])+nums[i]\n",
    "\n",
    "print(max(new[-1],new[-2]))"
   ]
  },
  {
   "cell_type": "code",
   "execution_count": null,
   "id": "c19a0bb3",
   "metadata": {},
   "outputs": [],
   "source": []
  },
  {
   "cell_type": "code",
   "execution_count": null,
   "id": "f5d40595",
   "metadata": {},
   "outputs": [],
   "source": []
  },
  {
   "cell_type": "code",
   "execution_count": null,
   "id": "b781f8f6",
   "metadata": {},
   "outputs": [],
   "source": []
  },
  {
   "cell_type": "code",
   "execution_count": null,
   "id": "6575eedb",
   "metadata": {},
   "outputs": [],
   "source": []
  },
  {
   "cell_type": "code",
   "execution_count": null,
   "id": "1e40f67a",
   "metadata": {},
   "outputs": [],
   "source": []
  }
 ],
 "metadata": {
  "kernelspec": {
   "display_name": "Python 3 (ipykernel)",
   "language": "python",
   "name": "python3"
  },
  "language_info": {
   "codemirror_mode": {
    "name": "ipython",
    "version": 3
   },
   "file_extension": ".py",
   "mimetype": "text/x-python",
   "name": "python",
   "nbconvert_exporter": "python",
   "pygments_lexer": "ipython3",
   "version": "3.10.0"
  }
 },
 "nbformat": 4,
 "nbformat_minor": 5
}
