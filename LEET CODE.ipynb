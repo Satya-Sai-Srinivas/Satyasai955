{
 "cells": [
  {
   "cell_type": "markdown",
   "id": "9d37b621",
   "metadata": {},
   "source": [
    "## 1) FIBANOCCI SERIES:"
   ]
  },
  {
   "cell_type": "code",
   "execution_count": 16,
   "id": "883bd712",
   "metadata": {},
   "outputs": [
    {
     "name": "stdout",
     "output_type": "stream",
     "text": [
      "Enter a number : 5\n",
      "5\n"
     ]
    }
   ],
   "source": [
    "n = int(input(\"Enter a number : \"))\n",
    "n0 = 0\n",
    "n1 = 1\n",
    "\n",
    "\n",
    "if n == 0:\n",
    "    print(0)\n",
    "elif n == 1:\n",
    "    print(1)\n",
    "else:\n",
    "    for value in range(2,n+1):\n",
    "        nth = n0 + n1\n",
    "        n0 = n1\n",
    "        n1 = nth\n",
    "print(nth)\n"
   ]
  },
  {
   "cell_type": "markdown",
   "id": "84464b7a",
   "metadata": {},
   "source": [
    "## (OR)"
   ]
  },
  {
   "cell_type": "code",
   "execution_count": 3,
   "id": "390cf263",
   "metadata": {},
   "outputs": [
    {
     "name": "stdout",
     "output_type": "stream",
     "text": [
      "How many terms? 5\n",
      "Fibonacci sequence:\n",
      "1\n",
      "1\n",
      "2\n",
      "3\n",
      "5\n"
     ]
    }
   ],
   "source": [
    "# Program to display the Fibonacci sequence up to n-th term\n",
    "\n",
    "nterms = int(input(\"How many terms? \"))\n",
    "\n",
    "# first two terms\n",
    "n1, n2 = 0, 1\n",
    "count = 0\n",
    "\n",
    "# check if the number of terms is valid\n",
    "if nterms <= 0:\n",
    "    print(\"Please enter a positive integer\")\n",
    "# if there is only one term, return n1\n",
    "elif nterms == 1:\n",
    "    print(\"Fibonacci sequence upto\",nterms,\":\")\n",
    "    print(n1)\n",
    "# generate fibonacci sequence\n",
    "else:\n",
    "    print(\"Fibonacci sequence:\")\n",
    "    while count < nterms:\n",
    "        nth = n1 + n2\n",
    "        # update values\n",
    "        n1 = n2\n",
    "        n2 = nth\n",
    "        count += 1\n",
    "        print(n1)"
   ]
  },
  {
   "cell_type": "markdown",
   "id": "c7c41207",
   "metadata": {},
   "source": [
    "## (OR)"
   ]
  },
  {
   "cell_type": "code",
   "execution_count": 5,
   "id": "20ccbf92",
   "metadata": {},
   "outputs": [],
   "source": [
    "#LEET CODE compiler solution:\n",
    "\n",
    "\n",
    "class Solution:\n",
    "    def fib(self, n: int) -> int:\n",
    "        a=0\n",
    "        b=1\n",
    "        if n==0:\n",
    "            return 0\n",
    "        if n==1:\n",
    "            return b\n",
    "        for i in range(1,n):\n",
    "            c=a+b\n",
    "            a=b\n",
    "            b=c\n",
    "        return b"
   ]
  },
  {
   "cell_type": "markdown",
   "id": "6500730e",
   "metadata": {},
   "source": [
    "## 2) You are climbing a staircase. It takes n steps to reach the top.\n",
    "    Each time you can either climb 1 or 2 steps. In how many distinct ways can you climb to the top?\n",
    "\n",
    "\n",
    "\n",
    "    Example 1:\n",
    "\n",
    "    Input: n = 2\n",
    "    Output: 2\n",
    "    Explanation: There are two ways to climb to the top.\n",
    "    1. 1 step + 1 step\n",
    "    2. 2 steps\n",
    "    Example 2:\n",
    "\n",
    "    Input: n = 3\n",
    "    Output: 3\n",
    "    Explanation: There are three ways to climb to the top.\n",
    "    1. 1 step + 1 step + 1 step\n",
    "    2. 1 step + 2 steps\n",
    "    3. 2 steps + 1 step"
   ]
  },
  {
   "cell_type": "code",
   "execution_count": 51,
   "id": "8efa85c7",
   "metadata": {},
   "outputs": [
    {
     "name": "stdout",
     "output_type": "stream",
     "text": [
      "Enter a number : 5\n",
      "8\n"
     ]
    }
   ],
   "source": [
    "n = int(input(\"Enter a number : \"))\n",
    "n1 = 1\n",
    "n2 = 2\n",
    "\n",
    "if n == 0:\n",
    "    print(0)\n",
    "elif n == 1:\n",
    "    print(1)\n",
    "elif n == 2:\n",
    "    print(2)\n",
    "else:\n",
    "    for value in range(3,n+1):\n",
    "        nth = n1 + n2\n",
    "        n1 = n2\n",
    "        n2 = nth\n",
    "    print(nth)\n"
   ]
  },
  {
   "cell_type": "markdown",
   "id": "669fdcdf",
   "metadata": {},
   "source": [
    "## 3)"
   ]
  },
  {
   "cell_type": "markdown",
   "id": "e489f124",
   "metadata": {},
   "source": [
    "## You are given an integer array cost where cost[i] is the cost of ith step on a staircase. Once you pay the cost, you can either climb one or two steps.\n",
    "\n",
    "You can either start from the step with index 0, or the step with index 1.\n",
    "\n",
    "Return the minimum cost to reach the top of the floor.\n",
    "\n",
    " \n",
    "\n",
    "    Example 1:\n",
    "\n",
    "    Input: cost = [10,15,20]\n",
    "    Output: 15\n",
    "    Explanation: You will start at index 1.\n",
    "    - Pay 15 and climb two steps to reach the top.\n",
    "    The total cost is 15.\n",
    "    Example 2:\n",
    "\n",
    "    Input: cost = [1,100,1,1,1,100,1,1,100,1]\n",
    "    Output: 6\n",
    "    Explanation: You will start at index 0.\n",
    "    - Pay 1 and climb two steps to reach index 2.\n",
    "    - Pay 1 and climb two steps to reach index 4.\n",
    "    - Pay 1 and climb two steps to reach index 6.\n",
    "    - Pay 1 and climb one step to reach index 7.\n",
    "    - Pay 1 and climb two steps to reach index 9.\n",
    "    - Pay 1 and climb one step to reach the top.\n",
    "    The total cost is 6."
   ]
  },
  {
   "cell_type": "code",
   "execution_count": null,
   "id": "40cd3b01",
   "metadata": {},
   "outputs": [],
   "source": [
    "cost = [1,100,1,1,1,100,1,1,100,1]\n",
    "length = len(cost)\n",
    "\n",
    "\n",
    "for index in range(0,length):\n",
    "    if index == 0:\n",
    "        ETotal = cost[index]\n",
    "    else:\n",
    "        ETotal = cost[index] + cost[index-2]\n",
    "        cost[index-2] = cost[index]\n",
    "        cost[index] = ETotal\n",
    "\n",
    "    for index in range(1,length,2):\n",
    "        if index == 1:\n",
    "            OTotal = cost[index]\n",
    "        else:\n",
    "            OTotal = cost[index] + cost[index-2]\n",
    "            cost[index-2] = cost[index]\n",
    "            cost[index] = OTotal\n",
    "\n",
    "\n",
    "    if ETotal >= OTotal:\n",
    "        print(OTotal)\n",
    "    else:\n",
    "        print(ETotal)\n"
   ]
  },
  {
   "cell_type": "code",
   "execution_count": 80,
   "id": "6024fbcc",
   "metadata": {},
   "outputs": [
    {
     "data": {
      "text/plain": [
       "104"
      ]
     },
     "execution_count": 80,
     "metadata": {},
     "output_type": "execute_result"
    }
   ],
   "source": [
    "ETotal"
   ]
  },
  {
   "cell_type": "code",
   "execution_count": 81,
   "id": "f445f2fb",
   "metadata": {},
   "outputs": [
    {
     "data": {
      "text/plain": [
       "203"
      ]
     },
     "execution_count": 81,
     "metadata": {},
     "output_type": "execute_result"
    }
   ],
   "source": [
    "OTotal"
   ]
  },
  {
   "cell_type": "code",
   "execution_count": 86,
   "id": "9105dad0",
   "metadata": {},
   "outputs": [],
   "source": [
    "cost = [1,100,1,1,1,100,1,1,100,1]\n",
    "length = len(cost)\n",
    "\n",
    "\n",
    "for index in range(0,length):\n",
    "    if index == 0:\n",
    "        ETotal = cost[index]\n",
    "    else:\n",
    "        ETotal = cost[index] + cost[index-1]\n",
    "        cost[index-1] = cost[index]\n",
    "        cost[index] = ETotal"
   ]
  },
  {
   "cell_type": "code",
   "execution_count": 87,
   "id": "9cfbf042",
   "metadata": {},
   "outputs": [
    {
     "data": {
      "text/plain": [
       "307"
      ]
     },
     "execution_count": 87,
     "metadata": {},
     "output_type": "execute_result"
    }
   ],
   "source": [
    "ETotal"
   ]
  },
  {
   "cell_type": "code",
   "execution_count": 92,
   "id": "229dba47",
   "metadata": {},
   "outputs": [
    {
     "name": "stdout",
     "output_type": "stream",
     "text": [
      "1\n",
      "1\n",
      "1\n",
      "1\n"
     ]
    }
   ],
   "source": [
    "cost = [1,100,1,1,1,100,1,1,100,1]\n",
    "length = len(cost)\n",
    "Total = 0\n",
    "\n",
    "    \n",
    "for index in range(0,length):\n",
    "    if index == 0:\n",
    "        Total = Total + cost[index]\n",
    "        print(Total)\n",
    "    elif cost[index] > cost[index-1]:\n",
    "        Total = Total + cost[index-1]\n",
    "        print(cost[index-1])\n",
    "    else:\n",
    "        Total = Total + cost[index]\n",
    "        "
   ]
  },
  {
   "cell_type": "code",
   "execution_count": 93,
   "id": "401466d4",
   "metadata": {},
   "outputs": [
    {
     "data": {
      "text/plain": [
       "10"
      ]
     },
     "execution_count": 93,
     "metadata": {},
     "output_type": "execute_result"
    }
   ],
   "source": [
    "Total"
   ]
  },
  {
   "cell_type": "markdown",
   "id": "cdbfae12",
   "metadata": {},
   "source": [
    "### (ANS)"
   ]
  },
  {
   "cell_type": "code",
   "execution_count": 223,
   "id": "3e5b59f3",
   "metadata": {},
   "outputs": [],
   "source": [
    "cost = [1,100,1,1,1,100,1,1,100,1]\n",
    "cost = [10,15,20] \n",
    "cost = [0,1,1,1]\n",
    "length = len(cost)\n",
    "ETotal = 0\n",
    "OTotal = 0\n",
    "index = 0\n",
    "index1 = 1\n",
    "\n",
    "while index < length - 2:\n",
    "    if index == 0:\n",
    "        ETotal = cost[index]\n",
    "        index = index + 1\n",
    "    elif cost[index] < cost[index + 1]:\n",
    "        ETotal = ETotal + cost[index]\n",
    "        index = index + 1\n",
    "    elif cost[index] == cost[index + 1]:\n",
    "        ETotal = ETotal + cost[index + 1]\n",
    "        index = index + 1\n",
    "    else:\n",
    "        ETotal = ETotal + cost[index + 1]\n",
    "        index = index + 1\n",
    "        \n",
    "        \n",
    "while index1 < length - 2:\n",
    "    if index1 == 1:\n",
    "        OTotal = cost[index1]\n",
    "        index1 = index1 + 1\n",
    "    if cost[index1 + 1] <= cost[index1 + 2]:\n",
    "        OTotal = OTotal + cost[index1 + 1]\n",
    "        index1 = index1 + 1\n",
    "    elif cost[index1 + 1] == cost[index1 + 2]:\n",
    "        OTotal = OTotal + cost[index1 + 2]\n",
    "        index1 = index1 + 2    \n",
    "    else:\n",
    "        OTotal = OTotal + cost[index1 + 2]\n",
    "        index1 = index1 + 2\n",
    "\n",
    "    \n"
   ]
  },
  {
   "cell_type": "code",
   "execution_count": 224,
   "id": "9bf5ec03",
   "metadata": {},
   "outputs": [
    {
     "data": {
      "text/plain": [
       "10"
      ]
     },
     "execution_count": 224,
     "metadata": {},
     "output_type": "execute_result"
    }
   ],
   "source": [
    "ETotal"
   ]
  },
  {
   "cell_type": "code",
   "execution_count": 225,
   "id": "ab3fe972",
   "metadata": {},
   "outputs": [
    {
     "data": {
      "text/plain": [
       "0"
      ]
     },
     "execution_count": 225,
     "metadata": {},
     "output_type": "execute_result"
    }
   ],
   "source": [
    "OTotal"
   ]
  },
  {
   "cell_type": "code",
   "execution_count": null,
   "id": "2bca22c4",
   "metadata": {},
   "outputs": [],
   "source": []
  },
  {
   "cell_type": "code",
   "execution_count": 228,
   "id": "a0e04168",
   "metadata": {},
   "outputs": [],
   "source": [
    "cost = [1,100,1,1,1,100,1,1,100,1]\n",
    "\n",
    "if cost[0] > cost [1]:\n",
    "    index = 1\n",
    "else:\n",
    "    index = 0"
   ]
  },
  {
   "cell_type": "code",
   "execution_count": null,
   "id": "0d88e0d7",
   "metadata": {},
   "outputs": [],
   "source": []
  },
  {
   "cell_type": "code",
   "execution_count": null,
   "id": "fd3b6b03",
   "metadata": {},
   "outputs": [],
   "source": []
  },
  {
   "cell_type": "code",
   "execution_count": null,
   "id": "fd08657c",
   "metadata": {},
   "outputs": [],
   "source": []
  },
  {
   "cell_type": "code",
   "execution_count": null,
   "id": "4f635951",
   "metadata": {},
   "outputs": [],
   "source": []
  },
  {
   "cell_type": "code",
   "execution_count": null,
   "id": "9c703368",
   "metadata": {},
   "outputs": [],
   "source": []
  },
  {
   "cell_type": "code",
   "execution_count": null,
   "id": "b32eb4c9",
   "metadata": {},
   "outputs": [],
   "source": []
  },
  {
   "cell_type": "code",
   "execution_count": null,
   "id": "9276e72c",
   "metadata": {},
   "outputs": [],
   "source": []
  },
  {
   "cell_type": "code",
   "execution_count": null,
   "id": "feeb9f13",
   "metadata": {},
   "outputs": [],
   "source": []
  }
 ],
 "metadata": {
  "kernelspec": {
   "display_name": "Python 3 (ipykernel)",
   "language": "python",
   "name": "python3"
  },
  "language_info": {
   "codemirror_mode": {
    "name": "ipython",
    "version": 3
   },
   "file_extension": ".py",
   "mimetype": "text/x-python",
   "name": "python",
   "nbconvert_exporter": "python",
   "pygments_lexer": "ipython3",
   "version": "3.10.0"
  }
 },
 "nbformat": 4,
 "nbformat_minor": 5
}
